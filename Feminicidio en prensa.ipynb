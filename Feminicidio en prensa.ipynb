{
 "cells": [
  {
   "cell_type": "code",
   "execution_count": 1,
   "metadata": {},
   "outputs": [],
   "source": [
    "import requests\n",
    "from bs4 import BeautifulSoup\n",
    "import pandas as pd\n",
    "from selenium import webdriver"
   ]
  },
  {
   "cell_type": "code",
   "execution_count": 2,
   "metadata": {},
   "outputs": [],
   "source": [
    "#CASO 1 - EL UNIVERSAL\n",
    "#Pido request\n",
    "url1 = 'https://www.eluniversal.com.mx/tag/feminicidios'\n",
    "html = requests.get(url1).content"
   ]
  },
  {
   "cell_type": "code",
   "execution_count": 3,
   "metadata": {},
   "outputs": [],
   "source": [
    "#Creo una sopa y la 'hago bonita' para que los elementos sean más fáciles de identificar\n",
    "soup = BeautifulSoup(html,'lxml')\n",
    "#print(soup.prettify())"
   ]
  },
  {
   "cell_type": "code",
   "execution_count": 4,
   "metadata": {},
   "outputs": [],
   "source": [
    "#Selecciono los titulares de cada noticia\n",
    "noticias1 = soup.find_all('h3', {'class': 'ce9-TemasRelacionadosImagen_Titulo'})\n",
    "#noticias1"
   ]
  },
  {
   "cell_type": "code",
   "execution_count": 5,
   "metadata": {},
   "outputs": [
    {
     "name": "stdout",
     "output_type": "stream",
     "text": [
      "['Nueva jornada de protestas en Cancún termina con personas lesionadas, detenidos y daños', 'Vandalizan en protesta edificios públicos, en Cancún', 'Protestan en zona hotelera de Cancún por feminicidios', 'Protesta contra feminicidios llega por primera vez a zona turística de Quintana Roo', 'Colectivos y familiares de víctimas piden justicia por feminicidios en Toluca', 'Protestan mujeres contra feminicidios; reportan daños a estaciones de L7 del Metrobús', 'A Wendy le rociaron gasolina y prendieron fuego en Oaxaca; hay un detenido', 'Exhortan a respetar marchas', 'Despiden a Alexis; la recuerdan como defensora de las mujeres']\n"
     ]
    },
    {
     "data": {
      "text/plain": [
       "9"
      ]
     },
     "execution_count": 5,
     "metadata": {},
     "output_type": "execute_result"
    }
   ],
   "source": [
    "#Limpiar titulares y agregarlos a una primera lista - son 9 noticias apenas\n",
    "clean1= [element.text.strip() for element in noticias1]\n",
    "print(clean1)\n",
    "len(clean1)"
   ]
  },
  {
   "cell_type": "code",
   "execution_count": 7,
   "metadata": {},
   "outputs": [],
   "source": [
    "#Pido request para página 2\n",
    "url2 = 'https://www.eluniversal.com.mx/tag/feminicidios?page=1'\n",
    "html = requests.get(url2).content"
   ]
  },
  {
   "cell_type": "code",
   "execution_count": 8,
   "metadata": {},
   "outputs": [],
   "source": [
    "#Creo una sopa y la 'hago bonita' para que los elementos sean más fáciles de identificar\n",
    "soup = BeautifulSoup(html,'lxml')\n",
    "#print(soup.prettify())"
   ]
  },
  {
   "cell_type": "code",
   "execution_count": 9,
   "metadata": {},
   "outputs": [],
   "source": [
    "#Selecciono los titulares de cada noticia\n",
    "noticias2 = soup.find_all('h3', {'class': 'ce9-TemasRelacionadosImagen_Titulo'})\n",
    "#noticias2"
   ]
  },
  {
   "cell_type": "code",
   "execution_count": 10,
   "metadata": {},
   "outputs": [
    {
     "name": "stdout",
     "output_type": "stream",
     "text": [
      "['\"Justicia por Karla y las que nos faltan”, exigen con marcha en Toluca', 'Encapuchadas protestan en la Roma contra represión de policías a feministas en Cancún', 'Lo que sabemos del feminicidio de Alexis en Quintana Roo', 'Feministas colocan ofrendas a víctimas', 'Fernanda, Verónica y Beatriz ya tienen ofrenda… pero no justicia', 'Con una ofrenda y veladoras, feministas recuerdan a mujeres asesinadas en Oaxaca', 'En la FGJ se está acabando la revictimización de mujeres y se les garantiza justicia: Godoy Ramos', 'Edomex suma 106 feminicidios en lo que va del año: Sistema Nacional de Seguridad Pública', 'Presentan documental sobre Primera Caravana contra feminicidios en Ecatepec', 'Destruyen\\xa0ofrenda que colocó colectivo en Zumpango, Edomex\\xa0para recordar a víctimas de feminicidios']\n"
     ]
    },
    {
     "data": {
      "text/plain": [
       "10"
      ]
     },
     "execution_count": 10,
     "metadata": {},
     "output_type": "execute_result"
    }
   ],
   "source": [
    "#Limpiar titulares y agregarlos a una segunda lista - son 10 noticias \n",
    "clean2= [element.text.strip() for element in noticias2]\n",
    "print(clean2)\n",
    "len(clean2)"
   ]
  },
  {
   "cell_type": "code",
   "execution_count": 37,
   "metadata": {},
   "outputs": [],
   "source": [
    "#Pido request para página 3\n",
    "#url3 = 'https://www.eluniversal.com.mx/tag/feminicidios?page=2'\n",
    "#html = requests.get(url3).content"
   ]
  },
  {
   "cell_type": "code",
   "execution_count": 38,
   "metadata": {},
   "outputs": [],
   "source": [
    "#Creo una sopa y la 'hago bonita' para que los elementos sean más fáciles de identificar\n",
    "#soup = BeautifulSoup(html,'lxml')\n",
    "#print(soup.prettify())"
   ]
  },
  {
   "cell_type": "code",
   "execution_count": 39,
   "metadata": {},
   "outputs": [],
   "source": [
    "#Selecciono los titulares de cada noticia\n",
    "#noticias3 = soup.find_all('h3', {'class': 'ce9-TemasRelacionadosImagen_Titulo'})\n",
    "#noticias3"
   ]
  },
  {
   "cell_type": "code",
   "execution_count": 40,
   "metadata": {},
   "outputs": [],
   "source": [
    "#Limpiar titulares y agregarlos a una tercera lista - son 10 noticias\n",
    "#clean3= [element.text.strip() for element in noticias3]\n",
    "#print(clean3)\n",
    "#len(clean3)"
   ]
  },
  {
   "cell_type": "code",
   "execution_count": 41,
   "metadata": {},
   "outputs": [
    {
     "name": "stdout",
     "output_type": "stream",
     "text": [
      "['Nueva jornada de protestas en Cancún termina con personas lesionadas, detenidos y daños', 'Vandalizan en protesta edificios públicos, en Cancún', 'Protestan en zona hotelera de Cancún por feminicidios', 'Protesta contra feminicidios llega por primera vez a zona turística de Quintana Roo', 'Colectivos y familiares de víctimas piden justicia por feminicidios en Toluca', 'Protestan mujeres contra feminicidios; reportan daños a estaciones de L7 del Metrobús', 'A Wendy le rociaron gasolina y prendieron fuego en Oaxaca; hay un detenido', 'Exhortan a respetar marchas', 'Despiden a Alexis; la recuerdan como defensora de las mujeres', '\"Justicia por Karla y las que nos faltan”, exigen con marcha en Toluca', 'Encapuchadas protestan en la Roma contra represión de policías a feministas en Cancún', 'Lo que sabemos del feminicidio de Alexis en Quintana Roo', 'Feministas colocan ofrendas a víctimas', 'Fernanda, Verónica y Beatriz ya tienen ofrenda… pero no justicia', 'Con una ofrenda y veladoras, feministas recuerdan a mujeres asesinadas en Oaxaca', 'En la FGJ se está acabando la revictimización de mujeres y se les garantiza justicia: Godoy Ramos', 'Edomex suma 106 feminicidios en lo que va del año: Sistema Nacional de Seguridad Pública', 'Presentan documental sobre Primera Caravana contra feminicidios en Ecatepec', 'Destruyen\\xa0ofrenda que colocó colectivo en Zumpango, Edomex\\xa0para recordar a víctimas de feminicidios']\n"
     ]
    },
    {
     "data": {
      "text/plain": [
       "19"
      ]
     },
     "execution_count": 41,
     "metadata": {},
     "output_type": "execute_result"
    }
   ],
   "source": [
    "#Junto mis listas limpias en una sola para el caso de la prensa El Universal\n",
    "El_Universal = clean1 + clean2 \n",
    "print(El_Universal)\n",
    "len(El_Universal)"
   ]
  },
  {
   "cell_type": "code",
   "execution_count": 33,
   "metadata": {},
   "outputs": [],
   "source": [
    "#CASO 2 : La prensa\n",
    "# Genero request para el caso de La Prensa\n",
    "url4 = 'https://www.la-prensa.com.mx/tags/temas/feminicidio'\n",
    "html = requests.get(url4).content"
   ]
  },
  {
   "cell_type": "code",
   "execution_count": 34,
   "metadata": {},
   "outputs": [],
   "source": [
    "#Sopa \n",
    "soup = BeautifulSoup(html,'lxml')\n",
    "#print(soup.prettify())"
   ]
  },
  {
   "cell_type": "code",
   "execution_count": 35,
   "metadata": {},
   "outputs": [],
   "source": [
    "#Identifico elementos de mi interés - los encabezados o headers\n",
    "noticias4 = soup.find_all('h4', {'class': 'title'})\n",
    "#noticias4"
   ]
  },
  {
   "cell_type": "code",
   "execution_count": 36,
   "metadata": {},
   "outputs": [
    {
     "name": "stdout",
     "output_type": "stream",
     "text": [
      "['Feministas de Quintana Roo acusas a grupos políticos de \"arribistas\"', 'Cárcel de 55 años a quien golpeó y estranguló a su propia abuela', 'Exigen justicia por Yuri, joven asesinada por su esposo', 'Cae sujeto que violó y mató a puñaladas a una mujer en Atizapán', 'Detienen a presuntos responsables del feminicidio de “Alexis”, en Cancún', 'Detienen a presuntos feminicidas de Alexis en Cancún', 'Repunta violencia de género en Quintana Roo', 'Condena ONU Mujeres excesos policiacos durante protesta contra feminicidios en Cancún', 'Basta de represión en contra de las mujeres: Karen Quiroga Anguiano', 'Asesinan a Karina dentro de su casa, momentos antes discutió con su novio', 'Hallan muerta a Adriana Murrieta, la influencer desapareció el domingo', 'Familiares exigen justicia por Susana, quinceañera secuestrada y asesinada', 'Sentencia de 62 años de prisión por asfixiar a su pareja durante ataque de celos', 'Detienen a sujeto investigado por presunto feminicidio de una menor de edad en Ecatepec', 'Cadena perpetua a feminicida que apuñaló a su expareja e hijo que intentó defenderla', 'Estranguló a su pareja y quiso hacer creer que era suicidio', 'Detienen a presunto feminicida de la niña Claudia, de seis años']\n"
     ]
    },
    {
     "data": {
      "text/plain": [
       "17"
      ]
     },
     "execution_count": 36,
     "metadata": {},
     "output_type": "execute_result"
    }
   ],
   "source": [
    "#Limpio elementos \n",
    "clean4= [element.text.strip() for element in noticias4]\n",
    "print(clean4)\n",
    "len(clean4)"
   ]
  },
  {
   "cell_type": "code",
   "execution_count": 74,
   "metadata": {},
   "outputs": [],
   "source": [
    "#CASO 3: La Jornada\n",
    "# Genero request para el caso de La Jornada\n",
    "url5 = 'https://www.jornada.com.mx/ultimas/@@search?SearchableText=feminicidio'\n",
    "html = requests.get(url5).content"
   ]
  },
  {
   "cell_type": "code",
   "execution_count": 77,
   "metadata": {},
   "outputs": [],
   "source": [
    "#Sopa \n",
    "soup = BeautifulSoup(html, 'lxml')\n",
    "#print(soup.prettify())"
   ]
  },
  {
   "cell_type": "code",
   "execution_count": 82,
   "metadata": {},
   "outputs": [],
   "source": [
    "#Identifico elementos de mi interés \n",
    "noticias5 = soup.find_all('a', {'class': 'state-published'})\n",
    "#noticias5"
   ]
  },
  {
   "cell_type": "code",
   "execution_count": 81,
   "metadata": {},
   "outputs": [
    {
     "name": "stdout",
     "output_type": "stream",
     "text": [
      "['Detienen a dos presuntos involucrados en el asesinato de Alexis', 'Reportan dos feminicidios perpetrados anoche en Guadalajara', 'Protesta feminista de casi 6 horas en Cancún; daños en edificios públicos', 'Decenas de mujeres marchan contra feminicidios en Ecatepec', 'Protestan en la CDMX por feminicidio de Alexis', 'Protesta en CDMX contra represión a marcha por feminicidios en QR', 'López Obrador: con Sí por México se agravará el clasismo', 'Realizarán mural en Chimalhuacán para víctimas de feminicidio', 'Anuncia gobernador de QRoo nuevo titular de la SSP', 'Feministas protestan frente a la sede del estado de QRoo en la CDMX']\n"
     ]
    },
    {
     "data": {
      "text/plain": [
       "10"
      ]
     },
     "execution_count": 81,
     "metadata": {},
     "output_type": "execute_result"
    }
   ],
   "source": [
    "#Limpio elementos \n",
    "clean5= [element.text.strip() for element in noticias5]\n",
    "print(clean5)\n",
    "len(clean5)"
   ]
  },
  {
   "cell_type": "code",
   "execution_count": 83,
   "metadata": {},
   "outputs": [],
   "source": [
    "# Genero request para el caso de La Jornada página 2\n",
    "url6 = 'https://www.jornada.com.mx/ultimas/@@search?b_start:int=10&SearchableText=feminicidio'\n",
    "html = requests.get(url6).content"
   ]
  },
  {
   "cell_type": "code",
   "execution_count": 84,
   "metadata": {},
   "outputs": [],
   "source": [
    "#Sopa \n",
    "soup = BeautifulSoup(html, 'lxml')\n",
    "#print(soup.prettify())"
   ]
  },
  {
   "cell_type": "code",
   "execution_count": 92,
   "metadata": {},
   "outputs": [],
   "source": [
    "#Identifico elementos de interés \n",
    "noticias6 = soup.find_all('a', {'class': 'state-published'})\n",
    "#noticias6"
   ]
  },
  {
   "cell_type": "code",
   "execution_count": 93,
   "metadata": {},
   "outputs": [
    {
     "name": "stdout",
     "output_type": "stream",
     "text": [
      "['Otra mujer asesinada en Cancún; un detenido', 'Celebra AMLO destitución en Q Roo de mandos policiales', 'El gobernador Joaquín y la edil Lezama se deslindan del ataque', 'ONU Mujeres, CNDH y ONG condenan uso de la fuerza en Cancún', 'Reclaman a edil de Cancún por reporteros heridos en protesta', 'OCNF se suma a condena por respuesta policial a protesta en Cancún', 'Condena ONU Mujeres represión en Cancún', 'Dispersan a tiros en Cancún protesta contra feminicidio', 'Policía de Cancún dispersa a balazos manifestación contra feminicidio', 'Encuentran sin vida a joven desaparecida en Oaxaca']\n"
     ]
    },
    {
     "data": {
      "text/plain": [
       "10"
      ]
     },
     "execution_count": 93,
     "metadata": {},
     "output_type": "execute_result"
    }
   ],
   "source": [
    "#Limpio elementos \n",
    "clean6= [element.text.strip() for element in noticias6]\n",
    "print(clean6)\n",
    "len(clean6)"
   ]
  },
  {
   "cell_type": "code",
   "execution_count": 91,
   "metadata": {},
   "outputs": [
    {
     "name": "stdout",
     "output_type": "stream",
     "text": [
      "['Detienen a dos presuntos involucrados en el asesinato de Alexis', 'Reportan dos feminicidios perpetrados anoche en Guadalajara', 'Protesta feminista de casi 6 horas en Cancún; daños en edificios públicos', 'Decenas de mujeres marchan contra feminicidios en Ecatepec', 'Protestan en la CDMX por feminicidio de Alexis', 'Protesta en CDMX contra represión a marcha por feminicidios en QR', 'López Obrador: con Sí por México se agravará el clasismo', 'Realizarán mural en Chimalhuacán para víctimas de feminicidio', 'Anuncia gobernador de QRoo nuevo titular de la SSP', 'Feministas protestan frente a la sede del estado de QRoo en la CDMX', 'Otra mujer asesinada en Cancún; un detenido', 'Celebra AMLO destitución en Q Roo de mandos policiales', 'El gobernador Joaquín y la edil Lezama se deslindan del ataque', 'ONU Mujeres, CNDH y ONG condenan uso de la fuerza en Cancún', 'Reclaman a edil de Cancún por reporteros heridos en protesta', 'OCNF se suma a condena por respuesta policial a protesta en Cancún', 'Condena ONU Mujeres represión en Cancún', 'Dispersan a tiros en Cancún protesta contra feminicidio', 'Policía de Cancún dispersa a balazos manifestación contra feminicidio', 'Encuentran sin vida a joven desaparecida en Oaxaca']\n"
     ]
    },
    {
     "data": {
      "text/plain": [
       "20"
      ]
     },
     "execution_count": 91,
     "metadata": {},
     "output_type": "execute_result"
    }
   ],
   "source": [
    "# Junto listas de elementos 'limpios' para el caso de La Jornada\n",
    "La_Jornada = clean5 + clean6\n",
    "print(La_Jornada)\n",
    "len(La_Jornada)"
   ]
  },
  {
   "cell_type": "code",
   "execution_count": 99,
   "metadata": {},
   "outputs": [],
   "source": [
    "#CASO 4 Expansión \n",
    "# Genero request para el caso de La Jornada\n",
    "url7 = 'https://expansion.mx/busqueda?q=feminicidio'\n",
    "html = requests.get(url7).content"
   ]
  },
  {
   "cell_type": "code",
   "execution_count": 100,
   "metadata": {},
   "outputs": [],
   "source": [
    "#Sopa \n",
    "soup = BeautifulSoup(html, 'lxml')\n",
    "#print(soup.prettify())"
   ]
  },
  {
   "cell_type": "code",
   "execution_count": 134,
   "metadata": {},
   "outputs": [],
   "source": [
    "#Identifico elementos de interés \n",
    "noticias7 = soup.find_all('a', {'class': 'Link'})\n",
    "#noticias7"
   ]
  },
  {
   "cell_type": "code",
   "execution_count": 111,
   "metadata": {},
   "outputs": [
    {
     "data": {
      "text/plain": [
       "72"
      ]
     },
     "execution_count": 111,
     "metadata": {},
     "output_type": "execute_result"
    }
   ],
   "source": [
    "#Limpio elementos \n",
    "clean7= [element.text.strip() for element in noticias7]\n",
    "len(clean7)"
   ]
  },
  {
   "cell_type": "code",
   "execution_count": null,
   "metadata": {},
   "outputs": [],
   "source": [
    "nvoclean7=clean7[12:71]"
   ]
  },
  {
   "cell_type": "code",
   "execution_count": 195,
   "metadata": {},
   "outputs": [
    {
     "name": "stdout",
     "output_type": "stream",
     "text": [
      "['Policías dispersan a balazos manifestación por feminicidios en Cancún', 'Una manifestación por el asesinato de la joven Bianca Alejandrina en la ciudad de Cancún, Quintana Roo, fue dispersada a balazos por parte de policías.', '#ColumnaInvitada | De feminicidios, policías y manifestaciones', 'El uso excesivo de la fuerza por policías en Cancún pone de manifiesto la sistemática precariedad en la formación, capacidad y protocolos de operación de las instituciones locales en seguridad.', 'Policías dispersan a balazos manifestación por feminicidios en Cancún', 'Los uniformados dispararon armas largas al aire en medio de una protesta en el Ayuntamiento de Benito Juárez.', 'Durazo deja la Secretaría de Seguridad con aumento en feminicidios y homicidios', 'En el que fue su último informe de incidencia delictiva, el secretario reconoció que en el último año los homicidios dolosos aumentaron 1% y los feminicidios, 0.4%.', 'Conoce el documental de Netflix sobre el feminicidio más infame de México', '‘Las tres muertes de Marisela Escobedo’ retrata la búsqueda de justicia de esta activista tras el feminicidio de su hija, Ruby; Marisela, en medio de su lucha, fue asesinada hace una década.', 'Las claves del feminicidio de Jessica González en Michoacán', 'El pasado 25 de septiembre, Jessica fue hallada sin vida en Morelia, ciudad en la que también se reportó la desaparición de Xitlali, cuyo cuerpo recién se localizó en Guanajuato.', 'En México, 60% de los feminicidios son cometidos por el crimen organizado', 'El cuerpo de las mujeres es utilizado como venganza o para enviar un mensaje al grupo rival, advierten especialistas.', 'Homicidios, feminicidios y delitos de delincuencia organizada repuntan en 2020', 'El secretario de Seguridad, Alfonso Durazo, manifestó su preocupación por el alza en delitos de delincuencia organizada, los cuales tuvieron un incremento del 53.8%.', 'Diputadas y FGR buscan homologar pena por feminicidio: de 40 a 60 años de cárcel', 'La propuesta de homologación para el tipo penal de este delito fue expuesta por legisladoras y por el fiscal, Alejandro Gertz, tras meses de trabajo. El objetivo, dijeron, es evitar la impunidad.', 'Feminicidios alcanzan en junio la cifra más alta en lo que va de 2020', 'En junio fueron asesinadas 309 mujeres, tomando en cuenta feminicidios y homicidios dolosos; es decir, en promedio 10.3 asesinatos por día.', 'Un menor recibe condena por el feminicidio de Nazaret Bautista en el Edomex', 'En diciembre pasado, la estudiante de 15 años fue hallada sin vida dentro de la Universidad Chapingo. Un compañero suyo fue declarado culpable del crimen y sentenciado a cinco años en internamiento.', 'La violencia y la represión de protestas golpean la imagen de Cancún', 'Tras la represión de una protesta por el feminicidio de una joven, hoteleros y turistas alertan que el destino turístico vive un periodo \"de terror\". Expertas subrayan la inacción de las autoridades.', 'Nuevo León aprueba una reforma para considerar el feminicidio como delito grave', 'Con el cambio a la Constitución del estado, quienes sean acusados de feminicidio no tendrán derecho a fianza y tendrán que enfrentar su proceso en prisión.', 'México cerró febrero con 2,858 asesinatos y un aumento de 24% en feminicidios', 'De enero a febrero de este año, se registró una ligera disminución en los homicidios dolosos, pero no en los feminicidios, que pasaron de 74 casos a 92.', 'Esto no es una lucha campal de hombres contra mujeres, es una búsqueda incansable para que todos podamos vivir mejor, opina Jimena Cándano.']\n"
     ]
    },
    {
     "data": {
      "text/plain": [
       "29"
      ]
     },
     "execution_count": 195,
     "metadata": {},
     "output_type": "execute_result"
    }
   ],
   "source": [
    "#Aquí limpie la lista guiándome con los índices del pd.Series \n",
    "pd.Series(nvoclean7)\n",
    "Expansion = nvoclean7\n",
    "print(Expansion)\n",
    "len(Expansion)"
   ]
  },
  {
   "cell_type": "code",
   "execution_count": 198,
   "metadata": {},
   "outputs": [],
   "source": [
    "#CASO 5 Heraldo de México\n",
    "# Genero request para el caso de La Jornada\n",
    "url8 = 'https://heraldodemexico.com.mx/noticias/buscar/?buscar=feminicidio'\n",
    "html = requests.get(url8).content"
   ]
  },
  {
   "cell_type": "code",
   "execution_count": 199,
   "metadata": {},
   "outputs": [],
   "source": [
    "#Sopa \n",
    "soup = BeautifulSoup(html, 'lxml')\n",
    "#print(soup.prettify())"
   ]
  },
  {
   "cell_type": "code",
   "execution_count": 203,
   "metadata": {},
   "outputs": [],
   "source": [
    "#Identifico elementos de interés \n",
    "noticias8 = soup.find_all('h5', {'class': 'titulo'})\n",
    "#noticias8"
   ]
  },
  {
   "cell_type": "code",
   "execution_count": 206,
   "metadata": {},
   "outputs": [
    {
     "data": {
      "text/plain": [
       "20"
      ]
     },
     "execution_count": 206,
     "metadata": {},
     "output_type": "execute_result"
    }
   ],
   "source": [
    "#Limpio elementos \n",
    "clean8= [element.text.strip() for element in noticias8]\n",
    "#print(clean8)\n",
    "len(clean8)"
   ]
  },
  {
   "cell_type": "code",
   "execution_count": 205,
   "metadata": {},
   "outputs": [
    {
     "data": {
      "text/plain": [
       "['Fiscalía Quintana Roo lleva a tribunales a dos presuntos implicados en el feminicidio de Alexis',\n",
       " 'Mara Lezama repudia violencia en Cancún',\n",
       " 'Joven de 14 años acuchilla a 2 niños',\n",
       " 'Violencia de género, eje temático del Festival Letras en Tepic',\n",
       " 'Usuarios incendian las redes; AMLO aún no reconoce victoria de Joe Biden',\n",
       " 'En México un menor de edad es asesinado de forma violenta diariamente, alertó Causa En Común',\n",
       " 'Detienen a dos por homicidio de reportero',\n",
       " 'Adolescente apuñala y mata a dos menores en la CDMX',\n",
       " 'Carlos Joaquín: hemos trabajado en la capacitación y la prevención de la violencia contra las mujeres',\n",
       " 'Ninel quiere ayudarle a su marido a pagar sus deudas',\n",
       " 'Mujeres protestan en Fiscalía capitalina; realizan destrozos en estación del Metrobús: VIDEOS',\n",
       " 'FGJ- CDMX descarta afectaciones a alguna investigación, tras quema de documentación de feministas',\n",
       " 'FGJ lleva a las autoridades a cinco de sus funcionarios por el caso Fátima',\n",
       " 'Chihuahua está estancado económicamente, señala Rafael Espino',\n",
       " 'Puebla se ubica en el décimo lugar de personas desaparecidas, reporta Impunidad Cero',\n",
       " 'Hallan con vida a Johana Vianey, amiga de los dos niños descuartizados en el Centro',\n",
       " 'Muere por Covid-19 el pastor de EU que culpó de la pandemia a la comunidad LGBT',\n",
       " 'Marchas CDMX: Antorchistas se manifestarán en el Zócalo; electricistas seguirán con protestas en el SME',\n",
       " 'Despiden\\xa0a Bianca Alexis; familares y amigos piden justicia',\n",
       " 'Asesinan a alcaldesa en Veracruz']"
      ]
     },
     "execution_count": 205,
     "metadata": {},
     "output_type": "execute_result"
    }
   ],
   "source": [
    "#Asigno nombre de caso a mi lista\n",
    "Heraldo_Mex = clean8\n",
    "Heraldo_Mex"
   ]
  },
  {
   "cell_type": "code",
   "execution_count": null,
   "metadata": {},
   "outputs": [],
   "source": []
  }
 ],
 "metadata": {
  "kernelspec": {
   "display_name": "Python 3",
   "language": "python",
   "name": "python3"
  },
  "language_info": {
   "codemirror_mode": {
    "name": "ipython",
    "version": 3
   },
   "file_extension": ".py",
   "mimetype": "text/x-python",
   "name": "python",
   "nbconvert_exporter": "python",
   "pygments_lexer": "ipython3",
   "version": "3.8.5"
  }
 },
 "nbformat": 4,
 "nbformat_minor": 4
}
