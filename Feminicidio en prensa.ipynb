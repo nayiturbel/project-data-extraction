{
 "cells": [
  {
   "cell_type": "code",
   "execution_count": 1,
   "metadata": {},
   "outputs": [],
   "source": [
    "import requests\n",
    "from bs4 import BeautifulSoup\n",
    "import pandas as pd\n",
    "from selenium import webdriver\n",
    "import re\n",
    "import numpy as np"
   ]
  },
  {
   "cell_type": "code",
   "execution_count": 2,
   "metadata": {},
   "outputs": [],
   "source": [
    "#CASO 1 - EL UNIVERSAL\n",
    "#Pido request\n",
    "url1 = 'https://www.eluniversal.com.mx/tag/feminicidios'\n",
    "html = requests.get(url1).content"
   ]
  },
  {
   "cell_type": "code",
   "execution_count": 3,
   "metadata": {},
   "outputs": [],
   "source": [
    "#Creo una sopa y la 'hago bonita' para que los elementos sean más fáciles de identificar\n",
    "soup = BeautifulSoup(html,'lxml')\n",
    "#print(soup.prettify())"
   ]
  },
  {
   "cell_type": "code",
   "execution_count": 4,
   "metadata": {},
   "outputs": [],
   "source": [
    "#Selecciono los titulares de cada noticia\n",
    "noticias1 = soup.find_all('h3', {'class': 'ce9-TemasRelacionadosImagen_Titulo'})\n",
    "#noticias1"
   ]
  },
  {
   "cell_type": "code",
   "execution_count": 5,
   "metadata": {},
   "outputs": [
    {
     "data": {
      "text/plain": [
       "9"
      ]
     },
     "execution_count": 5,
     "metadata": {},
     "output_type": "execute_result"
    }
   ],
   "source": [
    "#Limpiar titulares y agregarlos a una primera lista - son 9 noticias apenas\n",
    "clean1= [element.text.strip() for element in noticias1]\n",
    "#print(clean1)\n",
    "len(clean1)"
   ]
  },
  {
   "cell_type": "code",
   "execution_count": 6,
   "metadata": {},
   "outputs": [],
   "source": [
    "#Pido request para página 2\n",
    "url2 = 'https://www.eluniversal.com.mx/tag/feminicidios?page=1'\n",
    "html = requests.get(url2).content"
   ]
  },
  {
   "cell_type": "code",
   "execution_count": 7,
   "metadata": {},
   "outputs": [],
   "source": [
    "#Creo una sopa y la 'hago bonita' para que los elementos sean más fáciles de identificar\n",
    "soup = BeautifulSoup(html,'lxml')\n",
    "#print(soup.prettify())"
   ]
  },
  {
   "cell_type": "code",
   "execution_count": 8,
   "metadata": {},
   "outputs": [],
   "source": [
    "#Selecciono los titulares de cada noticia\n",
    "noticias2 = soup.find_all('h3', {'class': 'ce9-TemasRelacionadosImagen_Titulo'})\n",
    "#noticias2"
   ]
  },
  {
   "cell_type": "code",
   "execution_count": 9,
   "metadata": {},
   "outputs": [],
   "source": [
    "#Limpiar titulares y agregarlos a una segunda lista - son 10 noticias \n",
    "clean2= [element.text.strip() for element in noticias2]\n",
    "#print(clean2)"
   ]
  },
  {
   "cell_type": "code",
   "execution_count": 10,
   "metadata": {},
   "outputs": [],
   "source": [
    "#Junto mis listas limpias en una sola para el caso de la prensa El Universal\n",
    "El_Universal = clean1 + clean2 \n",
    "#print(El_Universal)\n",
    "#len(El_Universal)"
   ]
  },
  {
   "cell_type": "code",
   "execution_count": 11,
   "metadata": {},
   "outputs": [],
   "source": [
    "#CASO 2 : La prensa\n",
    "# Genero request para el caso de La Prensa\n",
    "url4 = 'https://www.la-prensa.com.mx/tags/temas/feminicidio'\n",
    "html = requests.get(url4).content"
   ]
  },
  {
   "cell_type": "code",
   "execution_count": 12,
   "metadata": {},
   "outputs": [],
   "source": [
    "#Sopa \n",
    "soup = BeautifulSoup(html,'lxml')\n",
    "#print(soup.prettify())"
   ]
  },
  {
   "cell_type": "code",
   "execution_count": 13,
   "metadata": {},
   "outputs": [],
   "source": [
    "#Identifico elementos de mi interés - los encabezados o headers\n",
    "noticias4 = soup.find_all('h4', {'class': 'title'})\n",
    "#noticias4"
   ]
  },
  {
   "cell_type": "code",
   "execution_count": 14,
   "metadata": {},
   "outputs": [],
   "source": [
    "#Limpio elementos \n",
    "clean4= [element.text.strip() for element in noticias4]\n",
    "#print(clean4)"
   ]
  },
  {
   "cell_type": "code",
   "execution_count": 15,
   "metadata": {},
   "outputs": [
    {
     "data": {
      "text/plain": [
       "17"
      ]
     },
     "execution_count": 15,
     "metadata": {},
     "output_type": "execute_result"
    }
   ],
   "source": [
    "La_prensa= clean4\n",
    "#print(La_prensa)\n",
    "len(La_prensa)"
   ]
  },
  {
   "cell_type": "code",
   "execution_count": 16,
   "metadata": {},
   "outputs": [],
   "source": [
    "#CASO 3: La Jornada\n",
    "# Genero request para el caso de La Jornada\n",
    "url5 = 'https://www.jornada.com.mx/ultimas/@@search?SearchableText=feminicidio'\n",
    "html = requests.get(url5).content"
   ]
  },
  {
   "cell_type": "code",
   "execution_count": 17,
   "metadata": {},
   "outputs": [],
   "source": [
    "#Sopa \n",
    "soup = BeautifulSoup(html, 'lxml')\n",
    "#print(soup.prettify())"
   ]
  },
  {
   "cell_type": "code",
   "execution_count": 18,
   "metadata": {},
   "outputs": [],
   "source": [
    "#Identifico elementos de mi interés \n",
    "noticias5 = soup.find_all('a', {'class': 'state-published'})\n",
    "#noticias5"
   ]
  },
  {
   "cell_type": "code",
   "execution_count": 19,
   "metadata": {},
   "outputs": [],
   "source": [
    "#Limpio elementos \n",
    "clean5= [element.text.strip() for element in noticias5]\n",
    "#print(clean5)\n"
   ]
  },
  {
   "cell_type": "code",
   "execution_count": 20,
   "metadata": {},
   "outputs": [],
   "source": [
    "# Genero request para el caso de La Jornada página 2\n",
    "url6 = 'https://www.jornada.com.mx/ultimas/@@search?b_start:int=10&SearchableText=feminicidio'\n",
    "html = requests.get(url6).content"
   ]
  },
  {
   "cell_type": "code",
   "execution_count": 21,
   "metadata": {},
   "outputs": [],
   "source": [
    "#Sopa \n",
    "soup = BeautifulSoup(html, 'lxml')\n",
    "#print(soup.prettify())"
   ]
  },
  {
   "cell_type": "code",
   "execution_count": 22,
   "metadata": {},
   "outputs": [],
   "source": [
    "#Identifico elementos de interés \n",
    "noticias6 = soup.find_all('a', {'class': 'state-published'})\n",
    "#noticias6"
   ]
  },
  {
   "cell_type": "code",
   "execution_count": 23,
   "metadata": {},
   "outputs": [],
   "source": [
    "#Limpio elementos \n",
    "clean6= [element.text.strip() for element in noticias6]\n",
    "#print(clean6)"
   ]
  },
  {
   "cell_type": "code",
   "execution_count": 24,
   "metadata": {},
   "outputs": [
    {
     "data": {
      "text/plain": [
       "20"
      ]
     },
     "execution_count": 24,
     "metadata": {},
     "output_type": "execute_result"
    }
   ],
   "source": [
    "# Junto listas de elementos 'limpios' para el caso de La Jornada\n",
    "La_Jornada = clean5 + clean6\n",
    "#print(La_Jornada)\n",
    "len(La_Jornada)"
   ]
  },
  {
   "cell_type": "code",
   "execution_count": 25,
   "metadata": {},
   "outputs": [],
   "source": [
    "#CASO 4 Expansión \n",
    "# Genero request para el caso de La Jornada\n",
    "url7 = 'https://expansion.mx/busqueda?q=feminicidio'\n",
    "html = requests.get(url7).content"
   ]
  },
  {
   "cell_type": "code",
   "execution_count": 26,
   "metadata": {},
   "outputs": [],
   "source": [
    "#Sopa \n",
    "soup = BeautifulSoup(html, 'lxml')\n",
    "#print(soup.prettify())"
   ]
  },
  {
   "cell_type": "code",
   "execution_count": 27,
   "metadata": {},
   "outputs": [],
   "source": [
    "#Identifico elementos de interés \n",
    "noticias7 = soup.find_all('a', {'class': 'Link'})\n",
    "#noticias7"
   ]
  },
  {
   "cell_type": "code",
   "execution_count": 28,
   "metadata": {},
   "outputs": [],
   "source": [
    "#Limpio elementos \n",
    "clean7= [element.text.strip() for element in noticias7]"
   ]
  },
  {
   "cell_type": "code",
   "execution_count": 29,
   "metadata": {},
   "outputs": [],
   "source": [
    "nvoclean7=clean7[12:71]"
   ]
  },
  {
   "cell_type": "code",
   "execution_count": 30,
   "metadata": {},
   "outputs": [],
   "source": [
    "#Aquí necesio limpiar la lista guiándome con los índices para quitar espacios\n",
    "#pd.Series(nvoclean7)\n",
    "Expansion = nvoclean7\n",
    "#len(Expansion)"
   ]
  },
  {
   "cell_type": "code",
   "execution_count": 31,
   "metadata": {},
   "outputs": [],
   "source": [
    "#Limpio mi lista para quitar vínculos o links que no corresponden a los encabezados o la info que me interesa\n",
    "Expansion_n = [s for s in Expansion if s != '' and len(s) > 15 ]\n",
    "#print(Expansion_n)"
   ]
  },
  {
   "cell_type": "code",
   "execution_count": 32,
   "metadata": {},
   "outputs": [],
   "source": [
    "#CASO 5 Heraldo de México\n",
    "# Genero request para el caso de La Jornada\n",
    "url8 = 'https://heraldodemexico.com.mx/noticias/buscar/?buscar=feminicidio'\n",
    "html = requests.get(url8).content"
   ]
  },
  {
   "cell_type": "code",
   "execution_count": 33,
   "metadata": {},
   "outputs": [],
   "source": [
    "#Sopa \n",
    "soup = BeautifulSoup(html, 'lxml')\n",
    "#print(soup.prettify())"
   ]
  },
  {
   "cell_type": "code",
   "execution_count": 34,
   "metadata": {},
   "outputs": [],
   "source": [
    "#Identifico elementos de interés \n",
    "noticias8 = soup.find_all('h5', {'class': 'titulo'})\n",
    "#noticias8"
   ]
  },
  {
   "cell_type": "code",
   "execution_count": 35,
   "metadata": {},
   "outputs": [],
   "source": [
    "#Limpio elementos \n",
    "clean8= [element.text.strip() for element in noticias8]\n",
    "#print(clean8)"
   ]
  },
  {
   "cell_type": "code",
   "execution_count": 36,
   "metadata": {},
   "outputs": [],
   "source": [
    "#Asigno nombre de caso a mi lista\n",
    "Heraldo_Mex = clean8\n",
    "#print(Heraldo_Mex)\n",
    "#len(Heraldo_Mex)"
   ]
  },
  {
   "cell_type": "code",
   "execution_count": 37,
   "metadata": {},
   "outputs": [],
   "source": [
    "#CASO 6 - Crónica\n",
    "#Pido request\n",
    "url9 = 'http://www.cronica.com.mx/index.php?bus=feminicidio'\n",
    "html = requests.get(url9).content"
   ]
  },
  {
   "cell_type": "code",
   "execution_count": 38,
   "metadata": {},
   "outputs": [],
   "source": [
    "#Sopa \n",
    "soup = BeautifulSoup(html, 'lxml')\n",
    "#print(soup.prettify())"
   ]
  },
  {
   "cell_type": "code",
   "execution_count": 39,
   "metadata": {},
   "outputs": [],
   "source": [
    "noticias9 = soup.find_all('a', {'class': 'link'})\n",
    "#noticias9"
   ]
  },
  {
   "cell_type": "code",
   "execution_count": 40,
   "metadata": {},
   "outputs": [
    {
     "data": {
      "text/plain": [
       "60"
      ]
     },
     "execution_count": 40,
     "metadata": {},
     "output_type": "execute_result"
    }
   ],
   "source": [
    "#Limpio elementos \n",
    "clean9= [element.text.strip() for element in noticias9]\n",
    "#print(clean9)\n",
    "len(clean9)"
   ]
  },
  {
   "cell_type": "code",
   "execution_count": 41,
   "metadata": {},
   "outputs": [],
   "source": [
    "#Limpio mi lista de strings para no tener elementos vacíos\n",
    "Cronica = clean9\n",
    "Cronica_n = [s for s in Cronica if s != '']\n",
    "#print(Cronica_n)"
   ]
  },
  {
   "cell_type": "code",
   "execution_count": 42,
   "metadata": {},
   "outputs": [],
   "source": [
    "#CASO 7 Razón \n",
    "#Pido request\n",
    "url10 = 'https://www.razon.com.mx/search/?q=feminicidio'\n",
    "html = requests.get(url10).content"
   ]
  },
  {
   "cell_type": "code",
   "execution_count": 43,
   "metadata": {},
   "outputs": [],
   "source": [
    "soup = BeautifulSoup(html, 'lxml')\n",
    "#print(soup.prettify())"
   ]
  },
  {
   "cell_type": "code",
   "execution_count": 44,
   "metadata": {},
   "outputs": [],
   "source": [
    "noticias10 = soup.find_all('h1', {'class': 'title'})\n",
    "#noticias10"
   ]
  },
  {
   "cell_type": "code",
   "execution_count": 45,
   "metadata": {},
   "outputs": [],
   "source": [
    "#Limpio elementos \n",
    "clean10= [element.text.strip() for element in noticias10]\n",
    "#print(clean10)\n",
    "#len(clean10)"
   ]
  },
  {
   "cell_type": "code",
   "execution_count": 46,
   "metadata": {},
   "outputs": [],
   "source": [
    "url11 = 'https://www.razon.com.mx/search/feminicidio/2?q=feminicidio&_type=all&multiFields%5B0%5D=title&multiFields%5B1%5D=authorName&multiFields%5B2%5D=category&multiFields%5B3%5D=categorySlug&multiFields%5B4%5D=simpleTags&multiFields%5B5%5D=seoTitle&multiFields%5B6%5D=seoKeywords&multiFields%5B7%5D=seoDescription'\n",
    "html = requests.get(url11).content"
   ]
  },
  {
   "cell_type": "code",
   "execution_count": 47,
   "metadata": {},
   "outputs": [],
   "source": [
    "soup = BeautifulSoup(html, 'lxml')\n",
    "#print(soup.prettify())"
   ]
  },
  {
   "cell_type": "code",
   "execution_count": 48,
   "metadata": {},
   "outputs": [],
   "source": [
    "noticias11 = soup.find_all('h1', {'class': 'title'})\n",
    "#noticias11"
   ]
  },
  {
   "cell_type": "code",
   "execution_count": 49,
   "metadata": {},
   "outputs": [],
   "source": [
    "clean11= [element.text.strip() for element in noticias11]\n",
    "#print(clean11)\n",
    "#len(clean11)"
   ]
  },
  {
   "cell_type": "code",
   "execution_count": 50,
   "metadata": {},
   "outputs": [
    {
     "data": {
      "text/plain": [
       "20"
      ]
     },
     "execution_count": 50,
     "metadata": {},
     "output_type": "execute_result"
    }
   ],
   "source": [
    "Razon = clean10 + clean11\n",
    "#print(Razon)\n",
    "len(Razon)"
   ]
  },
  {
   "cell_type": "code",
   "execution_count": 51,
   "metadata": {},
   "outputs": [],
   "source": [
    "#Caso 7 El Sol de México\n",
    "url12 = 'https://www.elsoldemexico.com.mx/buscar/?q=feminicidio'\n",
    "html = requests.get(url12).content"
   ]
  },
  {
   "cell_type": "code",
   "execution_count": 52,
   "metadata": {},
   "outputs": [],
   "source": [
    "soup = BeautifulSoup(html, 'lxml')\n",
    "#print(soup.prettify())"
   ]
  },
  {
   "cell_type": "code",
   "execution_count": 53,
   "metadata": {},
   "outputs": [],
   "source": [
    "noticias12 = soup.find_all('h4', {'class': 'title'})\n",
    "#noticias12"
   ]
  },
  {
   "cell_type": "code",
   "execution_count": 54,
   "metadata": {},
   "outputs": [],
   "source": [
    "clean12= [element.text.strip() for element in noticias12]\n",
    "#print(clean12)\n",
    "#len(clean12)"
   ]
  },
  {
   "cell_type": "code",
   "execution_count": 55,
   "metadata": {},
   "outputs": [],
   "source": [
    "El_Sol = clean12\n",
    "#print(El_Sol)"
   ]
  },
  {
   "cell_type": "code",
   "execution_count": 56,
   "metadata": {},
   "outputs": [],
   "source": [
    "#CREATING DATA FRAMES for analysis"
   ]
  },
  {
   "cell_type": "code",
   "execution_count": 57,
   "metadata": {},
   "outputs": [],
   "source": [
    "data1 = pd.DataFrame(El_Universal)\n",
    "data1.columns = ['El Universal']"
   ]
  },
  {
   "cell_type": "code",
   "execution_count": 58,
   "metadata": {},
   "outputs": [],
   "source": [
    "data2 = pd.DataFrame(La_prensa)\n",
    "data2.columns=['La Prensa']"
   ]
  },
  {
   "cell_type": "code",
   "execution_count": 59,
   "metadata": {},
   "outputs": [],
   "source": [
    "data3= pd.DataFrame(La_Jornada)\n",
    "data3.columns = ['La Jornada']"
   ]
  },
  {
   "cell_type": "code",
   "execution_count": 60,
   "metadata": {},
   "outputs": [],
   "source": [
    "data4= pd.DataFrame(Expansion_n)\n",
    "data4.columns = ['Expansión']"
   ]
  },
  {
   "cell_type": "code",
   "execution_count": 61,
   "metadata": {},
   "outputs": [],
   "source": [
    "data5 = pd.DataFrame(Heraldo_Mex)\n",
    "data5.columns = ['Heraldo']"
   ]
  },
  {
   "cell_type": "code",
   "execution_count": 62,
   "metadata": {},
   "outputs": [],
   "source": [
    "data6 = pd.DataFrame(Cronica_n)\n",
    "data6.columns = ['Crónica']"
   ]
  },
  {
   "cell_type": "code",
   "execution_count": 63,
   "metadata": {},
   "outputs": [],
   "source": [
    "data7 = pd.DataFrame(Razon)\n",
    "data7.columns = ['Razón']"
   ]
  },
  {
   "cell_type": "code",
   "execution_count": 64,
   "metadata": {},
   "outputs": [],
   "source": [
    "data8 = pd.DataFrame(El_Sol)\n",
    "data8.columns = ['El Sol']"
   ]
  },
  {
   "cell_type": "code",
   "execution_count": 168,
   "metadata": {},
   "outputs": [],
   "source": [
    "new = pd.concat([data1, data2, data3, data4, data5, data6, data7, data8], axis=1) "
   ]
  },
  {
   "cell_type": "code",
   "execution_count": 169,
   "metadata": {},
   "outputs": [],
   "source": [
    "#new = new.drop(index=[21, 22, 23, 24, 25, 26, 27, 28, 29,])  #Elimino filas para hacer los datos más uniformes"
   ]
  },
  {
   "cell_type": "code",
   "execution_count": 170,
   "metadata": {},
   "outputs": [],
   "source": [
    "#Elimino valores nulos y alineo texto para que no me dé ansiedad \n",
    "df = new.replace(np.nan, '', regex=True)\n",
    "data = df.T"
   ]
  },
  {
   "cell_type": "code",
   "execution_count": 171,
   "metadata": {},
   "outputs": [
    {
     "data": {
      "text/html": [
       "<div>\n",
       "<style scoped>\n",
       "    .dataframe tbody tr th:only-of-type {\n",
       "        vertical-align: middle;\n",
       "    }\n",
       "\n",
       "    .dataframe tbody tr th {\n",
       "        vertical-align: top;\n",
       "    }\n",
       "\n",
       "    .dataframe thead th {\n",
       "        text-align: right;\n",
       "    }\n",
       "</style>\n",
       "<table border=\"1\" class=\"dataframe\">\n",
       "  <thead>\n",
       "    <tr style=\"text-align: right;\">\n",
       "      <th></th>\n",
       "      <th>0</th>\n",
       "      <th>1</th>\n",
       "      <th>2</th>\n",
       "      <th>3</th>\n",
       "      <th>4</th>\n",
       "      <th>5</th>\n",
       "      <th>6</th>\n",
       "      <th>7</th>\n",
       "      <th>8</th>\n",
       "      <th>9</th>\n",
       "      <th>...</th>\n",
       "      <th>11</th>\n",
       "      <th>12</th>\n",
       "      <th>13</th>\n",
       "      <th>14</th>\n",
       "      <th>15</th>\n",
       "      <th>16</th>\n",
       "      <th>17</th>\n",
       "      <th>18</th>\n",
       "      <th>19</th>\n",
       "      <th>20</th>\n",
       "    </tr>\n",
       "  </thead>\n",
       "  <tbody>\n",
       "    <tr>\n",
       "      <th>El Universal</th>\n",
       "      <td>Homicidio doloso y feminicidio, al alza</td>\n",
       "      <td>Nueva jornada de protestas en Cancún termina c...</td>\n",
       "      <td>Vandalizan en protesta edificios públicos, en ...</td>\n",
       "      <td>Protestan en zona hotelera de Cancún por femin...</td>\n",
       "      <td>Protesta contra feminicidios llega por primera...</td>\n",
       "      <td>Colectivos y familiares de víctimas piden just...</td>\n",
       "      <td>Protestan mujeres contra feminicidios; reporta...</td>\n",
       "      <td>A Wendy le rociaron gasolina y prendieron fueg...</td>\n",
       "      <td>Exhortan a respetar marchas</td>\n",
       "      <td>Despiden a Alexis; la recuerdan como defensora...</td>\n",
       "      <td>...</td>\n",
       "      <td>Encapuchadas protestan en la Roma contra repre...</td>\n",
       "      <td>Lo que sabemos del feminicidio de Alexis en Qu...</td>\n",
       "      <td>Feministas colocan ofrendas a víctimas</td>\n",
       "      <td>Fernanda, Verónica y Beatriz ya tienen ofrenda...</td>\n",
       "      <td>Con una ofrenda y veladoras, feministas recuer...</td>\n",
       "      <td>En la FGJ se está acabando la revictimización ...</td>\n",
       "      <td>Edomex suma 106 feminicidios en lo que va del ...</td>\n",
       "      <td>Presentan documental sobre Primera Caravana co...</td>\n",
       "      <td></td>\n",
       "      <td></td>\n",
       "    </tr>\n",
       "    <tr>\n",
       "      <th>La Prensa</th>\n",
       "      <td>Violó y mató a una adolescente de 16 años en E...</td>\n",
       "      <td>Llaman feministas mexiquenses a mega marcha el...</td>\n",
       "      <td>Hallan cuerpo de mujer en la orilla de un río ...</td>\n",
       "      <td>Feministas de Quintana Roo acusas a grupos pol...</td>\n",
       "      <td>Cárcel de 55 años a quien golpeó y estranguló ...</td>\n",
       "      <td>Exigen justicia por Yuri, joven asesinada por ...</td>\n",
       "      <td>Cae sujeto que violó y mató a puñaladas a una ...</td>\n",
       "      <td>Detienen a presuntos responsables del feminici...</td>\n",
       "      <td>Detienen a presuntos feminicidas de Alexis en ...</td>\n",
       "      <td>Repunta violencia de género en Quintana Roo</td>\n",
       "      <td>...</td>\n",
       "      <td>Basta de represión en contra de las mujeres: K...</td>\n",
       "      <td>Asesinan a Karina dentro de su casa, momentos ...</td>\n",
       "      <td>Hallan muerta a Adriana Murrieta, la influence...</td>\n",
       "      <td>Familiares exigen justicia por Susana, quincea...</td>\n",
       "      <td>Sentencia de 62 años de prisión por asfixiar a...</td>\n",
       "      <td>Detienen a sujeto investigado por presunto fem...</td>\n",
       "      <td></td>\n",
       "      <td></td>\n",
       "      <td></td>\n",
       "      <td></td>\n",
       "    </tr>\n",
       "    <tr>\n",
       "      <th>La Jornada</th>\n",
       "      <td>Guanajuato, la entidad más violenta durante oc...</td>\n",
       "      <td>Ligera alza de homicidios dolosos durante octubre</td>\n",
       "      <td>Proceso contra agresor de saxofonista oaxaqueñ...</td>\n",
       "      <td>Día de la Militancia Peronista; debaten impues...</td>\n",
       "      <td>Analizan jueces y magistrados nuevos retos de ...</td>\n",
       "      <td>Destaca AMLO actuación del gobernador de Q. Ro...</td>\n",
       "      <td>Detienen a dos presuntos involucrados en el as...</td>\n",
       "      <td>Reportan dos feminicidios perpetrados anoche e...</td>\n",
       "      <td>Protesta feminista de casi 6 horas en Cancún; ...</td>\n",
       "      <td>Decenas de mujeres marchan contra feminicidios...</td>\n",
       "      <td>...</td>\n",
       "      <td>Protesta en CDMX contra represión a marcha por...</td>\n",
       "      <td>López Obrador: con Sí por México se agravará e...</td>\n",
       "      <td>Realizarán mural en Chimalhuacán para víctimas...</td>\n",
       "      <td>Anuncia gobernador de QRoo nuevo titular de la...</td>\n",
       "      <td>Feministas protestan frente a la sede del esta...</td>\n",
       "      <td>Otra mujer asesinada en Cancún; un detenido</td>\n",
       "      <td>Celebra AMLO destitución en Q Roo de mandos po...</td>\n",
       "      <td>El gobernador Joaquín y la edil Lezama se desl...</td>\n",
       "      <td>ONU Mujeres, CNDH y ONG condenan uso de la fue...</td>\n",
       "      <td></td>\n",
       "    </tr>\n",
       "    <tr>\n",
       "      <th>Expansión</th>\n",
       "      <td>Policías dispersan a balazos manifestación por...</td>\n",
       "      <td>Una manifestación por el asesinato de la joven...</td>\n",
       "      <td>#ColumnaInvitada | De feminicidios, policías y...</td>\n",
       "      <td>El uso excesivo de la fuerza por policías en C...</td>\n",
       "      <td>Policías dispersan a balazos manifestación por...</td>\n",
       "      <td>Los uniformados dispararon armas largas al air...</td>\n",
       "      <td>Durazo deja la Secretaría de Seguridad con aum...</td>\n",
       "      <td>En el que fue su último informe de incidencia ...</td>\n",
       "      <td>Conoce el documental de Netflix sobre el femin...</td>\n",
       "      <td>‘Las tres muertes de Marisela Escobedo’ retrat...</td>\n",
       "      <td>...</td>\n",
       "      <td>El pasado 25 de septiembre, Jessica fue hallad...</td>\n",
       "      <td>En México, 60% de los feminicidios son cometid...</td>\n",
       "      <td>El cuerpo de las mujeres es utilizado como ven...</td>\n",
       "      <td>Homicidios, feminicidios y delitos de delincue...</td>\n",
       "      <td>El secretario de Seguridad, Alfonso Durazo, ma...</td>\n",
       "      <td>Diputadas y FGR buscan homologar pena por femi...</td>\n",
       "      <td>La propuesta de homologación para el tipo pena...</td>\n",
       "      <td>Feminicidios alcanzan en junio la cifra más al...</td>\n",
       "      <td>En junio fueron asesinadas 309 mujeres, tomand...</td>\n",
       "      <td>Un menor recibe condena por el feminicidio de ...</td>\n",
       "    </tr>\n",
       "    <tr>\n",
       "      <th>Heraldo</th>\n",
       "      <td>Baja California Sur aumenta hasta dos años la ...</td>\n",
       "      <td>Mujer da clonazepam a su hija para que deje de...</td>\n",
       "      <td>Maestra de Tehuantepec denuncia recibir amenaz...</td>\n",
       "      <td>Exnovia de Eleazar Gómez 'ATERRADA' ante liber...</td>\n",
       "      <td>Tefy Valenzuela entre lágrimas habló de la vio...</td>\n",
       "      <td>Suman 17 detenidos por robo de autopartes en l...</td>\n",
       "      <td>Matan a coordinador operativo de la Cruz Verde...</td>\n",
       "      <td>Homicidios dolosos mantienen \"línea de contenc...</td>\n",
       "      <td>José Diego Suárez, albañil de oficio, estudio ...</td>\n",
       "      <td>Vinculan a proceso a cinco trabajadores de la ...</td>\n",
       "      <td>...</td>\n",
       "      <td>Jueza acepta solicitud para retirar cargos a S...</td>\n",
       "      <td>Sí hubo intervención diplomática para lograr a...</td>\n",
       "      <td>Arman gresca y roban a niñas</td>\n",
       "      <td>Familias identifican a víctimas</td>\n",
       "      <td>Cuatro mil mujeres reciben salario rosa en el ...</td>\n",
       "      <td>¡Indignación mundial! Niña de 13 años es OBLIG...</td>\n",
       "      <td>Bomberos impiden que hombre se ARROJE de puent...</td>\n",
       "      <td>Alberto Fernández revela que enviará proyecto ...</td>\n",
       "      <td>Joven sufre aparatoso accidente y sale \"voland...</td>\n",
       "      <td></td>\n",
       "    </tr>\n",
       "    <tr>\n",
       "      <th>Crónica</th>\n",
       "      <td>Aumentan los homicidos dolosos y feminicidios ...</td>\n",
       "      <td>Detienen a dos implicados en el feminicidio qu...</td>\n",
       "      <td>Toluca continua sumando casos de feminicidios</td>\n",
       "      <td>Marchan cientos contra feminicidios en Cancún</td>\n",
       "      <td>Otra marcha contra los feminicidios en Cancún</td>\n",
       "      <td>Cientos de mujeres marchan en Cancún para exig...</td>\n",
       "      <td>Policias municipales detienen a menores de eda...</td>\n",
       "      <td>Inicia proyecto Malinche-Malinches con 270 mic...</td>\n",
       "      <td>Colectivas feministas rinden homenaje a victim...</td>\n",
       "      <td>Detienen a presuntos autores materiales del fe...</td>\n",
       "      <td>...</td>\n",
       "      <td>Olga Sánchez Cordero condena asesinato de Jessica</td>\n",
       "      <td>Exigen aborto en todo el país; se registran de...</td>\n",
       "      <td>Contexto social, el mayor desafío para el Proc...</td>\n",
       "      <td>\"No venimos a pasear ni a hacer campaña para n...</td>\n",
       "      <td>“No somos burla de nadie... si autoridades y g...</td>\n",
       "      <td>AI: AMLO dio otros datos en su informe; femini...</td>\n",
       "      <td>Nueva normalidad destapa aumento de violencia ...</td>\n",
       "      <td>Semáforo delictivo: homicidio, extorsión, narc...</td>\n",
       "      <td>Familias de víctimas de feminicidio y artesano...</td>\n",
       "      <td>Con algunas riñas, avanza marcha feminista hac...</td>\n",
       "    </tr>\n",
       "    <tr>\n",
       "      <th>Razón</th>\n",
       "      <td>Feminicidios incrementan 1.5% de septiembre a ...</td>\n",
       "      <td>Asume Flor Ruiz Cosío secretaría de Ayuntamien...</td>\n",
       "      <td>Se acabó la impunidad: Cuitláhuac García</td>\n",
       "      <td>Caen 2 más por feminicidio de Alexis; suman 5 ...</td>\n",
       "      <td>Se manifiestan en Cancún por desapariciones y ...</td>\n",
       "      <td>Grupos feministas vandalizan sede de la FGJCDMX</td>\n",
       "      <td>Vandalizan estación de Metrobús en protesta po...</td>\n",
       "      <td>Escalada contra mujeres no cesa en Quintana Roo</td>\n",
       "      <td>Mujeres detenidas en manifestación de Cancún d...</td>\n",
       "      <td>#JusticiaParaAlexis: Hay 3 detenidos por su fe...</td>\n",
       "      <td>...</td>\n",
       "      <td>En Quintana Roo, arrestan a dos presuntos impl...</td>\n",
       "      <td>Nombra Carlos Joaquín a nuevo encargado de SSP...</td>\n",
       "      <td>Realizan tercer cateo por el feminicidio de Al...</td>\n",
       "      <td>“Pensé que no la iba a librar”, relata tras pr...</td>\n",
       "      <td>Gobernador de Q. Roo advierte que no habrá imp...</td>\n",
       "      <td>Encaran periodistas a Mara Lezama tras actos d...</td>\n",
       "      <td>Exigen periodistas justicia tras agresión en C...</td>\n",
       "      <td>Exige AMLO investigación tras disparos para di...</td>\n",
       "      <td>Exigen justicia por feminicidio de Bianca Alej...</td>\n",
       "      <td></td>\n",
       "    </tr>\n",
       "    <tr>\n",
       "      <th>El Sol</th>\n",
       "      <td>#NiUnaMás Feminicidios en el 2017: un año más ...</td>\n",
       "      <td>Tunden a Gertz Manero por \"borrar\" feminicidio</td>\n",
       "      <td>En sexenio de Peña Nieto, 105 feminicidios fue...</td>\n",
       "      <td>FGR explica por qué quiere eliminar el feminic...</td>\n",
       "      <td>En cinco años, feminicidio ha crecido 137%: FGR</td>\n",
       "      <td>Ecatepec, un foco de riesgo para libertad de l...</td>\n",
       "      <td>Abril Pérez, el feminicidio que se hunde en la...</td>\n",
       "      <td>Falla Ciudad de México al determinar feminicidios</td>\n",
       "      <td>El Presidente \"nos trata como tontitas\": Patri...</td>\n",
       "      <td>Diputados aprueban aumentar penas por feminici...</td>\n",
       "      <td>...</td>\n",
       "      <td>Diana Cazadora y Glorieta La Minerva se tiñen ...</td>\n",
       "      <td>Zapatos rojos, sangre de víctimas de feminicidios</td>\n",
       "      <td>\"Clausuran\" oficinas de la PGR por violencia c...</td>\n",
       "      <td>Marchan en la CDMX contra feminicidios en el D...</td>\n",
       "      <td>Feminicidio en el bar Baby Rock en Nezahualcóy...</td>\n",
       "      <td>Tiñen de rojo agua de fuente en SLP por femini...</td>\n",
       "      <td>Marcha del Silencio exige \"castigo a los culpa...</td>\n",
       "      <td>Así protestan las mujeres en la República</td>\n",
       "      <td>Más de 80 mil mujeres se movilizan en la CDMX</td>\n",
       "      <td>El machismo mata</td>\n",
       "    </tr>\n",
       "  </tbody>\n",
       "</table>\n",
       "<p>8 rows × 21 columns</p>\n",
       "</div>"
      ],
      "text/plain": [
       "                                                             0   \\\n",
       "El Universal            Homicidio doloso y feminicidio, al alza   \n",
       "La Prensa     Violó y mató a una adolescente de 16 años en E...   \n",
       "La Jornada    Guanajuato, la entidad más violenta durante oc...   \n",
       "Expansión     Policías dispersan a balazos manifestación por...   \n",
       "Heraldo       Baja California Sur aumenta hasta dos años la ...   \n",
       "Crónica       Aumentan los homicidos dolosos y feminicidios ...   \n",
       "Razón         Feminicidios incrementan 1.5% de septiembre a ...   \n",
       "El Sol        #NiUnaMás Feminicidios en el 2017: un año más ...   \n",
       "\n",
       "                                                             1   \\\n",
       "El Universal  Nueva jornada de protestas en Cancún termina c...   \n",
       "La Prensa     Llaman feministas mexiquenses a mega marcha el...   \n",
       "La Jornada    Ligera alza de homicidios dolosos durante octubre   \n",
       "Expansión     Una manifestación por el asesinato de la joven...   \n",
       "Heraldo       Mujer da clonazepam a su hija para que deje de...   \n",
       "Crónica       Detienen a dos implicados en el feminicidio qu...   \n",
       "Razón         Asume Flor Ruiz Cosío secretaría de Ayuntamien...   \n",
       "El Sol           Tunden a Gertz Manero por \"borrar\" feminicidio   \n",
       "\n",
       "                                                             2   \\\n",
       "El Universal  Vandalizan en protesta edificios públicos, en ...   \n",
       "La Prensa     Hallan cuerpo de mujer en la orilla de un río ...   \n",
       "La Jornada    Proceso contra agresor de saxofonista oaxaqueñ...   \n",
       "Expansión     #ColumnaInvitada | De feminicidios, policías y...   \n",
       "Heraldo       Maestra de Tehuantepec denuncia recibir amenaz...   \n",
       "Crónica           Toluca continua sumando casos de feminicidios   \n",
       "Razón                  Se acabó la impunidad: Cuitláhuac García   \n",
       "El Sol        En sexenio de Peña Nieto, 105 feminicidios fue...   \n",
       "\n",
       "                                                             3   \\\n",
       "El Universal  Protestan en zona hotelera de Cancún por femin...   \n",
       "La Prensa     Feministas de Quintana Roo acusas a grupos pol...   \n",
       "La Jornada    Día de la Militancia Peronista; debaten impues...   \n",
       "Expansión     El uso excesivo de la fuerza por policías en C...   \n",
       "Heraldo       Exnovia de Eleazar Gómez 'ATERRADA' ante liber...   \n",
       "Crónica           Marchan cientos contra feminicidios en Cancún   \n",
       "Razón         Caen 2 más por feminicidio de Alexis; suman 5 ...   \n",
       "El Sol        FGR explica por qué quiere eliminar el feminic...   \n",
       "\n",
       "                                                             4   \\\n",
       "El Universal  Protesta contra feminicidios llega por primera...   \n",
       "La Prensa     Cárcel de 55 años a quien golpeó y estranguló ...   \n",
       "La Jornada    Analizan jueces y magistrados nuevos retos de ...   \n",
       "Expansión     Policías dispersan a balazos manifestación por...   \n",
       "Heraldo       Tefy Valenzuela entre lágrimas habló de la vio...   \n",
       "Crónica           Otra marcha contra los feminicidios en Cancún   \n",
       "Razón         Se manifiestan en Cancún por desapariciones y ...   \n",
       "El Sol          En cinco años, feminicidio ha crecido 137%: FGR   \n",
       "\n",
       "                                                             5   \\\n",
       "El Universal  Colectivos y familiares de víctimas piden just...   \n",
       "La Prensa     Exigen justicia por Yuri, joven asesinada por ...   \n",
       "La Jornada    Destaca AMLO actuación del gobernador de Q. Ro...   \n",
       "Expansión     Los uniformados dispararon armas largas al air...   \n",
       "Heraldo       Suman 17 detenidos por robo de autopartes en l...   \n",
       "Crónica       Cientos de mujeres marchan en Cancún para exig...   \n",
       "Razón           Grupos feministas vandalizan sede de la FGJCDMX   \n",
       "El Sol        Ecatepec, un foco de riesgo para libertad de l...   \n",
       "\n",
       "                                                             6   \\\n",
       "El Universal  Protestan mujeres contra feminicidios; reporta...   \n",
       "La Prensa     Cae sujeto que violó y mató a puñaladas a una ...   \n",
       "La Jornada    Detienen a dos presuntos involucrados en el as...   \n",
       "Expansión     Durazo deja la Secretaría de Seguridad con aum...   \n",
       "Heraldo       Matan a coordinador operativo de la Cruz Verde...   \n",
       "Crónica       Policias municipales detienen a menores de eda...   \n",
       "Razón         Vandalizan estación de Metrobús en protesta po...   \n",
       "El Sol        Abril Pérez, el feminicidio que se hunde en la...   \n",
       "\n",
       "                                                             7   \\\n",
       "El Universal  A Wendy le rociaron gasolina y prendieron fueg...   \n",
       "La Prensa     Detienen a presuntos responsables del feminici...   \n",
       "La Jornada    Reportan dos feminicidios perpetrados anoche e...   \n",
       "Expansión     En el que fue su último informe de incidencia ...   \n",
       "Heraldo       Homicidios dolosos mantienen \"línea de contenc...   \n",
       "Crónica       Inicia proyecto Malinche-Malinches con 270 mic...   \n",
       "Razón           Escalada contra mujeres no cesa en Quintana Roo   \n",
       "El Sol        Falla Ciudad de México al determinar feminicidios   \n",
       "\n",
       "                                                             8   \\\n",
       "El Universal                        Exhortan a respetar marchas   \n",
       "La Prensa     Detienen a presuntos feminicidas de Alexis en ...   \n",
       "La Jornada    Protesta feminista de casi 6 horas en Cancún; ...   \n",
       "Expansión     Conoce el documental de Netflix sobre el femin...   \n",
       "Heraldo       José Diego Suárez, albañil de oficio, estudio ...   \n",
       "Crónica       Colectivas feministas rinden homenaje a victim...   \n",
       "Razón         Mujeres detenidas en manifestación de Cancún d...   \n",
       "El Sol        El Presidente \"nos trata como tontitas\": Patri...   \n",
       "\n",
       "                                                             9   ...  \\\n",
       "El Universal  Despiden a Alexis; la recuerdan como defensora...  ...   \n",
       "La Prensa           Repunta violencia de género en Quintana Roo  ...   \n",
       "La Jornada    Decenas de mujeres marchan contra feminicidios...  ...   \n",
       "Expansión     ‘Las tres muertes de Marisela Escobedo’ retrat...  ...   \n",
       "Heraldo       Vinculan a proceso a cinco trabajadores de la ...  ...   \n",
       "Crónica       Detienen a presuntos autores materiales del fe...  ...   \n",
       "Razón         #JusticiaParaAlexis: Hay 3 detenidos por su fe...  ...   \n",
       "El Sol        Diputados aprueban aumentar penas por feminici...  ...   \n",
       "\n",
       "                                                             11  \\\n",
       "El Universal  Encapuchadas protestan en la Roma contra repre...   \n",
       "La Prensa     Basta de represión en contra de las mujeres: K...   \n",
       "La Jornada    Protesta en CDMX contra represión a marcha por...   \n",
       "Expansión     El pasado 25 de septiembre, Jessica fue hallad...   \n",
       "Heraldo       Jueza acepta solicitud para retirar cargos a S...   \n",
       "Crónica       Olga Sánchez Cordero condena asesinato de Jessica   \n",
       "Razón         En Quintana Roo, arrestan a dos presuntos impl...   \n",
       "El Sol        Diana Cazadora y Glorieta La Minerva se tiñen ...   \n",
       "\n",
       "                                                             12  \\\n",
       "El Universal  Lo que sabemos del feminicidio de Alexis en Qu...   \n",
       "La Prensa     Asesinan a Karina dentro de su casa, momentos ...   \n",
       "La Jornada    López Obrador: con Sí por México se agravará e...   \n",
       "Expansión     En México, 60% de los feminicidios son cometid...   \n",
       "Heraldo       Sí hubo intervención diplomática para lograr a...   \n",
       "Crónica       Exigen aborto en todo el país; se registran de...   \n",
       "Razón         Nombra Carlos Joaquín a nuevo encargado de SSP...   \n",
       "El Sol        Zapatos rojos, sangre de víctimas de feminicidios   \n",
       "\n",
       "                                                             13  \\\n",
       "El Universal             Feministas colocan ofrendas a víctimas   \n",
       "La Prensa     Hallan muerta a Adriana Murrieta, la influence...   \n",
       "La Jornada    Realizarán mural en Chimalhuacán para víctimas...   \n",
       "Expansión     El cuerpo de las mujeres es utilizado como ven...   \n",
       "Heraldo                            Arman gresca y roban a niñas   \n",
       "Crónica       Contexto social, el mayor desafío para el Proc...   \n",
       "Razón         Realizan tercer cateo por el feminicidio de Al...   \n",
       "El Sol        \"Clausuran\" oficinas de la PGR por violencia c...   \n",
       "\n",
       "                                                             14  \\\n",
       "El Universal  Fernanda, Verónica y Beatriz ya tienen ofrenda...   \n",
       "La Prensa     Familiares exigen justicia por Susana, quincea...   \n",
       "La Jornada    Anuncia gobernador de QRoo nuevo titular de la...   \n",
       "Expansión     Homicidios, feminicidios y delitos de delincue...   \n",
       "Heraldo                         Familias identifican a víctimas   \n",
       "Crónica       \"No venimos a pasear ni a hacer campaña para n...   \n",
       "Razón         “Pensé que no la iba a librar”, relata tras pr...   \n",
       "El Sol        Marchan en la CDMX contra feminicidios en el D...   \n",
       "\n",
       "                                                             15  \\\n",
       "El Universal  Con una ofrenda y veladoras, feministas recuer...   \n",
       "La Prensa     Sentencia de 62 años de prisión por asfixiar a...   \n",
       "La Jornada    Feministas protestan frente a la sede del esta...   \n",
       "Expansión     El secretario de Seguridad, Alfonso Durazo, ma...   \n",
       "Heraldo       Cuatro mil mujeres reciben salario rosa en el ...   \n",
       "Crónica       “No somos burla de nadie... si autoridades y g...   \n",
       "Razón         Gobernador de Q. Roo advierte que no habrá imp...   \n",
       "El Sol        Feminicidio en el bar Baby Rock en Nezahualcóy...   \n",
       "\n",
       "                                                             16  \\\n",
       "El Universal  En la FGJ se está acabando la revictimización ...   \n",
       "La Prensa     Detienen a sujeto investigado por presunto fem...   \n",
       "La Jornada          Otra mujer asesinada en Cancún; un detenido   \n",
       "Expansión     Diputadas y FGR buscan homologar pena por femi...   \n",
       "Heraldo       ¡Indignación mundial! Niña de 13 años es OBLIG...   \n",
       "Crónica       AI: AMLO dio otros datos en su informe; femini...   \n",
       "Razón         Encaran periodistas a Mara Lezama tras actos d...   \n",
       "El Sol        Tiñen de rojo agua de fuente en SLP por femini...   \n",
       "\n",
       "                                                             17  \\\n",
       "El Universal  Edomex suma 106 feminicidios en lo que va del ...   \n",
       "La Prensa                                                         \n",
       "La Jornada    Celebra AMLO destitución en Q Roo de mandos po...   \n",
       "Expansión     La propuesta de homologación para el tipo pena...   \n",
       "Heraldo       Bomberos impiden que hombre se ARROJE de puent...   \n",
       "Crónica       Nueva normalidad destapa aumento de violencia ...   \n",
       "Razón         Exigen periodistas justicia tras agresión en C...   \n",
       "El Sol        Marcha del Silencio exige \"castigo a los culpa...   \n",
       "\n",
       "                                                             18  \\\n",
       "El Universal  Presentan documental sobre Primera Caravana co...   \n",
       "La Prensa                                                         \n",
       "La Jornada    El gobernador Joaquín y la edil Lezama se desl...   \n",
       "Expansión     Feminicidios alcanzan en junio la cifra más al...   \n",
       "Heraldo       Alberto Fernández revela que enviará proyecto ...   \n",
       "Crónica       Semáforo delictivo: homicidio, extorsión, narc...   \n",
       "Razón         Exige AMLO investigación tras disparos para di...   \n",
       "El Sol                Así protestan las mujeres en la República   \n",
       "\n",
       "                                                             19  \\\n",
       "El Universal                                                      \n",
       "La Prensa                                                         \n",
       "La Jornada    ONU Mujeres, CNDH y ONG condenan uso de la fue...   \n",
       "Expansión     En junio fueron asesinadas 309 mujeres, tomand...   \n",
       "Heraldo       Joven sufre aparatoso accidente y sale \"voland...   \n",
       "Crónica       Familias de víctimas de feminicidio y artesano...   \n",
       "Razón         Exigen justicia por feminicidio de Bianca Alej...   \n",
       "El Sol            Más de 80 mil mujeres se movilizan en la CDMX   \n",
       "\n",
       "                                                             20  \n",
       "El Universal                                                     \n",
       "La Prensa                                                        \n",
       "La Jornada                                                       \n",
       "Expansión     Un menor recibe condena por el feminicidio de ...  \n",
       "Heraldo                                                          \n",
       "Crónica       Con algunas riñas, avanza marcha feminista hac...  \n",
       "Razón                                                            \n",
       "El Sol                                         El machismo mata  \n",
       "\n",
       "[8 rows x 21 columns]"
      ]
     },
     "execution_count": 171,
     "metadata": {},
     "output_type": "execute_result"
    }
   ],
   "source": [
    "Data = df.transpose()\n",
    "Data #Paso las fuentes a rows - el análisis central debe estar en los encabezados encontrados"
   ]
  },
  {
   "cell_type": "code",
   "execution_count": 172,
   "metadata": {},
   "outputs": [],
   "source": [
    "#Defino diccionario para análisis \n",
    "Dict1 = {'Protestas': ['vandalizar', 'marcha', 'daño', 'balazo', 'manifestación', 'disparo', 'fuego', 'destrozo', 'protesta']} \n",
    "Dict2 = {'Victima' : ['victima']}\n",
    "Dict3 = {'Justicia' : ['justicia', 'demanda', 'ley']}\n",
    "Dict4 = {'Violencia': ['violación', 'asesinato','cuerpo', 'asfixia', 'celos', 'homicidio','venganza','desaparición', 'crueldad', 'sangre', 'mutilar']}"
   ]
  },
  {
   "cell_type": "code",
   "execution_count": 173,
   "metadata": {},
   "outputs": [],
   "source": [
    "def tendencia (dict, row):\n",
    "    if dict.values in row >= 3 :\n",
    "        return 'Tendencia Alta'\n",
    "    elif dict.values in row < 3:\n",
    "        return 'Tendencia Baja'\n",
    "    else:\n",
    "        return 'Tendencia Media'"
   ]
  },
  {
   "cell_type": "code",
   "execution_count": null,
   "metadata": {},
   "outputs": [],
   "source": []
  },
  {
   "cell_type": "code",
   "execution_count": null,
   "metadata": {},
   "outputs": [],
   "source": []
  }
 ],
 "metadata": {
  "kernelspec": {
   "display_name": "Python 3",
   "language": "python",
   "name": "python3"
  },
  "language_info": {
   "codemirror_mode": {
    "name": "ipython",
    "version": 3
   },
   "file_extension": ".py",
   "mimetype": "text/x-python",
   "name": "python",
   "nbconvert_exporter": "python",
   "pygments_lexer": "ipython3",
   "version": "3.8.5"
  }
 },
 "nbformat": 4,
 "nbformat_minor": 4
}
