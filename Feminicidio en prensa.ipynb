{
 "cells": [
  {
   "cell_type": "code",
   "execution_count": 321,
   "metadata": {},
   "outputs": [],
   "source": [
    "import requests\n",
    "from bs4 import BeautifulSoup\n",
    "import pandas as pd\n",
    "from selenium import webdriver\n",
    "import re\n",
    "import numpy as np"
   ]
  },
  {
   "cell_type": "code",
   "execution_count": 2,
   "metadata": {},
   "outputs": [],
   "source": [
    "#CASO 1 - EL UNIVERSAL\n",
    "#Pido request\n",
    "url1 = 'https://www.eluniversal.com.mx/tag/feminicidios'\n",
    "html = requests.get(url1).content"
   ]
  },
  {
   "cell_type": "code",
   "execution_count": 3,
   "metadata": {},
   "outputs": [],
   "source": [
    "#Creo una sopa y la 'hago bonita' para que los elementos sean más fáciles de identificar\n",
    "soup = BeautifulSoup(html,'lxml')\n",
    "#print(soup.prettify())"
   ]
  },
  {
   "cell_type": "code",
   "execution_count": 4,
   "metadata": {},
   "outputs": [],
   "source": [
    "#Selecciono los titulares de cada noticia\n",
    "noticias1 = soup.find_all('h3', {'class': 'ce9-TemasRelacionadosImagen_Titulo'})\n",
    "#noticias1"
   ]
  },
  {
   "cell_type": "code",
   "execution_count": 80,
   "metadata": {},
   "outputs": [
    {
     "data": {
      "text/plain": [
       "9"
      ]
     },
     "execution_count": 80,
     "metadata": {},
     "output_type": "execute_result"
    }
   ],
   "source": [
    "#Limpiar titulares y agregarlos a una primera lista - son 9 noticias apenas\n",
    "clean1= [element.text.strip() for element in noticias1]\n",
    "#print(clean1)\n",
    "len(clean1)"
   ]
  },
  {
   "cell_type": "code",
   "execution_count": 6,
   "metadata": {},
   "outputs": [],
   "source": [
    "#Pido request para página 2\n",
    "url2 = 'https://www.eluniversal.com.mx/tag/feminicidios?page=1'\n",
    "html = requests.get(url2).content"
   ]
  },
  {
   "cell_type": "code",
   "execution_count": 7,
   "metadata": {},
   "outputs": [],
   "source": [
    "#Creo una sopa y la 'hago bonita' para que los elementos sean más fáciles de identificar\n",
    "soup = BeautifulSoup(html,'lxml')\n",
    "#print(soup.prettify())"
   ]
  },
  {
   "cell_type": "code",
   "execution_count": 8,
   "metadata": {},
   "outputs": [],
   "source": [
    "#Selecciono los titulares de cada noticia\n",
    "noticias2 = soup.find_all('h3', {'class': 'ce9-TemasRelacionadosImagen_Titulo'})\n",
    "#noticias2"
   ]
  },
  {
   "cell_type": "code",
   "execution_count": 79,
   "metadata": {},
   "outputs": [],
   "source": [
    "#Limpiar titulares y agregarlos a una segunda lista - son 10 noticias \n",
    "clean2= [element.text.strip() for element in noticias2]\n",
    "#print(clean2)"
   ]
  },
  {
   "cell_type": "code",
   "execution_count": 245,
   "metadata": {},
   "outputs": [],
   "source": [
    "#Junto mis listas limpias en una sola para el caso de la prensa El Universal\n",
    "El_Universal = clean1 + clean2 \n",
    "#print(El_Universal)\n",
    "#len(El_Universal)"
   ]
  },
  {
   "cell_type": "code",
   "execution_count": 15,
   "metadata": {},
   "outputs": [],
   "source": [
    "#CASO 2 : La prensa\n",
    "# Genero request para el caso de La Prensa\n",
    "url4 = 'https://www.la-prensa.com.mx/tags/temas/feminicidio'\n",
    "html = requests.get(url4).content"
   ]
  },
  {
   "cell_type": "code",
   "execution_count": 16,
   "metadata": {},
   "outputs": [],
   "source": [
    "#Sopa \n",
    "soup = BeautifulSoup(html,'lxml')\n",
    "#print(soup.prettify())"
   ]
  },
  {
   "cell_type": "code",
   "execution_count": 17,
   "metadata": {},
   "outputs": [],
   "source": [
    "#Identifico elementos de mi interés - los encabezados o headers\n",
    "noticias4 = soup.find_all('h4', {'class': 'title'})\n",
    "#noticias4"
   ]
  },
  {
   "cell_type": "code",
   "execution_count": 81,
   "metadata": {},
   "outputs": [],
   "source": [
    "#Limpio elementos \n",
    "clean4= [element.text.strip() for element in noticias4]\n",
    "#print(clean4)"
   ]
  },
  {
   "cell_type": "code",
   "execution_count": 257,
   "metadata": {},
   "outputs": [
    {
     "data": {
      "text/plain": [
       "17"
      ]
     },
     "execution_count": 257,
     "metadata": {},
     "output_type": "execute_result"
    }
   ],
   "source": [
    "La_prensa= clean4\n",
    "#print(La_prensa)\n",
    "len(La_prensa)"
   ]
  },
  {
   "cell_type": "code",
   "execution_count": 22,
   "metadata": {},
   "outputs": [],
   "source": [
    "#CASO 3: La Jornada\n",
    "# Genero request para el caso de La Jornada\n",
    "url5 = 'https://www.jornada.com.mx/ultimas/@@search?SearchableText=feminicidio'\n",
    "html = requests.get(url5).content"
   ]
  },
  {
   "cell_type": "code",
   "execution_count": 23,
   "metadata": {},
   "outputs": [],
   "source": [
    "#Sopa \n",
    "soup = BeautifulSoup(html, 'lxml')\n",
    "#print(soup.prettify())"
   ]
  },
  {
   "cell_type": "code",
   "execution_count": 24,
   "metadata": {},
   "outputs": [],
   "source": [
    "#Identifico elementos de mi interés \n",
    "noticias5 = soup.find_all('a', {'class': 'state-published'})\n",
    "#noticias5"
   ]
  },
  {
   "cell_type": "code",
   "execution_count": 84,
   "metadata": {},
   "outputs": [],
   "source": [
    "#Limpio elementos \n",
    "clean5= [element.text.strip() for element in noticias5]\n",
    "#print(clean5)\n"
   ]
  },
  {
   "cell_type": "code",
   "execution_count": 85,
   "metadata": {},
   "outputs": [],
   "source": [
    "# Genero request para el caso de La Jornada página 2\n",
    "url6 = 'https://www.jornada.com.mx/ultimas/@@search?b_start:int=10&SearchableText=feminicidio'\n",
    "html = requests.get(url6).content"
   ]
  },
  {
   "cell_type": "code",
   "execution_count": 86,
   "metadata": {},
   "outputs": [],
   "source": [
    "#Sopa \n",
    "soup = BeautifulSoup(html, 'lxml')\n",
    "#print(soup.prettify())"
   ]
  },
  {
   "cell_type": "code",
   "execution_count": 87,
   "metadata": {},
   "outputs": [],
   "source": [
    "#Identifico elementos de interés \n",
    "noticias6 = soup.find_all('a', {'class': 'state-published'})\n",
    "#noticias6"
   ]
  },
  {
   "cell_type": "code",
   "execution_count": 259,
   "metadata": {},
   "outputs": [],
   "source": [
    "#Limpio elementos \n",
    "clean6= [element.text.strip() for element in noticias6]\n",
    "#print(clean6)"
   ]
  },
  {
   "cell_type": "code",
   "execution_count": 258,
   "metadata": {},
   "outputs": [
    {
     "data": {
      "text/plain": [
       "20"
      ]
     },
     "execution_count": 258,
     "metadata": {},
     "output_type": "execute_result"
    }
   ],
   "source": [
    "# Junto listas de elementos 'limpios' para el caso de La Jornada\n",
    "La_Jornada = clean5 + clean6\n",
    "#print(La_Jornada)\n",
    "len(La_Jornada)"
   ]
  },
  {
   "cell_type": "code",
   "execution_count": 90,
   "metadata": {},
   "outputs": [],
   "source": [
    "#CASO 4 Expansión \n",
    "# Genero request para el caso de La Jornada\n",
    "url7 = 'https://expansion.mx/busqueda?q=feminicidio'\n",
    "html = requests.get(url7).content"
   ]
  },
  {
   "cell_type": "code",
   "execution_count": 91,
   "metadata": {},
   "outputs": [],
   "source": [
    "#Sopa \n",
    "soup = BeautifulSoup(html, 'lxml')\n",
    "#print(soup.prettify())"
   ]
  },
  {
   "cell_type": "code",
   "execution_count": 92,
   "metadata": {},
   "outputs": [],
   "source": [
    "#Identifico elementos de interés \n",
    "noticias7 = soup.find_all('a', {'class': 'Link'})\n",
    "#noticias7"
   ]
  },
  {
   "cell_type": "code",
   "execution_count": 94,
   "metadata": {},
   "outputs": [],
   "source": [
    "#Limpio elementos \n",
    "clean7= [element.text.strip() for element in noticias7]"
   ]
  },
  {
   "cell_type": "code",
   "execution_count": 269,
   "metadata": {},
   "outputs": [],
   "source": [
    "nvoclean7=clean7[12:71]"
   ]
  },
  {
   "cell_type": "code",
   "execution_count": 271,
   "metadata": {},
   "outputs": [],
   "source": [
    "#Aquí necesio limpiar la lista guiándome con los índices para quitar espacios\n",
    "#pd.Series(nvoclean7)\n",
    "#Expansion = nvoclean7\n",
    "#len(Expansion)"
   ]
  },
  {
   "cell_type": "code",
   "execution_count": 279,
   "metadata": {},
   "outputs": [],
   "source": [
    "#Limpio mi lista para quitar vínculos o links que no corresponden a los encabezados o la info que me interesa\n",
    "Expansion_n = [s for s in Expansion if s != '' and len(s) > 15 ]\n",
    "#print(Expansion_n)"
   ]
  },
  {
   "cell_type": "code",
   "execution_count": 97,
   "metadata": {},
   "outputs": [],
   "source": [
    "#CASO 5 Heraldo de México\n",
    "# Genero request para el caso de La Jornada\n",
    "url8 = 'https://heraldodemexico.com.mx/noticias/buscar/?buscar=feminicidio'\n",
    "html = requests.get(url8).content"
   ]
  },
  {
   "cell_type": "code",
   "execution_count": 98,
   "metadata": {},
   "outputs": [],
   "source": [
    "#Sopa \n",
    "soup = BeautifulSoup(html, 'lxml')\n",
    "#print(soup.prettify())"
   ]
  },
  {
   "cell_type": "code",
   "execution_count": 99,
   "metadata": {},
   "outputs": [],
   "source": [
    "#Identifico elementos de interés \n",
    "noticias8 = soup.find_all('h5', {'class': 'titulo'})\n",
    "#noticias8"
   ]
  },
  {
   "cell_type": "code",
   "execution_count": 101,
   "metadata": {},
   "outputs": [],
   "source": [
    "#Limpio elementos \n",
    "clean8= [element.text.strip() for element in noticias8]\n",
    "#print(clean8)"
   ]
  },
  {
   "cell_type": "code",
   "execution_count": 278,
   "metadata": {},
   "outputs": [],
   "source": [
    "#Asigno nombre de caso a mi lista\n",
    "Heraldo_Mex = clean8\n",
    "#print(Heraldo_Mex)\n",
    "#len(Heraldo_Mex)"
   ]
  },
  {
   "cell_type": "code",
   "execution_count": 43,
   "metadata": {},
   "outputs": [],
   "source": [
    "#CASO 6 - Crónica\n",
    "#Pido request\n",
    "url9 = 'http://www.cronica.com.mx/index.php?bus=feminicidio'\n",
    "html = requests.get(url9).content"
   ]
  },
  {
   "cell_type": "code",
   "execution_count": 44,
   "metadata": {},
   "outputs": [],
   "source": [
    "#Sopa \n",
    "soup = BeautifulSoup(html, 'lxml')\n",
    "#print(soup.prettify())"
   ]
  },
  {
   "cell_type": "code",
   "execution_count": 48,
   "metadata": {},
   "outputs": [],
   "source": [
    "noticias9 = soup.find_all('a', {'class': 'link'})\n",
    "#noticias9"
   ]
  },
  {
   "cell_type": "code",
   "execution_count": 49,
   "metadata": {},
   "outputs": [
    {
     "data": {
      "text/plain": [
       "60"
      ]
     },
     "execution_count": 49,
     "metadata": {},
     "output_type": "execute_result"
    }
   ],
   "source": [
    "#Limpio elementos \n",
    "clean9= [element.text.strip() for element in noticias9]\n",
    "#print(clean9)\n",
    "len(clean9)"
   ]
  },
  {
   "cell_type": "code",
   "execution_count": 293,
   "metadata": {},
   "outputs": [],
   "source": [
    "#Limpio mi lista de strings para no tener elementos vacíos\n",
    "Cronica = clean9\n",
    "Cronica_n = [s for s in Cronica if s != '']\n",
    "#print(Cronica_n)"
   ]
  },
  {
   "cell_type": "code",
   "execution_count": 105,
   "metadata": {},
   "outputs": [],
   "source": [
    "#CASO 7 Razón \n",
    "#Pido request\n",
    "url10 = 'https://www.razon.com.mx/search/?q=feminicidio'\n",
    "html = requests.get(url10).content"
   ]
  },
  {
   "cell_type": "code",
   "execution_count": 106,
   "metadata": {},
   "outputs": [],
   "source": [
    "soup = BeautifulSoup(html, 'lxml')\n",
    "#print(soup.prettify())"
   ]
  },
  {
   "cell_type": "code",
   "execution_count": 107,
   "metadata": {},
   "outputs": [],
   "source": [
    "noticias10 = soup.find_all('h1', {'class': 'title'})\n",
    "#noticias10"
   ]
  },
  {
   "cell_type": "code",
   "execution_count": 109,
   "metadata": {},
   "outputs": [],
   "source": [
    "#Limpio elementos \n",
    "clean10= [element.text.strip() for element in noticias10]\n",
    "#print(clean10)\n",
    "#len(clean10)"
   ]
  },
  {
   "cell_type": "code",
   "execution_count": 132,
   "metadata": {},
   "outputs": [],
   "source": [
    "url11 = 'https://www.razon.com.mx/search/feminicidio/2?q=feminicidio&_type=all&multiFields%5B0%5D=title&multiFields%5B1%5D=authorName&multiFields%5B2%5D=category&multiFields%5B3%5D=categorySlug&multiFields%5B4%5D=simpleTags&multiFields%5B5%5D=seoTitle&multiFields%5B6%5D=seoKeywords&multiFields%5B7%5D=seoDescription'\n",
    "html = requests.get(url11).content"
   ]
  },
  {
   "cell_type": "code",
   "execution_count": 133,
   "metadata": {},
   "outputs": [],
   "source": [
    "soup = BeautifulSoup(html, 'lxml')\n",
    "#print(soup.prettify())"
   ]
  },
  {
   "cell_type": "code",
   "execution_count": 134,
   "metadata": {},
   "outputs": [],
   "source": [
    "noticias11 = soup.find_all('h1', {'class': 'title'})\n",
    "#noticias11"
   ]
  },
  {
   "cell_type": "code",
   "execution_count": 135,
   "metadata": {},
   "outputs": [],
   "source": [
    "clean11= [element.text.strip() for element in noticias11]\n",
    "#print(clean11)\n",
    "#len(clean11)"
   ]
  },
  {
   "cell_type": "code",
   "execution_count": 296,
   "metadata": {},
   "outputs": [
    {
     "data": {
      "text/plain": [
       "20"
      ]
     },
     "execution_count": 296,
     "metadata": {},
     "output_type": "execute_result"
    }
   ],
   "source": [
    "Razon = clean10 + clean11\n",
    "#print(Razon)\n",
    "len(Razon)"
   ]
  },
  {
   "cell_type": "code",
   "execution_count": 149,
   "metadata": {},
   "outputs": [],
   "source": [
    "#Caso 7 El Sol de México\n",
    "url12 = 'https://www.elsoldemexico.com.mx/buscar/?q=feminicidio'\n",
    "html = requests.get(url12).content"
   ]
  },
  {
   "cell_type": "code",
   "execution_count": 150,
   "metadata": {},
   "outputs": [],
   "source": [
    "soup = BeautifulSoup(html, 'lxml')\n",
    "#print(soup.prettify())"
   ]
  },
  {
   "cell_type": "code",
   "execution_count": 156,
   "metadata": {},
   "outputs": [],
   "source": [
    "noticias12 = soup.find_all('h4', {'class': 'title'})\n",
    "#noticias12"
   ]
  },
  {
   "cell_type": "code",
   "execution_count": 159,
   "metadata": {},
   "outputs": [],
   "source": [
    "clean12= [element.text.strip() for element in noticias12]\n",
    "#print(clean12)\n",
    "#len(clean12)"
   ]
  },
  {
   "cell_type": "code",
   "execution_count": 302,
   "metadata": {},
   "outputs": [],
   "source": [
    "El_Sol = clean12\n",
    "#print(El_Sol)"
   ]
  },
  {
   "cell_type": "code",
   "execution_count": null,
   "metadata": {},
   "outputs": [],
   "source": [
    "#CREATING DATA FRAMES for analysis"
   ]
  },
  {
   "cell_type": "code",
   "execution_count": 311,
   "metadata": {},
   "outputs": [],
   "source": [
    "data1 = pd.DataFrame(El_Universal)\n",
    "data1.columns = ['El Universal']"
   ]
  },
  {
   "cell_type": "code",
   "execution_count": 310,
   "metadata": {},
   "outputs": [],
   "source": [
    "data2 = pd.DataFrame(La_prensa)\n",
    "data2.columns=['La Prensa']"
   ]
  },
  {
   "cell_type": "code",
   "execution_count": 309,
   "metadata": {},
   "outputs": [],
   "source": [
    "data3= pd.DataFrame(La_Jornada)\n",
    "data3.columns = ['La Jornada']"
   ]
  },
  {
   "cell_type": "code",
   "execution_count": 308,
   "metadata": {},
   "outputs": [],
   "source": [
    "data4= pd.DataFrame(Expansion_n)\n",
    "data4.columns = ['Expansión']"
   ]
  },
  {
   "cell_type": "code",
   "execution_count": 307,
   "metadata": {},
   "outputs": [],
   "source": [
    "data5 = pd.DataFrame(Heraldo_Mex)\n",
    "data5.columns = ['Heraldo']"
   ]
  },
  {
   "cell_type": "code",
   "execution_count": 306,
   "metadata": {},
   "outputs": [],
   "source": [
    "data6 = pd.DataFrame(Cronica_n)\n",
    "data6.columns = ['Crónica']"
   ]
  },
  {
   "cell_type": "code",
   "execution_count": 299,
   "metadata": {},
   "outputs": [],
   "source": [
    "data7 = pd.DataFrame(Razon)\n",
    "data7.columns = ['Razón']"
   ]
  },
  {
   "cell_type": "code",
   "execution_count": 305,
   "metadata": {},
   "outputs": [],
   "source": [
    "data8 = pd.DataFrame(El_Sol)\n",
    "data8.columns = ['El Sol']"
   ]
  },
  {
   "cell_type": "code",
   "execution_count": 312,
   "metadata": {},
   "outputs": [],
   "source": [
    "new = pd.concat([data1, data2, data3, data4, data5, data6, data7, data8], axis=1) "
   ]
  },
  {
   "cell_type": "code",
   "execution_count": 327,
   "metadata": {},
   "outputs": [],
   "source": [
    "#new = new.drop(index=[21, 22, 23, 24, 25, 26, 27, 28, 29,]) - Elimino filas para hacer los datos más uniformes"
   ]
  },
  {
   "cell_type": "code",
   "execution_count": 335,
   "metadata": {},
   "outputs": [
    {
     "data": {
      "text/html": [
       "<style  type=\"text/css\" >\n",
       "#T_931dbd26_29fa_11eb_bc0b_acde48001122row0_col0,#T_931dbd26_29fa_11eb_bc0b_acde48001122row0_col1,#T_931dbd26_29fa_11eb_bc0b_acde48001122row0_col2,#T_931dbd26_29fa_11eb_bc0b_acde48001122row0_col3,#T_931dbd26_29fa_11eb_bc0b_acde48001122row0_col4,#T_931dbd26_29fa_11eb_bc0b_acde48001122row0_col5,#T_931dbd26_29fa_11eb_bc0b_acde48001122row0_col6,#T_931dbd26_29fa_11eb_bc0b_acde48001122row0_col7,#T_931dbd26_29fa_11eb_bc0b_acde48001122row1_col0,#T_931dbd26_29fa_11eb_bc0b_acde48001122row1_col1,#T_931dbd26_29fa_11eb_bc0b_acde48001122row1_col2,#T_931dbd26_29fa_11eb_bc0b_acde48001122row1_col3,#T_931dbd26_29fa_11eb_bc0b_acde48001122row1_col4,#T_931dbd26_29fa_11eb_bc0b_acde48001122row1_col5,#T_931dbd26_29fa_11eb_bc0b_acde48001122row1_col6,#T_931dbd26_29fa_11eb_bc0b_acde48001122row1_col7,#T_931dbd26_29fa_11eb_bc0b_acde48001122row2_col0,#T_931dbd26_29fa_11eb_bc0b_acde48001122row2_col1,#T_931dbd26_29fa_11eb_bc0b_acde48001122row2_col2,#T_931dbd26_29fa_11eb_bc0b_acde48001122row2_col3,#T_931dbd26_29fa_11eb_bc0b_acde48001122row2_col4,#T_931dbd26_29fa_11eb_bc0b_acde48001122row2_col5,#T_931dbd26_29fa_11eb_bc0b_acde48001122row2_col6,#T_931dbd26_29fa_11eb_bc0b_acde48001122row2_col7,#T_931dbd26_29fa_11eb_bc0b_acde48001122row3_col0,#T_931dbd26_29fa_11eb_bc0b_acde48001122row3_col1,#T_931dbd26_29fa_11eb_bc0b_acde48001122row3_col2,#T_931dbd26_29fa_11eb_bc0b_acde48001122row3_col3,#T_931dbd26_29fa_11eb_bc0b_acde48001122row3_col4,#T_931dbd26_29fa_11eb_bc0b_acde48001122row3_col5,#T_931dbd26_29fa_11eb_bc0b_acde48001122row3_col6,#T_931dbd26_29fa_11eb_bc0b_acde48001122row3_col7,#T_931dbd26_29fa_11eb_bc0b_acde48001122row4_col0,#T_931dbd26_29fa_11eb_bc0b_acde48001122row4_col1,#T_931dbd26_29fa_11eb_bc0b_acde48001122row4_col2,#T_931dbd26_29fa_11eb_bc0b_acde48001122row4_col3,#T_931dbd26_29fa_11eb_bc0b_acde48001122row4_col4,#T_931dbd26_29fa_11eb_bc0b_acde48001122row4_col5,#T_931dbd26_29fa_11eb_bc0b_acde48001122row4_col6,#T_931dbd26_29fa_11eb_bc0b_acde48001122row4_col7,#T_931dbd26_29fa_11eb_bc0b_acde48001122row5_col0,#T_931dbd26_29fa_11eb_bc0b_acde48001122row5_col1,#T_931dbd26_29fa_11eb_bc0b_acde48001122row5_col2,#T_931dbd26_29fa_11eb_bc0b_acde48001122row5_col3,#T_931dbd26_29fa_11eb_bc0b_acde48001122row5_col4,#T_931dbd26_29fa_11eb_bc0b_acde48001122row5_col5,#T_931dbd26_29fa_11eb_bc0b_acde48001122row5_col6,#T_931dbd26_29fa_11eb_bc0b_acde48001122row5_col7,#T_931dbd26_29fa_11eb_bc0b_acde48001122row6_col0,#T_931dbd26_29fa_11eb_bc0b_acde48001122row6_col1,#T_931dbd26_29fa_11eb_bc0b_acde48001122row6_col2,#T_931dbd26_29fa_11eb_bc0b_acde48001122row6_col3,#T_931dbd26_29fa_11eb_bc0b_acde48001122row6_col4,#T_931dbd26_29fa_11eb_bc0b_acde48001122row6_col5,#T_931dbd26_29fa_11eb_bc0b_acde48001122row6_col6,#T_931dbd26_29fa_11eb_bc0b_acde48001122row6_col7,#T_931dbd26_29fa_11eb_bc0b_acde48001122row7_col0,#T_931dbd26_29fa_11eb_bc0b_acde48001122row7_col1,#T_931dbd26_29fa_11eb_bc0b_acde48001122row7_col2,#T_931dbd26_29fa_11eb_bc0b_acde48001122row7_col3,#T_931dbd26_29fa_11eb_bc0b_acde48001122row7_col4,#T_931dbd26_29fa_11eb_bc0b_acde48001122row7_col5,#T_931dbd26_29fa_11eb_bc0b_acde48001122row7_col6,#T_931dbd26_29fa_11eb_bc0b_acde48001122row7_col7,#T_931dbd26_29fa_11eb_bc0b_acde48001122row8_col0,#T_931dbd26_29fa_11eb_bc0b_acde48001122row8_col1,#T_931dbd26_29fa_11eb_bc0b_acde48001122row8_col2,#T_931dbd26_29fa_11eb_bc0b_acde48001122row8_col3,#T_931dbd26_29fa_11eb_bc0b_acde48001122row8_col4,#T_931dbd26_29fa_11eb_bc0b_acde48001122row8_col5,#T_931dbd26_29fa_11eb_bc0b_acde48001122row8_col6,#T_931dbd26_29fa_11eb_bc0b_acde48001122row8_col7,#T_931dbd26_29fa_11eb_bc0b_acde48001122row9_col0,#T_931dbd26_29fa_11eb_bc0b_acde48001122row9_col1,#T_931dbd26_29fa_11eb_bc0b_acde48001122row9_col2,#T_931dbd26_29fa_11eb_bc0b_acde48001122row9_col3,#T_931dbd26_29fa_11eb_bc0b_acde48001122row9_col4,#T_931dbd26_29fa_11eb_bc0b_acde48001122row9_col5,#T_931dbd26_29fa_11eb_bc0b_acde48001122row9_col6,#T_931dbd26_29fa_11eb_bc0b_acde48001122row9_col7,#T_931dbd26_29fa_11eb_bc0b_acde48001122row10_col0,#T_931dbd26_29fa_11eb_bc0b_acde48001122row10_col1,#T_931dbd26_29fa_11eb_bc0b_acde48001122row10_col2,#T_931dbd26_29fa_11eb_bc0b_acde48001122row10_col3,#T_931dbd26_29fa_11eb_bc0b_acde48001122row10_col4,#T_931dbd26_29fa_11eb_bc0b_acde48001122row10_col5,#T_931dbd26_29fa_11eb_bc0b_acde48001122row10_col6,#T_931dbd26_29fa_11eb_bc0b_acde48001122row10_col7,#T_931dbd26_29fa_11eb_bc0b_acde48001122row11_col0,#T_931dbd26_29fa_11eb_bc0b_acde48001122row11_col1,#T_931dbd26_29fa_11eb_bc0b_acde48001122row11_col2,#T_931dbd26_29fa_11eb_bc0b_acde48001122row11_col3,#T_931dbd26_29fa_11eb_bc0b_acde48001122row11_col4,#T_931dbd26_29fa_11eb_bc0b_acde48001122row11_col5,#T_931dbd26_29fa_11eb_bc0b_acde48001122row11_col6,#T_931dbd26_29fa_11eb_bc0b_acde48001122row11_col7,#T_931dbd26_29fa_11eb_bc0b_acde48001122row12_col0,#T_931dbd26_29fa_11eb_bc0b_acde48001122row12_col1,#T_931dbd26_29fa_11eb_bc0b_acde48001122row12_col2,#T_931dbd26_29fa_11eb_bc0b_acde48001122row12_col3,#T_931dbd26_29fa_11eb_bc0b_acde48001122row12_col4,#T_931dbd26_29fa_11eb_bc0b_acde48001122row12_col5,#T_931dbd26_29fa_11eb_bc0b_acde48001122row12_col6,#T_931dbd26_29fa_11eb_bc0b_acde48001122row12_col7,#T_931dbd26_29fa_11eb_bc0b_acde48001122row13_col0,#T_931dbd26_29fa_11eb_bc0b_acde48001122row13_col1,#T_931dbd26_29fa_11eb_bc0b_acde48001122row13_col2,#T_931dbd26_29fa_11eb_bc0b_acde48001122row13_col3,#T_931dbd26_29fa_11eb_bc0b_acde48001122row13_col4,#T_931dbd26_29fa_11eb_bc0b_acde48001122row13_col5,#T_931dbd26_29fa_11eb_bc0b_acde48001122row13_col6,#T_931dbd26_29fa_11eb_bc0b_acde48001122row13_col7,#T_931dbd26_29fa_11eb_bc0b_acde48001122row14_col0,#T_931dbd26_29fa_11eb_bc0b_acde48001122row14_col1,#T_931dbd26_29fa_11eb_bc0b_acde48001122row14_col2,#T_931dbd26_29fa_11eb_bc0b_acde48001122row14_col3,#T_931dbd26_29fa_11eb_bc0b_acde48001122row14_col4,#T_931dbd26_29fa_11eb_bc0b_acde48001122row14_col5,#T_931dbd26_29fa_11eb_bc0b_acde48001122row14_col6,#T_931dbd26_29fa_11eb_bc0b_acde48001122row14_col7,#T_931dbd26_29fa_11eb_bc0b_acde48001122row15_col0,#T_931dbd26_29fa_11eb_bc0b_acde48001122row15_col1,#T_931dbd26_29fa_11eb_bc0b_acde48001122row15_col2,#T_931dbd26_29fa_11eb_bc0b_acde48001122row15_col3,#T_931dbd26_29fa_11eb_bc0b_acde48001122row15_col4,#T_931dbd26_29fa_11eb_bc0b_acde48001122row15_col5,#T_931dbd26_29fa_11eb_bc0b_acde48001122row15_col6,#T_931dbd26_29fa_11eb_bc0b_acde48001122row15_col7,#T_931dbd26_29fa_11eb_bc0b_acde48001122row16_col0,#T_931dbd26_29fa_11eb_bc0b_acde48001122row16_col1,#T_931dbd26_29fa_11eb_bc0b_acde48001122row16_col2,#T_931dbd26_29fa_11eb_bc0b_acde48001122row16_col3,#T_931dbd26_29fa_11eb_bc0b_acde48001122row16_col4,#T_931dbd26_29fa_11eb_bc0b_acde48001122row16_col5,#T_931dbd26_29fa_11eb_bc0b_acde48001122row16_col6,#T_931dbd26_29fa_11eb_bc0b_acde48001122row16_col7,#T_931dbd26_29fa_11eb_bc0b_acde48001122row17_col0,#T_931dbd26_29fa_11eb_bc0b_acde48001122row17_col1,#T_931dbd26_29fa_11eb_bc0b_acde48001122row17_col2,#T_931dbd26_29fa_11eb_bc0b_acde48001122row17_col3,#T_931dbd26_29fa_11eb_bc0b_acde48001122row17_col4,#T_931dbd26_29fa_11eb_bc0b_acde48001122row17_col5,#T_931dbd26_29fa_11eb_bc0b_acde48001122row17_col6,#T_931dbd26_29fa_11eb_bc0b_acde48001122row17_col7,#T_931dbd26_29fa_11eb_bc0b_acde48001122row18_col0,#T_931dbd26_29fa_11eb_bc0b_acde48001122row18_col1,#T_931dbd26_29fa_11eb_bc0b_acde48001122row18_col2,#T_931dbd26_29fa_11eb_bc0b_acde48001122row18_col3,#T_931dbd26_29fa_11eb_bc0b_acde48001122row18_col4,#T_931dbd26_29fa_11eb_bc0b_acde48001122row18_col5,#T_931dbd26_29fa_11eb_bc0b_acde48001122row18_col6,#T_931dbd26_29fa_11eb_bc0b_acde48001122row18_col7,#T_931dbd26_29fa_11eb_bc0b_acde48001122row19_col0,#T_931dbd26_29fa_11eb_bc0b_acde48001122row19_col1,#T_931dbd26_29fa_11eb_bc0b_acde48001122row19_col2,#T_931dbd26_29fa_11eb_bc0b_acde48001122row19_col3,#T_931dbd26_29fa_11eb_bc0b_acde48001122row19_col4,#T_931dbd26_29fa_11eb_bc0b_acde48001122row19_col5,#T_931dbd26_29fa_11eb_bc0b_acde48001122row19_col6,#T_931dbd26_29fa_11eb_bc0b_acde48001122row19_col7,#T_931dbd26_29fa_11eb_bc0b_acde48001122row20_col0,#T_931dbd26_29fa_11eb_bc0b_acde48001122row20_col1,#T_931dbd26_29fa_11eb_bc0b_acde48001122row20_col2,#T_931dbd26_29fa_11eb_bc0b_acde48001122row20_col3,#T_931dbd26_29fa_11eb_bc0b_acde48001122row20_col4,#T_931dbd26_29fa_11eb_bc0b_acde48001122row20_col5,#T_931dbd26_29fa_11eb_bc0b_acde48001122row20_col6,#T_931dbd26_29fa_11eb_bc0b_acde48001122row20_col7{\n",
       "            text-align:  left;\n",
       "        }</style><table id=\"T_931dbd26_29fa_11eb_bc0b_acde48001122\" ><thead>    <tr>        <th class=\"blank level0\" ></th>        <th class=\"col_heading level0 col0\" >El Universal</th>        <th class=\"col_heading level0 col1\" >La Prensa</th>        <th class=\"col_heading level0 col2\" >La Jornada</th>        <th class=\"col_heading level0 col3\" >Expansión</th>        <th class=\"col_heading level0 col4\" >Heraldo</th>        <th class=\"col_heading level0 col5\" >Crónica</th>        <th class=\"col_heading level0 col6\" >Razón</th>        <th class=\"col_heading level0 col7\" >El Sol</th>    </tr></thead><tbody>\n",
       "                <tr>\n",
       "                        <th id=\"T_931dbd26_29fa_11eb_bc0b_acde48001122level0_row0\" class=\"row_heading level0 row0\" >0</th>\n",
       "                        <td id=\"T_931dbd26_29fa_11eb_bc0b_acde48001122row0_col0\" class=\"data row0 col0\" >Nueva jornada de protestas en Cancún termina con personas lesionadas, detenidos y daños</td>\n",
       "                        <td id=\"T_931dbd26_29fa_11eb_bc0b_acde48001122row0_col1\" class=\"data row0 col1\" >Hallan cuerpo de mujer en la orilla de un río en Juchitán, Oaxaca</td>\n",
       "                        <td id=\"T_931dbd26_29fa_11eb_bc0b_acde48001122row0_col2\" class=\"data row0 col2\" >Proceso contra agresor de saxofonista oaxaqueña concluirá en 2021: TSJE</td>\n",
       "                        <td id=\"T_931dbd26_29fa_11eb_bc0b_acde48001122row0_col3\" class=\"data row0 col3\" >Policías dispersan a balazos manifestación por feminicidios en Cancún</td>\n",
       "                        <td id=\"T_931dbd26_29fa_11eb_bc0b_acde48001122row0_col4\" class=\"data row0 col4\" >Jueza acepta solicitud para retirar cargos a Salvador Cienfuegos</td>\n",
       "                        <td id=\"T_931dbd26_29fa_11eb_bc0b_acde48001122row0_col5\" class=\"data row0 col5\" >Detienen a dos implicados en el feminicidio que derivó en protestas en Cancún</td>\n",
       "                        <td id=\"T_931dbd26_29fa_11eb_bc0b_acde48001122row0_col6\" class=\"data row0 col6\" >Asume Flor Ruiz Cosío secretaría de Ayuntamiento en Cancún</td>\n",
       "                        <td id=\"T_931dbd26_29fa_11eb_bc0b_acde48001122row0_col7\" class=\"data row0 col7\" >#NiUnaMás Feminicidios en el 2017: un año más de crueldad hacia las mujeres</td>\n",
       "            </tr>\n",
       "            <tr>\n",
       "                        <th id=\"T_931dbd26_29fa_11eb_bc0b_acde48001122level0_row1\" class=\"row_heading level0 row1\" >1</th>\n",
       "                        <td id=\"T_931dbd26_29fa_11eb_bc0b_acde48001122row1_col0\" class=\"data row1 col0\" >Vandalizan en protesta edificios públicos, en Cancún</td>\n",
       "                        <td id=\"T_931dbd26_29fa_11eb_bc0b_acde48001122row1_col1\" class=\"data row1 col1\" >Feministas de Quintana Roo acusas a grupos políticos de \"arribistas\"</td>\n",
       "                        <td id=\"T_931dbd26_29fa_11eb_bc0b_acde48001122row1_col2\" class=\"data row1 col2\" >Día de la Militancia Peronista; debaten impuesto a ricos en Argentina</td>\n",
       "                        <td id=\"T_931dbd26_29fa_11eb_bc0b_acde48001122row1_col3\" class=\"data row1 col3\" >Una manifestación por el asesinato de la joven Bianca Alejandrina en la ciudad de Cancún, Quintana Roo, fue dispersada a balazos por parte de policías.</td>\n",
       "                        <td id=\"T_931dbd26_29fa_11eb_bc0b_acde48001122row1_col4\" class=\"data row1 col4\" >Sí hubo intervención diplomática para lograr acuerdo en caso Cienfuegos, confirma AMLO</td>\n",
       "                        <td id=\"T_931dbd26_29fa_11eb_bc0b_acde48001122row1_col5\" class=\"data row1 col5\" >Toluca continua sumando casos de feminicidios</td>\n",
       "                        <td id=\"T_931dbd26_29fa_11eb_bc0b_acde48001122row1_col6\" class=\"data row1 col6\" >Se acabó la impunidad: Cuitláhuac García</td>\n",
       "                        <td id=\"T_931dbd26_29fa_11eb_bc0b_acde48001122row1_col7\" class=\"data row1 col7\" >Tunden a Gertz Manero por \"borrar\" feminicidio</td>\n",
       "            </tr>\n",
       "            <tr>\n",
       "                        <th id=\"T_931dbd26_29fa_11eb_bc0b_acde48001122level0_row2\" class=\"row_heading level0 row2\" >2</th>\n",
       "                        <td id=\"T_931dbd26_29fa_11eb_bc0b_acde48001122row2_col0\" class=\"data row2 col0\" >Protestan en zona hotelera de Cancún por feminicidios</td>\n",
       "                        <td id=\"T_931dbd26_29fa_11eb_bc0b_acde48001122row2_col1\" class=\"data row2 col1\" >Cárcel de 55 años a quien golpeó y estranguló a su propia abuela</td>\n",
       "                        <td id=\"T_931dbd26_29fa_11eb_bc0b_acde48001122row2_col2\" class=\"data row2 col2\" >Analizan jueces y magistrados nuevos retos de la judicatura federal</td>\n",
       "                        <td id=\"T_931dbd26_29fa_11eb_bc0b_acde48001122row2_col3\" class=\"data row2 col3\" >#ColumnaInvitada | De feminicidios, policías y manifestaciones</td>\n",
       "                        <td id=\"T_931dbd26_29fa_11eb_bc0b_acde48001122row2_col4\" class=\"data row2 col4\" >Arman gresca y roban a niñas</td>\n",
       "                        <td id=\"T_931dbd26_29fa_11eb_bc0b_acde48001122row2_col5\" class=\"data row2 col5\" >Marchan cientos contra feminicidios en Cancún</td>\n",
       "                        <td id=\"T_931dbd26_29fa_11eb_bc0b_acde48001122row2_col6\" class=\"data row2 col6\" >Caen 2 más por feminicidio de Alexis; suman 5 detenidos</td>\n",
       "                        <td id=\"T_931dbd26_29fa_11eb_bc0b_acde48001122row2_col7\" class=\"data row2 col7\" >En sexenio de Peña Nieto, 105 feminicidios fueron absueltos: MCCI</td>\n",
       "            </tr>\n",
       "            <tr>\n",
       "                        <th id=\"T_931dbd26_29fa_11eb_bc0b_acde48001122level0_row3\" class=\"row_heading level0 row3\" >3</th>\n",
       "                        <td id=\"T_931dbd26_29fa_11eb_bc0b_acde48001122row3_col0\" class=\"data row3 col0\" >Protesta contra feminicidios llega por primera vez a zona turística de Quintana Roo</td>\n",
       "                        <td id=\"T_931dbd26_29fa_11eb_bc0b_acde48001122row3_col1\" class=\"data row3 col1\" >Exigen justicia por Yuri, joven asesinada por su esposo</td>\n",
       "                        <td id=\"T_931dbd26_29fa_11eb_bc0b_acde48001122row3_col2\" class=\"data row3 col2\" >Destaca AMLO actuación del gobernador de Q. Roo sobre exceso policial</td>\n",
       "                        <td id=\"T_931dbd26_29fa_11eb_bc0b_acde48001122row3_col3\" class=\"data row3 col3\" >El uso excesivo de la fuerza por policías en Cancún pone de manifiesto la sistemática precariedad en la formación, capacidad y protocolos de operación de las instituciones locales en seguridad.</td>\n",
       "                        <td id=\"T_931dbd26_29fa_11eb_bc0b_acde48001122row3_col4\" class=\"data row3 col4\" >Familias identifican a víctimas</td>\n",
       "                        <td id=\"T_931dbd26_29fa_11eb_bc0b_acde48001122row3_col5\" class=\"data row3 col5\" >Otra marcha contra los feminicidios en Cancún</td>\n",
       "                        <td id=\"T_931dbd26_29fa_11eb_bc0b_acde48001122row3_col6\" class=\"data row3 col6\" >Se manifiestan en Cancún por desapariciones y feminicidios</td>\n",
       "                        <td id=\"T_931dbd26_29fa_11eb_bc0b_acde48001122row3_col7\" class=\"data row3 col7\" >FGR explica por qué quiere eliminar el feminicidio del código penal</td>\n",
       "            </tr>\n",
       "            <tr>\n",
       "                        <th id=\"T_931dbd26_29fa_11eb_bc0b_acde48001122level0_row4\" class=\"row_heading level0 row4\" >4</th>\n",
       "                        <td id=\"T_931dbd26_29fa_11eb_bc0b_acde48001122row4_col0\" class=\"data row4 col0\" >Colectivos y familiares de víctimas piden justicia por feminicidios en Toluca</td>\n",
       "                        <td id=\"T_931dbd26_29fa_11eb_bc0b_acde48001122row4_col1\" class=\"data row4 col1\" >Cae sujeto que violó y mató a puñaladas a una mujer en Atizapán</td>\n",
       "                        <td id=\"T_931dbd26_29fa_11eb_bc0b_acde48001122row4_col2\" class=\"data row4 col2\" >Detienen a dos presuntos involucrados en el asesinato de Alexis</td>\n",
       "                        <td id=\"T_931dbd26_29fa_11eb_bc0b_acde48001122row4_col3\" class=\"data row4 col3\" >Policías dispersan a balazos manifestación por feminicidios en Cancún</td>\n",
       "                        <td id=\"T_931dbd26_29fa_11eb_bc0b_acde48001122row4_col4\" class=\"data row4 col4\" >Cuatro mil mujeres reciben salario rosa en el Estado de México</td>\n",
       "                        <td id=\"T_931dbd26_29fa_11eb_bc0b_acde48001122row4_col5\" class=\"data row4 col5\" >Cientos de mujeres marchan en Cancún para exigir justicia en feminicidios; le prenden fuego a la Fiscalía del estado</td>\n",
       "                        <td id=\"T_931dbd26_29fa_11eb_bc0b_acde48001122row4_col6\" class=\"data row4 col6\" >Grupos feministas vandalizan sede de la FGJCDMX</td>\n",
       "                        <td id=\"T_931dbd26_29fa_11eb_bc0b_acde48001122row4_col7\" class=\"data row4 col7\" >En cinco años, feminicidio ha crecido 137%: FGR</td>\n",
       "            </tr>\n",
       "            <tr>\n",
       "                        <th id=\"T_931dbd26_29fa_11eb_bc0b_acde48001122level0_row5\" class=\"row_heading level0 row5\" >5</th>\n",
       "                        <td id=\"T_931dbd26_29fa_11eb_bc0b_acde48001122row5_col0\" class=\"data row5 col0\" >Protestan mujeres contra feminicidios; reportan daños a estaciones de L7 del Metrobús</td>\n",
       "                        <td id=\"T_931dbd26_29fa_11eb_bc0b_acde48001122row5_col1\" class=\"data row5 col1\" >Detienen a presuntos responsables del feminicidio de “Alexis”, en Cancún</td>\n",
       "                        <td id=\"T_931dbd26_29fa_11eb_bc0b_acde48001122row5_col2\" class=\"data row5 col2\" >Reportan dos feminicidios perpetrados anoche en Guadalajara</td>\n",
       "                        <td id=\"T_931dbd26_29fa_11eb_bc0b_acde48001122row5_col3\" class=\"data row5 col3\" >Los uniformados dispararon armas largas al aire en medio de una protesta en el Ayuntamiento de Benito Juárez.</td>\n",
       "                        <td id=\"T_931dbd26_29fa_11eb_bc0b_acde48001122row5_col4\" class=\"data row5 col4\" >¡Indignación mundial! Niña de 13 años es OBLIGADA a casarse con hombre de 48 años</td>\n",
       "                        <td id=\"T_931dbd26_29fa_11eb_bc0b_acde48001122row5_col5\" class=\"data row5 col5\" >Policias municipales detienen a menores de edad por protesta ante feminicidios</td>\n",
       "                        <td id=\"T_931dbd26_29fa_11eb_bc0b_acde48001122row5_col6\" class=\"data row5 col6\" >Vandalizan estación de Metrobús en protesta por feminicidio de Alexis</td>\n",
       "                        <td id=\"T_931dbd26_29fa_11eb_bc0b_acde48001122row5_col7\" class=\"data row5 col7\" >Ecatepec, un foco de riesgo para libertad de las mujeres</td>\n",
       "            </tr>\n",
       "            <tr>\n",
       "                        <th id=\"T_931dbd26_29fa_11eb_bc0b_acde48001122level0_row6\" class=\"row_heading level0 row6\" >6</th>\n",
       "                        <td id=\"T_931dbd26_29fa_11eb_bc0b_acde48001122row6_col0\" class=\"data row6 col0\" >A Wendy le rociaron gasolina y prendieron fuego en Oaxaca; hay un detenido</td>\n",
       "                        <td id=\"T_931dbd26_29fa_11eb_bc0b_acde48001122row6_col1\" class=\"data row6 col1\" >Detienen a presuntos feminicidas de Alexis en Cancún</td>\n",
       "                        <td id=\"T_931dbd26_29fa_11eb_bc0b_acde48001122row6_col2\" class=\"data row6 col2\" >Protesta feminista de casi 6 horas en Cancún; daños en edificios públicos</td>\n",
       "                        <td id=\"T_931dbd26_29fa_11eb_bc0b_acde48001122row6_col3\" class=\"data row6 col3\" >Durazo deja la Secretaría de Seguridad con aumento en feminicidios y homicidios</td>\n",
       "                        <td id=\"T_931dbd26_29fa_11eb_bc0b_acde48001122row6_col4\" class=\"data row6 col4\" >Bomberos impiden que hombre se ARROJE de puente; desciende y MUERE de un paro cardíaco</td>\n",
       "                        <td id=\"T_931dbd26_29fa_11eb_bc0b_acde48001122row6_col5\" class=\"data row6 col5\" >Inicia proyecto Malinche-Malinches con 270 microhistorias en el Museo del Chopo</td>\n",
       "                        <td id=\"T_931dbd26_29fa_11eb_bc0b_acde48001122row6_col6\" class=\"data row6 col6\" >Escalada contra mujeres no cesa en Quintana Roo</td>\n",
       "                        <td id=\"T_931dbd26_29fa_11eb_bc0b_acde48001122row6_col7\" class=\"data row6 col7\" >Abril Pérez, el feminicidio que se hunde en la espiral de la impunidad</td>\n",
       "            </tr>\n",
       "            <tr>\n",
       "                        <th id=\"T_931dbd26_29fa_11eb_bc0b_acde48001122level0_row7\" class=\"row_heading level0 row7\" >7</th>\n",
       "                        <td id=\"T_931dbd26_29fa_11eb_bc0b_acde48001122row7_col0\" class=\"data row7 col0\" >Exhortan a respetar marchas</td>\n",
       "                        <td id=\"T_931dbd26_29fa_11eb_bc0b_acde48001122row7_col1\" class=\"data row7 col1\" >Repunta violencia de género en Quintana Roo</td>\n",
       "                        <td id=\"T_931dbd26_29fa_11eb_bc0b_acde48001122row7_col2\" class=\"data row7 col2\" >Decenas de mujeres marchan contra feminicidios en Ecatepec</td>\n",
       "                        <td id=\"T_931dbd26_29fa_11eb_bc0b_acde48001122row7_col3\" class=\"data row7 col3\" >En el que fue su último informe de incidencia delictiva, el secretario reconoció que en el último año los homicidios dolosos aumentaron 1% y los feminicidios, 0.4%.</td>\n",
       "                        <td id=\"T_931dbd26_29fa_11eb_bc0b_acde48001122row7_col4\" class=\"data row7 col4\" >Alberto Fernández revela que enviará proyecto de aborto al Congreso; \"que se haga ley\": VIDEO</td>\n",
       "                        <td id=\"T_931dbd26_29fa_11eb_bc0b_acde48001122row7_col5\" class=\"data row7 col5\" >Colectivas feministas rinden homenaje a victimas de feminicidios</td>\n",
       "                        <td id=\"T_931dbd26_29fa_11eb_bc0b_acde48001122row7_col6\" class=\"data row7 col6\" >Mujeres detenidas en manifestación de Cancún denuncian abuso sexual</td>\n",
       "                        <td id=\"T_931dbd26_29fa_11eb_bc0b_acde48001122row7_col7\" class=\"data row7 col7\" >Falla Ciudad de México al determinar feminicidios</td>\n",
       "            </tr>\n",
       "            <tr>\n",
       "                        <th id=\"T_931dbd26_29fa_11eb_bc0b_acde48001122level0_row8\" class=\"row_heading level0 row8\" >8</th>\n",
       "                        <td id=\"T_931dbd26_29fa_11eb_bc0b_acde48001122row8_col0\" class=\"data row8 col0\" >Despiden a Alexis; la recuerdan como defensora de las mujeres</td>\n",
       "                        <td id=\"T_931dbd26_29fa_11eb_bc0b_acde48001122row8_col1\" class=\"data row8 col1\" >Condena ONU Mujeres excesos policiacos durante protesta contra feminicidios en Cancún</td>\n",
       "                        <td id=\"T_931dbd26_29fa_11eb_bc0b_acde48001122row8_col2\" class=\"data row8 col2\" >Protestan en la CDMX por feminicidio de Alexis</td>\n",
       "                        <td id=\"T_931dbd26_29fa_11eb_bc0b_acde48001122row8_col3\" class=\"data row8 col3\" >Conoce el documental de Netflix sobre el feminicidio más infame de México</td>\n",
       "                        <td id=\"T_931dbd26_29fa_11eb_bc0b_acde48001122row8_col4\" class=\"data row8 col4\" >Joven sufre aparatoso accidente y sale \"volando\" de juego en Six Flags</td>\n",
       "                        <td id=\"T_931dbd26_29fa_11eb_bc0b_acde48001122row8_col5\" class=\"data row8 col5\" >Detienen a presuntos autores materiales del feminicidio de Abril Pérez</td>\n",
       "                        <td id=\"T_931dbd26_29fa_11eb_bc0b_acde48001122row8_col6\" class=\"data row8 col6\" >#JusticiaParaAlexis: Hay 3 detenidos por su feminicidio</td>\n",
       "                        <td id=\"T_931dbd26_29fa_11eb_bc0b_acde48001122row8_col7\" class=\"data row8 col7\" >El Presidente \"nos trata como tontitas\": Patricia Olamendi</td>\n",
       "            </tr>\n",
       "            <tr>\n",
       "                        <th id=\"T_931dbd26_29fa_11eb_bc0b_acde48001122level0_row9\" class=\"row_heading level0 row9\" >9</th>\n",
       "                        <td id=\"T_931dbd26_29fa_11eb_bc0b_acde48001122row9_col0\" class=\"data row9 col0\" >\"Justicia por Karla y las que nos faltan”, exigen con marcha en Toluca</td>\n",
       "                        <td id=\"T_931dbd26_29fa_11eb_bc0b_acde48001122row9_col1\" class=\"data row9 col1\" >Basta de represión en contra de las mujeres: Karen Quiroga Anguiano</td>\n",
       "                        <td id=\"T_931dbd26_29fa_11eb_bc0b_acde48001122row9_col2\" class=\"data row9 col2\" >Protesta en CDMX contra represión a marcha por feminicidios en QR</td>\n",
       "                        <td id=\"T_931dbd26_29fa_11eb_bc0b_acde48001122row9_col3\" class=\"data row9 col3\" >‘Las tres muertes de Marisela Escobedo’ retrata la búsqueda de justicia de esta activista tras el feminicidio de su hija, Ruby; Marisela, en medio de su lucha, fue asesinada hace una década.</td>\n",
       "                        <td id=\"T_931dbd26_29fa_11eb_bc0b_acde48001122row9_col4\" class=\"data row9 col4\" >Niños agresores serían resultado de la exposición diaria a la violencia, advierte especialista</td>\n",
       "                        <td id=\"T_931dbd26_29fa_11eb_bc0b_acde48001122row9_col5\" class=\"data row9 col5\" >Amnistía no ve avances contra la violencia de género en México</td>\n",
       "                        <td id=\"T_931dbd26_29fa_11eb_bc0b_acde48001122row9_col6\" class=\"data row9 col6\" >Asesinan a otra mujer en Cancún; hay un detenido</td>\n",
       "                        <td id=\"T_931dbd26_29fa_11eb_bc0b_acde48001122row9_col7\" class=\"data row9 col7\" >Diputados aprueban aumentar penas por feminicidio y abuso sexual</td>\n",
       "            </tr>\n",
       "            <tr>\n",
       "                        <th id=\"T_931dbd26_29fa_11eb_bc0b_acde48001122level0_row10\" class=\"row_heading level0 row10\" >10</th>\n",
       "                        <td id=\"T_931dbd26_29fa_11eb_bc0b_acde48001122row10_col0\" class=\"data row10 col0\" >Encapuchadas protestan en la Roma contra represión de policías a feministas en Cancún</td>\n",
       "                        <td id=\"T_931dbd26_29fa_11eb_bc0b_acde48001122row10_col1\" class=\"data row10 col1\" >Asesinan a Karina dentro de su casa, momentos antes discutió con su novio</td>\n",
       "                        <td id=\"T_931dbd26_29fa_11eb_bc0b_acde48001122row10_col2\" class=\"data row10 col2\" >López Obrador: con Sí por México se agravará el clasismo</td>\n",
       "                        <td id=\"T_931dbd26_29fa_11eb_bc0b_acde48001122row10_col3\" class=\"data row10 col3\" >Las claves del feminicidio de Jessica González en Michoacán</td>\n",
       "                        <td id=\"T_931dbd26_29fa_11eb_bc0b_acde48001122row10_col4\" class=\"data row10 col4\" >Gobierno de Quintana Roo reanuda la mesa de diálogo con las colectivas feministas</td>\n",
       "                        <td id=\"T_931dbd26_29fa_11eb_bc0b_acde48001122row10_col5\" class=\"data row10 col5\" >Olga Sánchez Cordero condena asesinato de Jessica</td>\n",
       "                        <td id=\"T_931dbd26_29fa_11eb_bc0b_acde48001122row10_col6\" class=\"data row10 col6\" >En Quintana Roo, arrestan a dos presuntos implicados en el feminicidio de Alexis</td>\n",
       "                        <td id=\"T_931dbd26_29fa_11eb_bc0b_acde48001122row10_col7\" class=\"data row10 col7\" >Cruces rosas en Reforma exigen justicia ante feminicidios en México</td>\n",
       "            </tr>\n",
       "            <tr>\n",
       "                        <th id=\"T_931dbd26_29fa_11eb_bc0b_acde48001122level0_row11\" class=\"row_heading level0 row11\" >11</th>\n",
       "                        <td id=\"T_931dbd26_29fa_11eb_bc0b_acde48001122row11_col0\" class=\"data row11 col0\" >Lo que sabemos del feminicidio de Alexis en Quintana Roo</td>\n",
       "                        <td id=\"T_931dbd26_29fa_11eb_bc0b_acde48001122row11_col1\" class=\"data row11 col1\" >Hallan muerta a Adriana Murrieta, la influencer desapareció el domingo</td>\n",
       "                        <td id=\"T_931dbd26_29fa_11eb_bc0b_acde48001122row11_col2\" class=\"data row11 col2\" >Realizarán mural en Chimalhuacán para víctimas de feminicidio</td>\n",
       "                        <td id=\"T_931dbd26_29fa_11eb_bc0b_acde48001122row11_col3\" class=\"data row11 col3\" >El pasado 25 de septiembre, Jessica fue hallada sin vida en Morelia, ciudad en la que también se reportó la desaparición de Xitlali, cuyo cuerpo recién se localizó en Guanajuato.</td>\n",
       "                        <td id=\"T_931dbd26_29fa_11eb_bc0b_acde48001122row11_col4\" class=\"data row11 col4\" >Capturan a tres sujetos que colocaban trampas en cajeros</td>\n",
       "                        <td id=\"T_931dbd26_29fa_11eb_bc0b_acde48001122row11_col5\" class=\"data row11 col5\" >Exigen aborto en todo el país; se registran destrozos y policías lesionados</td>\n",
       "                        <td id=\"T_931dbd26_29fa_11eb_bc0b_acde48001122row11_col6\" class=\"data row11 col6\" >Nombra Carlos Joaquín a nuevo encargado de SSP de Q.Roo</td>\n",
       "                        <td id=\"T_931dbd26_29fa_11eb_bc0b_acde48001122row11_col7\" class=\"data row11 col7\" >Diana Cazadora y Glorieta La Minerva se tiñen de rojo por feminicidios</td>\n",
       "            </tr>\n",
       "            <tr>\n",
       "                        <th id=\"T_931dbd26_29fa_11eb_bc0b_acde48001122level0_row12\" class=\"row_heading level0 row12\" >12</th>\n",
       "                        <td id=\"T_931dbd26_29fa_11eb_bc0b_acde48001122row12_col0\" class=\"data row12 col0\" >Feministas colocan ofrendas a víctimas</td>\n",
       "                        <td id=\"T_931dbd26_29fa_11eb_bc0b_acde48001122row12_col1\" class=\"data row12 col1\" >Familiares exigen justicia por Susana, quinceañera secuestrada y asesinada</td>\n",
       "                        <td id=\"T_931dbd26_29fa_11eb_bc0b_acde48001122row12_col2\" class=\"data row12 col2\" >Anuncia gobernador de QRoo nuevo titular de la SSP</td>\n",
       "                        <td id=\"T_931dbd26_29fa_11eb_bc0b_acde48001122row12_col3\" class=\"data row12 col3\" >En México, 60% de los feminicidios son cometidos por el crimen organizado</td>\n",
       "                        <td id=\"T_931dbd26_29fa_11eb_bc0b_acde48001122row12_col4\" class=\"data row12 col4\" >Detienen a dos presuntos feminicidas de Alexis; ya suman 5</td>\n",
       "                        <td id=\"T_931dbd26_29fa_11eb_bc0b_acde48001122row12_col5\" class=\"data row12 col5\" >Contexto social, el mayor desafío para el Proceso Electoral 2020-2021: Lorenzo Córdova</td>\n",
       "                        <td id=\"T_931dbd26_29fa_11eb_bc0b_acde48001122row12_col6\" class=\"data row12 col6\" >Realizan tercer cateo por el feminicidio de Alexis en Cancún</td>\n",
       "                        <td id=\"T_931dbd26_29fa_11eb_bc0b_acde48001122row12_col7\" class=\"data row12 col7\" >Zapatos rojos, sangre de víctimas de feminicidios</td>\n",
       "            </tr>\n",
       "            <tr>\n",
       "                        <th id=\"T_931dbd26_29fa_11eb_bc0b_acde48001122level0_row13\" class=\"row_heading level0 row13\" >13</th>\n",
       "                        <td id=\"T_931dbd26_29fa_11eb_bc0b_acde48001122row13_col0\" class=\"data row13 col0\" >Fernanda, Verónica y Beatriz ya tienen ofrenda… pero no justicia</td>\n",
       "                        <td id=\"T_931dbd26_29fa_11eb_bc0b_acde48001122row13_col1\" class=\"data row13 col1\" >Sentencia de 62 años de prisión por asfixiar a su pareja durante ataque de celos</td>\n",
       "                        <td id=\"T_931dbd26_29fa_11eb_bc0b_acde48001122row13_col2\" class=\"data row13 col2\" >Feministas protestan frente a la sede del estado de QRoo en la CDMX</td>\n",
       "                        <td id=\"T_931dbd26_29fa_11eb_bc0b_acde48001122row13_col3\" class=\"data row13 col3\" >El cuerpo de las mujeres es utilizado como venganza o para enviar un mensaje al grupo rival, advierten especialistas.</td>\n",
       "                        <td id=\"T_931dbd26_29fa_11eb_bc0b_acde48001122row13_col4\" class=\"data row13 col4\" >Infiltran vándalos marcha</td>\n",
       "                        <td id=\"T_931dbd26_29fa_11eb_bc0b_acde48001122row13_col5\" class=\"data row13 col5\" >\"No venimos a pasear ni a hacer campaña para nadie\"</td>\n",
       "                        <td id=\"T_931dbd26_29fa_11eb_bc0b_acde48001122row13_col6\" class=\"data row13 col6\" >“Pensé que no la iba a librar”, relata tras protesta en Cancún</td>\n",
       "                        <td id=\"T_931dbd26_29fa_11eb_bc0b_acde48001122row13_col7\" class=\"data row13 col7\" >\"Clausuran\" oficinas de la PGR por violencia contra mujeres</td>\n",
       "            </tr>\n",
       "            <tr>\n",
       "                        <th id=\"T_931dbd26_29fa_11eb_bc0b_acde48001122level0_row14\" class=\"row_heading level0 row14\" >14</th>\n",
       "                        <td id=\"T_931dbd26_29fa_11eb_bc0b_acde48001122row14_col0\" class=\"data row14 col0\" >Con una ofrenda y veladoras, feministas recuerdan a mujeres asesinadas en Oaxaca</td>\n",
       "                        <td id=\"T_931dbd26_29fa_11eb_bc0b_acde48001122row14_col1\" class=\"data row14 col1\" >Detienen a sujeto investigado por presunto feminicidio de una menor de edad en Ecatepec</td>\n",
       "                        <td id=\"T_931dbd26_29fa_11eb_bc0b_acde48001122row14_col2\" class=\"data row14 col2\" >Otra mujer asesinada en Cancún; un detenido</td>\n",
       "                        <td id=\"T_931dbd26_29fa_11eb_bc0b_acde48001122row14_col3\" class=\"data row14 col3\" >Homicidios, feminicidios y delitos de delincuencia organizada repuntan en 2020</td>\n",
       "                        <td id=\"T_931dbd26_29fa_11eb_bc0b_acde48001122row14_col4\" class=\"data row14 col4\" >Aumentan heridos y muertos por explosión de pipa en Nayarit: Antonio Serrano</td>\n",
       "                        <td id=\"T_931dbd26_29fa_11eb_bc0b_acde48001122row14_col5\" class=\"data row14 col5\" >“No somos burla de nadie... si autoridades y gobierno no saben qué hacer, nosotros tenemos que actuar”</td>\n",
       "                        <td id=\"T_931dbd26_29fa_11eb_bc0b_acde48001122row14_col6\" class=\"data row14 col6\" >Gobernador de Q. Roo advierte que no habrá impunidad en caso Bianca Alexis</td>\n",
       "                        <td id=\"T_931dbd26_29fa_11eb_bc0b_acde48001122row14_col7\" class=\"data row14 col7\" >Marchan en la CDMX contra feminicidios en el Día Internacional de la Mujer</td>\n",
       "            </tr>\n",
       "            <tr>\n",
       "                        <th id=\"T_931dbd26_29fa_11eb_bc0b_acde48001122level0_row15\" class=\"row_heading level0 row15\" >15</th>\n",
       "                        <td id=\"T_931dbd26_29fa_11eb_bc0b_acde48001122row15_col0\" class=\"data row15 col0\" >En la FGJ se está acabando la revictimización de mujeres y se les garantiza justicia: Godoy Ramos</td>\n",
       "                        <td id=\"T_931dbd26_29fa_11eb_bc0b_acde48001122row15_col1\" class=\"data row15 col1\" >Cadena perpetua a feminicida que apuñaló a su expareja e hijo que intentó defenderla</td>\n",
       "                        <td id=\"T_931dbd26_29fa_11eb_bc0b_acde48001122row15_col2\" class=\"data row15 col2\" >Celebra AMLO destitución en Q Roo de mandos policiales</td>\n",
       "                        <td id=\"T_931dbd26_29fa_11eb_bc0b_acde48001122row15_col3\" class=\"data row15 col3\" >El secretario de Seguridad, Alfonso Durazo, manifestó su preocupación por el alza en delitos de delincuencia organizada, los cuales tuvieron un incremento del 53.8%.</td>\n",
       "                        <td id=\"T_931dbd26_29fa_11eb_bc0b_acde48001122row15_col4\" class=\"data row15 col4\" >Niño de 11 años muere tras sufrir caída de columpio; presuntamente estaba solo</td>\n",
       "                        <td id=\"T_931dbd26_29fa_11eb_bc0b_acde48001122row15_col5\" class=\"data row15 col5\" >AI: AMLO dio otros datos en su informe; feminicidio sí ha crecido, denuncia</td>\n",
       "                        <td id=\"T_931dbd26_29fa_11eb_bc0b_acde48001122row15_col6\" class=\"data row15 col6\" >Encaran periodistas a Mara Lezama tras actos de represión</td>\n",
       "                        <td id=\"T_931dbd26_29fa_11eb_bc0b_acde48001122row15_col7\" class=\"data row15 col7\" >Feminicidio en el bar Baby Rock en Nezahualcóyotl 1</td>\n",
       "            </tr>\n",
       "            <tr>\n",
       "                        <th id=\"T_931dbd26_29fa_11eb_bc0b_acde48001122level0_row16\" class=\"row_heading level0 row16\" >16</th>\n",
       "                        <td id=\"T_931dbd26_29fa_11eb_bc0b_acde48001122row16_col0\" class=\"data row16 col0\" >Edomex suma 106 feminicidios en lo que va del año: Sistema Nacional de Seguridad Pública</td>\n",
       "                        <td id=\"T_931dbd26_29fa_11eb_bc0b_acde48001122row16_col1\" class=\"data row16 col1\" >Estranguló a su pareja y quiso hacer creer que era suicidio</td>\n",
       "                        <td id=\"T_931dbd26_29fa_11eb_bc0b_acde48001122row16_col2\" class=\"data row16 col2\" >El gobernador Joaquín y la edil Lezama se deslindan del ataque</td>\n",
       "                        <td id=\"T_931dbd26_29fa_11eb_bc0b_acde48001122row16_col3\" class=\"data row16 col3\" >Diputadas y FGR buscan homologar pena por feminicidio: de 40 a 60 años de cárcel</td>\n",
       "                        <td id=\"T_931dbd26_29fa_11eb_bc0b_acde48001122row16_col4\" class=\"data row16 col4\" >Muere Carlos Quiñones Armendáriz, fundador de Cadena Radio S.A. y Radio 13</td>\n",
       "                        <td id=\"T_931dbd26_29fa_11eb_bc0b_acde48001122row16_col5\" class=\"data row16 col5\" >Nueva normalidad destapa aumento de violencia y feminicidios: red de refugios</td>\n",
       "                        <td id=\"T_931dbd26_29fa_11eb_bc0b_acde48001122row16_col6\" class=\"data row16 col6\" >Exigen periodistas justicia tras agresión en Cancún</td>\n",
       "                        <td id=\"T_931dbd26_29fa_11eb_bc0b_acde48001122row16_col7\" class=\"data row16 col7\" >Tiñen de rojo agua de fuente en SLP por feminicidios 1</td>\n",
       "            </tr>\n",
       "            <tr>\n",
       "                        <th id=\"T_931dbd26_29fa_11eb_bc0b_acde48001122level0_row17\" class=\"row_heading level0 row17\" >17</th>\n",
       "                        <td id=\"T_931dbd26_29fa_11eb_bc0b_acde48001122row17_col0\" class=\"data row17 col0\" >Presentan documental sobre Primera Caravana contra feminicidios en Ecatepec</td>\n",
       "                        <td id=\"T_931dbd26_29fa_11eb_bc0b_acde48001122row17_col1\" class=\"data row17 col1\" ></td>\n",
       "                        <td id=\"T_931dbd26_29fa_11eb_bc0b_acde48001122row17_col2\" class=\"data row17 col2\" >ONU Mujeres, CNDH y ONG condenan uso de la fuerza en Cancún</td>\n",
       "                        <td id=\"T_931dbd26_29fa_11eb_bc0b_acde48001122row17_col3\" class=\"data row17 col3\" >La propuesta de homologación para el tipo penal de este delito fue expuesta por legisladoras y por el fiscal, Alejandro Gertz, tras meses de trabajo. El objetivo, dijeron, es evitar la impunidad.</td>\n",
       "                        <td id=\"T_931dbd26_29fa_11eb_bc0b_acde48001122row17_col4\" class=\"data row17 col4\" >Menores reportados como ausentes son localizados sin lesiones en Iztapalapa</td>\n",
       "                        <td id=\"T_931dbd26_29fa_11eb_bc0b_acde48001122row17_col5\" class=\"data row17 col5\" >Semáforo delictivo: homicidio, extorsión, narcomenudeo y feminicidio, en Rojo</td>\n",
       "                        <td id=\"T_931dbd26_29fa_11eb_bc0b_acde48001122row17_col6\" class=\"data row17 col6\" >Exige AMLO investigación tras disparos para disolver manifestación feminista</td>\n",
       "                        <td id=\"T_931dbd26_29fa_11eb_bc0b_acde48001122row17_col7\" class=\"data row17 col7\" >Marcha del Silencio exige \"castigo a los culpables\" por feminicidios</td>\n",
       "            </tr>\n",
       "            <tr>\n",
       "                        <th id=\"T_931dbd26_29fa_11eb_bc0b_acde48001122level0_row18\" class=\"row_heading level0 row18\" >18</th>\n",
       "                        <td id=\"T_931dbd26_29fa_11eb_bc0b_acde48001122row18_col0\" class=\"data row18 col0\" >Destruyen ofrenda que colocó colectivo en Zumpango, Edomex para recordar a víctimas de feminicidios</td>\n",
       "                        <td id=\"T_931dbd26_29fa_11eb_bc0b_acde48001122row18_col1\" class=\"data row18 col1\" ></td>\n",
       "                        <td id=\"T_931dbd26_29fa_11eb_bc0b_acde48001122row18_col2\" class=\"data row18 col2\" >Reclaman a edil de Cancún por reporteros heridos en protesta</td>\n",
       "                        <td id=\"T_931dbd26_29fa_11eb_bc0b_acde48001122row18_col3\" class=\"data row18 col3\" >Feminicidios alcanzan en junio la cifra más alta en lo que va de 2020</td>\n",
       "                        <td id=\"T_931dbd26_29fa_11eb_bc0b_acde48001122row18_col4\" class=\"data row18 col4\" >Becas Bienestar 2020: Cuáles son los REQUISITOS para solicitar apoyo de 800 pesos por hijo</td>\n",
       "                        <td id=\"T_931dbd26_29fa_11eb_bc0b_acde48001122row18_col5\" class=\"data row18 col5\" >Familias de víctimas de feminicidio y artesanos toman caseta México-Cuernavaca</td>\n",
       "                        <td id=\"T_931dbd26_29fa_11eb_bc0b_acde48001122row18_col6\" class=\"data row18 col6\" >Exigen justicia por feminicidio de Bianca Alejandrina en Fiscalía de Cancún</td>\n",
       "                        <td id=\"T_931dbd26_29fa_11eb_bc0b_acde48001122row18_col7\" class=\"data row18 col7\" >Así protestan las mujeres en la República</td>\n",
       "            </tr>\n",
       "            <tr>\n",
       "                        <th id=\"T_931dbd26_29fa_11eb_bc0b_acde48001122level0_row19\" class=\"row_heading level0 row19\" >19</th>\n",
       "                        <td id=\"T_931dbd26_29fa_11eb_bc0b_acde48001122row19_col0\" class=\"data row19 col0\" ></td>\n",
       "                        <td id=\"T_931dbd26_29fa_11eb_bc0b_acde48001122row19_col1\" class=\"data row19 col1\" ></td>\n",
       "                        <td id=\"T_931dbd26_29fa_11eb_bc0b_acde48001122row19_col2\" class=\"data row19 col2\" >OCNF se suma a condena por respuesta policial a protesta en Cancún</td>\n",
       "                        <td id=\"T_931dbd26_29fa_11eb_bc0b_acde48001122row19_col3\" class=\"data row19 col3\" >En junio fueron asesinadas 309 mujeres, tomando en cuenta feminicidios y homicidios dolosos; es decir, en promedio 10.3 asesinatos por día.</td>\n",
       "                        <td id=\"T_931dbd26_29fa_11eb_bc0b_acde48001122row19_col4\" class=\"data row19 col4\" >Fiscalía Quintana Roo lleva a tribunales a dos presuntos implicados en el feminicidio de Alexis</td>\n",
       "                        <td id=\"T_931dbd26_29fa_11eb_bc0b_acde48001122row19_col5\" class=\"data row19 col5\" >Con algunas riñas, avanza marcha feminista hacia Glorieta de Insurgentes</td>\n",
       "                        <td id=\"T_931dbd26_29fa_11eb_bc0b_acde48001122row19_col6\" class=\"data row19 col6\" >Cuitláhuac García: Delitos de alto impacto bajaron 24.67% en un año en Veracruz</td>\n",
       "                        <td id=\"T_931dbd26_29fa_11eb_bc0b_acde48001122row19_col7\" class=\"data row19 col7\" >Más de 80 mil mujeres se movilizan en la CDMX</td>\n",
       "            </tr>\n",
       "            <tr>\n",
       "                        <th id=\"T_931dbd26_29fa_11eb_bc0b_acde48001122level0_row20\" class=\"row_heading level0 row20\" >20</th>\n",
       "                        <td id=\"T_931dbd26_29fa_11eb_bc0b_acde48001122row20_col0\" class=\"data row20 col0\" ></td>\n",
       "                        <td id=\"T_931dbd26_29fa_11eb_bc0b_acde48001122row20_col1\" class=\"data row20 col1\" ></td>\n",
       "                        <td id=\"T_931dbd26_29fa_11eb_bc0b_acde48001122row20_col2\" class=\"data row20 col2\" ></td>\n",
       "                        <td id=\"T_931dbd26_29fa_11eb_bc0b_acde48001122row20_col3\" class=\"data row20 col3\" >Un menor recibe condena por el feminicidio de Nazaret Bautista en el Edomex</td>\n",
       "                        <td id=\"T_931dbd26_29fa_11eb_bc0b_acde48001122row20_col4\" class=\"data row20 col4\" ></td>\n",
       "                        <td id=\"T_931dbd26_29fa_11eb_bc0b_acde48001122row20_col5\" class=\"data row20 col5\" >Promoverán en Senado Fiscalía Especializada en materia de Feminicidio</td>\n",
       "                        <td id=\"T_931dbd26_29fa_11eb_bc0b_acde48001122row20_col6\" class=\"data row20 col6\" ></td>\n",
       "                        <td id=\"T_931dbd26_29fa_11eb_bc0b_acde48001122row20_col7\" class=\"data row20 col7\" >El machismo mata</td>\n",
       "            </tr>\n",
       "    </tbody></table>"
      ],
      "text/plain": [
       "<pandas.io.formats.style.Styler at 0x1174bc070>"
      ]
     },
     "execution_count": 335,
     "metadata": {},
     "output_type": "execute_result"
    }
   ],
   "source": [
    "#Elimino valores nulos y alineo texto para que no me dé ansiedad \n",
    "df = new.replace(np.nan, '', regex=True)\n",
    "df = df.style.set_properties(**{'text-align': 'left'})\n",
    "df"
   ]
  },
  {
   "cell_type": "code",
   "execution_count": null,
   "metadata": {},
   "outputs": [],
   "source": []
  }
 ],
 "metadata": {
  "kernelspec": {
   "display_name": "Python 3",
   "language": "python",
   "name": "python3"
  },
  "language_info": {
   "codemirror_mode": {
    "name": "ipython",
    "version": 3
   },
   "file_extension": ".py",
   "mimetype": "text/x-python",
   "name": "python",
   "nbconvert_exporter": "python",
   "pygments_lexer": "ipython3",
   "version": "3.8.5"
  }
 },
 "nbformat": 4,
 "nbformat_minor": 4
}
