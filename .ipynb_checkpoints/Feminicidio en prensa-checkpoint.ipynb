{
 "cells": [
  {
   "cell_type": "code",
   "execution_count": 1,
   "metadata": {},
   "outputs": [],
   "source": [
    "import requests\n",
    "from bs4 import BeautifulSoup\n",
    "import pandas as pd\n",
    "from selenium import webdriver\n",
    "import re\n",
    "import numpy as np"
   ]
  },
  {
   "cell_type": "code",
   "execution_count": 2,
   "metadata": {},
   "outputs": [],
   "source": [
    "#CASO 1 - EL UNIVERSAL\n",
    "#Pido request\n",
    "url1 = 'https://www.eluniversal.com.mx/tag/feminicidios'\n",
    "html = requests.get(url1).content"
   ]
  },
  {
   "cell_type": "code",
   "execution_count": 3,
   "metadata": {},
   "outputs": [],
   "source": [
    "#Creo una sopa y la 'hago bonita' para que los elementos sean más fáciles de identificar\n",
    "soup = BeautifulSoup(html,'lxml')\n",
    "#print(soup.prettify())"
   ]
  },
  {
   "cell_type": "code",
   "execution_count": 4,
   "metadata": {},
   "outputs": [],
   "source": [
    "#Selecciono los titulares de cada noticia\n",
    "noticias1 = soup.find_all('h3', {'class': 'ce9-TemasRelacionadosImagen_Titulo'})\n",
    "#noticias1"
   ]
  },
  {
   "cell_type": "code",
   "execution_count": 5,
   "metadata": {},
   "outputs": [
    {
     "data": {
      "text/plain": [
       "9"
      ]
     },
     "execution_count": 5,
     "metadata": {},
     "output_type": "execute_result"
    }
   ],
   "source": [
    "#Limpiar titulares y agregarlos a una primera lista - son 9 noticias apenas\n",
    "clean1= [element.text.strip() for element in noticias1]\n",
    "#print(clean1)\n",
    "len(clean1)"
   ]
  },
  {
   "cell_type": "code",
   "execution_count": 6,
   "metadata": {},
   "outputs": [],
   "source": [
    "#Pido request para página 2\n",
    "url2 = 'https://www.eluniversal.com.mx/tag/feminicidios?page=1'\n",
    "html = requests.get(url2).content"
   ]
  },
  {
   "cell_type": "code",
   "execution_count": 7,
   "metadata": {},
   "outputs": [],
   "source": [
    "#Creo una sopa y la 'hago bonita' para que los elementos sean más fáciles de identificar\n",
    "soup = BeautifulSoup(html,'lxml')\n",
    "#print(soup.prettify())"
   ]
  },
  {
   "cell_type": "code",
   "execution_count": 8,
   "metadata": {},
   "outputs": [],
   "source": [
    "#Selecciono los titulares de cada noticia\n",
    "noticias2 = soup.find_all('h3', {'class': 'ce9-TemasRelacionadosImagen_Titulo'})\n",
    "#noticias2"
   ]
  },
  {
   "cell_type": "code",
   "execution_count": 9,
   "metadata": {},
   "outputs": [],
   "source": [
    "#Limpiar titulares y agregarlos a una segunda lista - son 10 noticias \n",
    "clean2= [element.text.strip() for element in noticias2]\n",
    "#print(clean2)"
   ]
  },
  {
   "cell_type": "code",
   "execution_count": 10,
   "metadata": {},
   "outputs": [],
   "source": [
    "#Junto mis listas limpias en una sola para el caso de la prensa El Universal\n",
    "El_Universal = clean1 + clean2 \n",
    "#print(El_Universal)\n",
    "#len(El_Universal)"
   ]
  },
  {
   "cell_type": "code",
   "execution_count": 11,
   "metadata": {},
   "outputs": [],
   "source": [
    "#CASO 2 : La prensa\n",
    "# Genero request para el caso de La Prensa\n",
    "url4 = 'https://www.la-prensa.com.mx/tags/temas/feminicidio'\n",
    "html = requests.get(url4).content"
   ]
  },
  {
   "cell_type": "code",
   "execution_count": 12,
   "metadata": {},
   "outputs": [],
   "source": [
    "#Sopa \n",
    "soup = BeautifulSoup(html,'lxml')\n",
    "#print(soup.prettify())"
   ]
  },
  {
   "cell_type": "code",
   "execution_count": 13,
   "metadata": {},
   "outputs": [],
   "source": [
    "#Identifico elementos de mi interés - los encabezados o headers\n",
    "noticias4 = soup.find_all('h4', {'class': 'title'})\n",
    "#noticias4"
   ]
  },
  {
   "cell_type": "code",
   "execution_count": 14,
   "metadata": {},
   "outputs": [],
   "source": [
    "#Limpio elementos \n",
    "clean4= [element.text.strip() for element in noticias4]\n",
    "#print(clean4)"
   ]
  },
  {
   "cell_type": "code",
   "execution_count": 15,
   "metadata": {},
   "outputs": [
    {
     "data": {
      "text/plain": [
       "17"
      ]
     },
     "execution_count": 15,
     "metadata": {},
     "output_type": "execute_result"
    }
   ],
   "source": [
    "La_prensa= clean4\n",
    "#print(La_prensa)\n",
    "len(La_prensa)"
   ]
  },
  {
   "cell_type": "code",
   "execution_count": 16,
   "metadata": {},
   "outputs": [],
   "source": [
    "#CASO 3: La Jornada\n",
    "# Genero request para el caso de La Jornada\n",
    "url5 = 'https://www.jornada.com.mx/ultimas/@@search?SearchableText=feminicidio'\n",
    "html = requests.get(url5).content"
   ]
  },
  {
   "cell_type": "code",
   "execution_count": 17,
   "metadata": {},
   "outputs": [],
   "source": [
    "#Sopa \n",
    "soup = BeautifulSoup(html, 'lxml')\n",
    "#print(soup.prettify())"
   ]
  },
  {
   "cell_type": "code",
   "execution_count": 18,
   "metadata": {},
   "outputs": [],
   "source": [
    "#Identifico elementos de mi interés \n",
    "noticias5 = soup.find_all('a', {'class': 'state-published'})\n",
    "#noticias5"
   ]
  },
  {
   "cell_type": "code",
   "execution_count": 19,
   "metadata": {},
   "outputs": [],
   "source": [
    "#Limpio elementos \n",
    "clean5= [element.text.strip() for element in noticias5]\n",
    "#print(clean5)\n"
   ]
  },
  {
   "cell_type": "code",
   "execution_count": 20,
   "metadata": {},
   "outputs": [],
   "source": [
    "# Genero request para el caso de La Jornada página 2\n",
    "url6 = 'https://www.jornada.com.mx/ultimas/@@search?b_start:int=10&SearchableText=feminicidio'\n",
    "html = requests.get(url6).content"
   ]
  },
  {
   "cell_type": "code",
   "execution_count": 21,
   "metadata": {},
   "outputs": [],
   "source": [
    "#Sopa \n",
    "soup = BeautifulSoup(html, 'lxml')\n",
    "#print(soup.prettify())"
   ]
  },
  {
   "cell_type": "code",
   "execution_count": 22,
   "metadata": {},
   "outputs": [],
   "source": [
    "#Identifico elementos de interés \n",
    "noticias6 = soup.find_all('a', {'class': 'state-published'})\n",
    "#noticias6"
   ]
  },
  {
   "cell_type": "code",
   "execution_count": 23,
   "metadata": {},
   "outputs": [],
   "source": [
    "#Limpio elementos \n",
    "clean6= [element.text.strip() for element in noticias6]\n",
    "#print(clean6)"
   ]
  },
  {
   "cell_type": "code",
   "execution_count": 24,
   "metadata": {},
   "outputs": [
    {
     "data": {
      "text/plain": [
       "20"
      ]
     },
     "execution_count": 24,
     "metadata": {},
     "output_type": "execute_result"
    }
   ],
   "source": [
    "# Junto listas de elementos 'limpios' para el caso de La Jornada\n",
    "La_Jornada = clean5 + clean6\n",
    "#print(La_Jornada)\n",
    "len(La_Jornada)"
   ]
  },
  {
   "cell_type": "code",
   "execution_count": 25,
   "metadata": {},
   "outputs": [],
   "source": [
    "#CASO 4 Expansión \n",
    "# Genero request para el caso de La Jornada\n",
    "url7 = 'https://expansion.mx/busqueda?q=feminicidio'\n",
    "html = requests.get(url7).content"
   ]
  },
  {
   "cell_type": "code",
   "execution_count": 26,
   "metadata": {},
   "outputs": [],
   "source": [
    "#Sopa \n",
    "soup = BeautifulSoup(html, 'lxml')\n",
    "#print(soup.prettify())"
   ]
  },
  {
   "cell_type": "code",
   "execution_count": 27,
   "metadata": {},
   "outputs": [],
   "source": [
    "#Identifico elementos de interés \n",
    "noticias7 = soup.find_all('a', {'class': 'Link'})\n",
    "#noticias7"
   ]
  },
  {
   "cell_type": "code",
   "execution_count": 28,
   "metadata": {},
   "outputs": [],
   "source": [
    "#Limpio elementos \n",
    "clean7= [element.text.strip() for element in noticias7]"
   ]
  },
  {
   "cell_type": "code",
   "execution_count": 29,
   "metadata": {},
   "outputs": [],
   "source": [
    "nvoclean7=clean7[12:71]"
   ]
  },
  {
   "cell_type": "code",
   "execution_count": 30,
   "metadata": {},
   "outputs": [],
   "source": [
    "#Aquí necesio limpiar la lista guiándome con los índices para quitar espacios\n",
    "#pd.Series(nvoclean7)\n",
    "Expansion = nvoclean7\n",
    "#len(Expansion)"
   ]
  },
  {
   "cell_type": "code",
   "execution_count": 31,
   "metadata": {},
   "outputs": [],
   "source": [
    "#Limpio mi lista para quitar vínculos o links que no corresponden a los encabezados o la info que me interesa\n",
    "Expansion_n = [s for s in Expansion if s != '' and len(s) > 15 ]\n",
    "#print(Expansion_n)"
   ]
  },
  {
   "cell_type": "code",
   "execution_count": 32,
   "metadata": {},
   "outputs": [],
   "source": [
    "#CASO 5 Heraldo de México\n",
    "# Genero request para el caso de La Jornada\n",
    "url8 = 'https://heraldodemexico.com.mx/noticias/buscar/?buscar=feminicidio'\n",
    "html = requests.get(url8).content"
   ]
  },
  {
   "cell_type": "code",
   "execution_count": 33,
   "metadata": {},
   "outputs": [],
   "source": [
    "#Sopa \n",
    "soup = BeautifulSoup(html, 'lxml')\n",
    "#print(soup.prettify())"
   ]
  },
  {
   "cell_type": "code",
   "execution_count": 34,
   "metadata": {},
   "outputs": [],
   "source": [
    "#Identifico elementos de interés \n",
    "noticias8 = soup.find_all('h5', {'class': 'titulo'})\n",
    "#noticias8"
   ]
  },
  {
   "cell_type": "code",
   "execution_count": 35,
   "metadata": {},
   "outputs": [],
   "source": [
    "#Limpio elementos \n",
    "clean8= [element.text.strip() for element in noticias8]\n",
    "#print(clean8)"
   ]
  },
  {
   "cell_type": "code",
   "execution_count": 36,
   "metadata": {},
   "outputs": [],
   "source": [
    "#Asigno nombre de caso a mi lista\n",
    "Heraldo_Mex = clean8\n",
    "#print(Heraldo_Mex)\n",
    "#len(Heraldo_Mex)"
   ]
  },
  {
   "cell_type": "code",
   "execution_count": 37,
   "metadata": {},
   "outputs": [],
   "source": [
    "#CASO 6 - Crónica\n",
    "#Pido request\n",
    "url9 = 'http://www.cronica.com.mx/index.php?bus=feminicidio'\n",
    "html = requests.get(url9).content"
   ]
  },
  {
   "cell_type": "code",
   "execution_count": 38,
   "metadata": {},
   "outputs": [],
   "source": [
    "#Sopa \n",
    "soup = BeautifulSoup(html, 'lxml')\n",
    "#print(soup.prettify())"
   ]
  },
  {
   "cell_type": "code",
   "execution_count": 39,
   "metadata": {},
   "outputs": [],
   "source": [
    "noticias9 = soup.find_all('a', {'class': 'link'})\n",
    "#noticias9"
   ]
  },
  {
   "cell_type": "code",
   "execution_count": 40,
   "metadata": {},
   "outputs": [
    {
     "data": {
      "text/plain": [
       "60"
      ]
     },
     "execution_count": 40,
     "metadata": {},
     "output_type": "execute_result"
    }
   ],
   "source": [
    "#Limpio elementos \n",
    "clean9= [element.text.strip() for element in noticias9]\n",
    "#print(clean9)\n",
    "len(clean9)"
   ]
  },
  {
   "cell_type": "code",
   "execution_count": 41,
   "metadata": {},
   "outputs": [],
   "source": [
    "#Limpio mi lista de strings para no tener elementos vacíos\n",
    "Cronica = clean9\n",
    "Cronica_n = [s for s in Cronica if s != '']\n",
    "#print(Cronica_n)"
   ]
  },
  {
   "cell_type": "code",
   "execution_count": 42,
   "metadata": {},
   "outputs": [],
   "source": [
    "#CASO 7 Razón \n",
    "#Pido request\n",
    "url10 = 'https://www.razon.com.mx/search/?q=feminicidio'\n",
    "html = requests.get(url10).content"
   ]
  },
  {
   "cell_type": "code",
   "execution_count": 43,
   "metadata": {},
   "outputs": [],
   "source": [
    "soup = BeautifulSoup(html, 'lxml')\n",
    "#print(soup.prettify())"
   ]
  },
  {
   "cell_type": "code",
   "execution_count": 44,
   "metadata": {},
   "outputs": [],
   "source": [
    "noticias10 = soup.find_all('h1', {'class': 'title'})\n",
    "#noticias10"
   ]
  },
  {
   "cell_type": "code",
   "execution_count": 45,
   "metadata": {},
   "outputs": [],
   "source": [
    "#Limpio elementos \n",
    "clean10= [element.text.strip() for element in noticias10]\n",
    "#print(clean10)\n",
    "#len(clean10)"
   ]
  },
  {
   "cell_type": "code",
   "execution_count": 46,
   "metadata": {},
   "outputs": [],
   "source": [
    "url11 = 'https://www.razon.com.mx/search/feminicidio/2?q=feminicidio&_type=all&multiFields%5B0%5D=title&multiFields%5B1%5D=authorName&multiFields%5B2%5D=category&multiFields%5B3%5D=categorySlug&multiFields%5B4%5D=simpleTags&multiFields%5B5%5D=seoTitle&multiFields%5B6%5D=seoKeywords&multiFields%5B7%5D=seoDescription'\n",
    "html = requests.get(url11).content"
   ]
  },
  {
   "cell_type": "code",
   "execution_count": 47,
   "metadata": {},
   "outputs": [],
   "source": [
    "soup = BeautifulSoup(html, 'lxml')\n",
    "#print(soup.prettify())"
   ]
  },
  {
   "cell_type": "code",
   "execution_count": 48,
   "metadata": {},
   "outputs": [],
   "source": [
    "noticias11 = soup.find_all('h1', {'class': 'title'})\n",
    "#noticias11"
   ]
  },
  {
   "cell_type": "code",
   "execution_count": 49,
   "metadata": {},
   "outputs": [],
   "source": [
    "clean11= [element.text.strip() for element in noticias11]\n",
    "#print(clean11)\n",
    "#len(clean11)"
   ]
  },
  {
   "cell_type": "code",
   "execution_count": 50,
   "metadata": {},
   "outputs": [
    {
     "data": {
      "text/plain": [
       "20"
      ]
     },
     "execution_count": 50,
     "metadata": {},
     "output_type": "execute_result"
    }
   ],
   "source": [
    "Razon = clean10 + clean11\n",
    "#print(Razon)\n",
    "len(Razon)"
   ]
  },
  {
   "cell_type": "code",
   "execution_count": 51,
   "metadata": {},
   "outputs": [],
   "source": [
    "#Caso 7 El Sol de México\n",
    "url12 = 'https://www.elsoldemexico.com.mx/buscar/?q=feminicidio'\n",
    "html = requests.get(url12).content"
   ]
  },
  {
   "cell_type": "code",
   "execution_count": 52,
   "metadata": {},
   "outputs": [],
   "source": [
    "soup = BeautifulSoup(html, 'lxml')\n",
    "#print(soup.prettify())"
   ]
  },
  {
   "cell_type": "code",
   "execution_count": 53,
   "metadata": {},
   "outputs": [],
   "source": [
    "noticias12 = soup.find_all('h4', {'class': 'title'})\n",
    "#noticias12"
   ]
  },
  {
   "cell_type": "code",
   "execution_count": 54,
   "metadata": {},
   "outputs": [],
   "source": [
    "clean12= [element.text.strip() for element in noticias12]\n",
    "#print(clean12)\n",
    "#len(clean12)"
   ]
  },
  {
   "cell_type": "code",
   "execution_count": 55,
   "metadata": {},
   "outputs": [],
   "source": [
    "El_Sol = clean12\n",
    "#print(El_Sol)"
   ]
  },
  {
   "cell_type": "code",
   "execution_count": 56,
   "metadata": {},
   "outputs": [],
   "source": [
    "#CREATING DATA FRAMES for analysis"
   ]
  },
  {
   "cell_type": "code",
   "execution_count": 57,
   "metadata": {},
   "outputs": [],
   "source": [
    "data1 = pd.DataFrame(El_Universal)\n",
    "data1.columns = ['El Universal']"
   ]
  },
  {
   "cell_type": "code",
   "execution_count": 58,
   "metadata": {},
   "outputs": [],
   "source": [
    "data2 = pd.DataFrame(La_prensa)\n",
    "data2.columns=['La Prensa']"
   ]
  },
  {
   "cell_type": "code",
   "execution_count": 59,
   "metadata": {},
   "outputs": [],
   "source": [
    "data3= pd.DataFrame(La_Jornada)\n",
    "data3.columns = ['La Jornada']"
   ]
  },
  {
   "cell_type": "code",
   "execution_count": 60,
   "metadata": {},
   "outputs": [],
   "source": [
    "data4= pd.DataFrame(Expansion_n)\n",
    "data4.columns = ['Expansión']"
   ]
  },
  {
   "cell_type": "code",
   "execution_count": 61,
   "metadata": {},
   "outputs": [],
   "source": [
    "data5 = pd.DataFrame(Heraldo_Mex)\n",
    "data5.columns = ['Heraldo']"
   ]
  },
  {
   "cell_type": "code",
   "execution_count": 62,
   "metadata": {},
   "outputs": [],
   "source": [
    "data6 = pd.DataFrame(Cronica_n)\n",
    "data6.columns = ['Crónica']"
   ]
  },
  {
   "cell_type": "code",
   "execution_count": 63,
   "metadata": {},
   "outputs": [],
   "source": [
    "data7 = pd.DataFrame(Razon)\n",
    "data7.columns = ['Razón']"
   ]
  },
  {
   "cell_type": "code",
   "execution_count": 64,
   "metadata": {},
   "outputs": [],
   "source": [
    "data8 = pd.DataFrame(El_Sol)\n",
    "data8.columns = ['El Sol']"
   ]
  },
  {
   "cell_type": "code",
   "execution_count": 65,
   "metadata": {},
   "outputs": [],
   "source": [
    "new = pd.concat([data1, data2, data3, data4, data5, data6, data7, data8], axis=1) "
   ]
  },
  {
   "cell_type": "code",
   "execution_count": 66,
   "metadata": {},
   "outputs": [],
   "source": [
    "#new = new.drop(index=[21, 22, 23, 24, 25, 26, 27, 28, 29,])  #Elimino filas para hacer los datos más uniformes"
   ]
  },
  {
   "cell_type": "code",
   "execution_count": 67,
   "metadata": {},
   "outputs": [],
   "source": [
    "#Elimino valores nulos y alineo texto para que no me dé ansiedad \n",
    "df = new.replace(np.nan, '', regex=True)\n",
    "data = df.T"
   ]
  },
  {
   "cell_type": "code",
   "execution_count": 68,
   "metadata": {},
   "outputs": [],
   "source": [
    "Data = df.transpose() #Paso las fuentes a rows - el análisis central debe estar en los encabezados encontrados"
   ]
  },
  {
   "cell_type": "code",
   "execution_count": 69,
   "metadata": {},
   "outputs": [
    {
     "name": "stdout",
     "output_type": "stream",
     "text": [
      "RangeIndex(start=0, stop=30, step=1)\n"
     ]
    },
    {
     "data": {
      "text/plain": [
       "30"
      ]
     },
     "execution_count": 69,
     "metadata": {},
     "output_type": "execute_result"
    }
   ],
   "source": [
    "index = df.index\n",
    "print(index)\n",
    "len(index)"
   ]
  },
  {
   "cell_type": "code",
   "execution_count": 70,
   "metadata": {},
   "outputs": [],
   "source": [
    "#Defino diccionario para análisis \n",
    "Dict1 = {'Protestas': ['vandalizar', 'marcha', 'daño', 'balazo', 'manifestación', 'disparo', 'fuego', 'destrozo', 'protesta']} \n",
    "Dict2 = {'Victima' : ['victima']}\n",
    "Dict3 = {'Justicia' : ['justicia', 'demanda', 'ley']}\n",
    "Dict4 = {'Violencia': ['violación', 'asesinato','cuerpo', 'asfixia', 'celos', 'homicidio','venganza','desaparición', 'crueldad', 'sangre', 'mutilar']}"
   ]
  },
  {
   "cell_type": "code",
   "execution_count": 74,
   "metadata": {},
   "outputs": [],
   "source": [
    "def tendencia (dict, row):\n",
    "    if dict.values in row > 10 :\n",
    "        return 'Alta'\n",
    "    else:\n",
    "        return 'Baja'"
   ]
  },
  {
   "cell_type": "code",
   "execution_count": null,
   "metadata": {},
   "outputs": [],
   "source": []
  },
  {
   "cell_type": "code",
   "execution_count": null,
   "metadata": {},
   "outputs": [],
   "source": []
  }
 ],
 "metadata": {
  "kernelspec": {
   "display_name": "Python 3",
   "language": "python",
   "name": "python3"
  },
  "language_info": {
   "codemirror_mode": {
    "name": "ipython",
    "version": 3
   },
   "file_extension": ".py",
   "mimetype": "text/x-python",
   "name": "python",
   "nbconvert_exporter": "python",
   "pygments_lexer": "ipython3",
   "version": "3.8.5"
  }
 },
 "nbformat": 4,
 "nbformat_minor": 4
}
