{
 "cells": [
  {
   "cell_type": "code",
   "execution_count": 188,
   "metadata": {},
   "outputs": [],
   "source": [
    "import requests\n",
    "from bs4 import BeautifulSoup\n",
    "import pandas as pd\n",
    "from selenium import webdriver\n",
    "import re"
   ]
  },
  {
   "cell_type": "code",
   "execution_count": 2,
   "metadata": {},
   "outputs": [],
   "source": [
    "#CASO 1 - EL UNIVERSAL\n",
    "#Pido request\n",
    "url1 = 'https://www.eluniversal.com.mx/tag/feminicidios'\n",
    "html = requests.get(url1).content"
   ]
  },
  {
   "cell_type": "code",
   "execution_count": 3,
   "metadata": {},
   "outputs": [],
   "source": [
    "#Creo una sopa y la 'hago bonita' para que los elementos sean más fáciles de identificar\n",
    "soup = BeautifulSoup(html,'lxml')\n",
    "#print(soup.prettify())"
   ]
  },
  {
   "cell_type": "code",
   "execution_count": 4,
   "metadata": {},
   "outputs": [],
   "source": [
    "#Selecciono los titulares de cada noticia\n",
    "noticias1 = soup.find_all('h3', {'class': 'ce9-TemasRelacionadosImagen_Titulo'})\n",
    "#noticias1"
   ]
  },
  {
   "cell_type": "code",
   "execution_count": 80,
   "metadata": {},
   "outputs": [
    {
     "data": {
      "text/plain": [
       "9"
      ]
     },
     "execution_count": 80,
     "metadata": {},
     "output_type": "execute_result"
    }
   ],
   "source": [
    "#Limpiar titulares y agregarlos a una primera lista - son 9 noticias apenas\n",
    "clean1= [element.text.strip() for element in noticias1]\n",
    "#print(clean1)\n",
    "len(clean1)"
   ]
  },
  {
   "cell_type": "code",
   "execution_count": 6,
   "metadata": {},
   "outputs": [],
   "source": [
    "#Pido request para página 2\n",
    "url2 = 'https://www.eluniversal.com.mx/tag/feminicidios?page=1'\n",
    "html = requests.get(url2).content"
   ]
  },
  {
   "cell_type": "code",
   "execution_count": 7,
   "metadata": {},
   "outputs": [],
   "source": [
    "#Creo una sopa y la 'hago bonita' para que los elementos sean más fáciles de identificar\n",
    "soup = BeautifulSoup(html,'lxml')\n",
    "#print(soup.prettify())"
   ]
  },
  {
   "cell_type": "code",
   "execution_count": 8,
   "metadata": {},
   "outputs": [],
   "source": [
    "#Selecciono los titulares de cada noticia\n",
    "noticias2 = soup.find_all('h3', {'class': 'ce9-TemasRelacionadosImagen_Titulo'})\n",
    "#noticias2"
   ]
  },
  {
   "cell_type": "code",
   "execution_count": 79,
   "metadata": {},
   "outputs": [],
   "source": [
    "#Limpiar titulares y agregarlos a una segunda lista - son 10 noticias \n",
    "clean2= [element.text.strip() for element in noticias2]\n",
    "#print(clean2)"
   ]
  },
  {
   "cell_type": "code",
   "execution_count": 245,
   "metadata": {},
   "outputs": [],
   "source": [
    "#Junto mis listas limpias en una sola para el caso de la prensa El Universal\n",
    "El_Universal = clean1 + clean2 \n",
    "#print(El_Universal)\n",
    "#len(El_Universal)"
   ]
  },
  {
   "cell_type": "code",
   "execution_count": 15,
   "metadata": {},
   "outputs": [],
   "source": [
    "#CASO 2 : La prensa\n",
    "# Genero request para el caso de La Prensa\n",
    "url4 = 'https://www.la-prensa.com.mx/tags/temas/feminicidio'\n",
    "html = requests.get(url4).content"
   ]
  },
  {
   "cell_type": "code",
   "execution_count": 16,
   "metadata": {},
   "outputs": [],
   "source": [
    "#Sopa \n",
    "soup = BeautifulSoup(html,'lxml')\n",
    "#print(soup.prettify())"
   ]
  },
  {
   "cell_type": "code",
   "execution_count": 17,
   "metadata": {},
   "outputs": [],
   "source": [
    "#Identifico elementos de mi interés - los encabezados o headers\n",
    "noticias4 = soup.find_all('h4', {'class': 'title'})\n",
    "#noticias4"
   ]
  },
  {
   "cell_type": "code",
   "execution_count": 81,
   "metadata": {},
   "outputs": [],
   "source": [
    "#Limpio elementos \n",
    "clean4= [element.text.strip() for element in noticias4]\n",
    "#print(clean4)"
   ]
  },
  {
   "cell_type": "code",
   "execution_count": 257,
   "metadata": {},
   "outputs": [
    {
     "data": {
      "text/plain": [
       "17"
      ]
     },
     "execution_count": 257,
     "metadata": {},
     "output_type": "execute_result"
    }
   ],
   "source": [
    "La_prensa= clean4\n",
    "#print(La_prensa)\n",
    "len(La_prensa)"
   ]
  },
  {
   "cell_type": "code",
   "execution_count": 22,
   "metadata": {},
   "outputs": [],
   "source": [
    "#CASO 3: La Jornada\n",
    "# Genero request para el caso de La Jornada\n",
    "url5 = 'https://www.jornada.com.mx/ultimas/@@search?SearchableText=feminicidio'\n",
    "html = requests.get(url5).content"
   ]
  },
  {
   "cell_type": "code",
   "execution_count": 23,
   "metadata": {},
   "outputs": [],
   "source": [
    "#Sopa \n",
    "soup = BeautifulSoup(html, 'lxml')\n",
    "#print(soup.prettify())"
   ]
  },
  {
   "cell_type": "code",
   "execution_count": 24,
   "metadata": {},
   "outputs": [],
   "source": [
    "#Identifico elementos de mi interés \n",
    "noticias5 = soup.find_all('a', {'class': 'state-published'})\n",
    "#noticias5"
   ]
  },
  {
   "cell_type": "code",
   "execution_count": 84,
   "metadata": {},
   "outputs": [],
   "source": [
    "#Limpio elementos \n",
    "clean5= [element.text.strip() for element in noticias5]\n",
    "#print(clean5)\n"
   ]
  },
  {
   "cell_type": "code",
   "execution_count": 85,
   "metadata": {},
   "outputs": [],
   "source": [
    "# Genero request para el caso de La Jornada página 2\n",
    "url6 = 'https://www.jornada.com.mx/ultimas/@@search?b_start:int=10&SearchableText=feminicidio'\n",
    "html = requests.get(url6).content"
   ]
  },
  {
   "cell_type": "code",
   "execution_count": 86,
   "metadata": {},
   "outputs": [],
   "source": [
    "#Sopa \n",
    "soup = BeautifulSoup(html, 'lxml')\n",
    "#print(soup.prettify())"
   ]
  },
  {
   "cell_type": "code",
   "execution_count": 87,
   "metadata": {},
   "outputs": [],
   "source": [
    "#Identifico elementos de interés \n",
    "noticias6 = soup.find_all('a', {'class': 'state-published'})\n",
    "#noticias6"
   ]
  },
  {
   "cell_type": "code",
   "execution_count": 259,
   "metadata": {},
   "outputs": [],
   "source": [
    "#Limpio elementos \n",
    "clean6= [element.text.strip() for element in noticias6]\n",
    "#print(clean6)"
   ]
  },
  {
   "cell_type": "code",
   "execution_count": 258,
   "metadata": {},
   "outputs": [
    {
     "data": {
      "text/plain": [
       "20"
      ]
     },
     "execution_count": 258,
     "metadata": {},
     "output_type": "execute_result"
    }
   ],
   "source": [
    "# Junto listas de elementos 'limpios' para el caso de La Jornada\n",
    "La_Jornada = clean5 + clean6\n",
    "#print(La_Jornada)\n",
    "len(La_Jornada)"
   ]
  },
  {
   "cell_type": "code",
   "execution_count": 90,
   "metadata": {},
   "outputs": [],
   "source": [
    "#CASO 4 Expansión \n",
    "# Genero request para el caso de La Jornada\n",
    "url7 = 'https://expansion.mx/busqueda?q=feminicidio'\n",
    "html = requests.get(url7).content"
   ]
  },
  {
   "cell_type": "code",
   "execution_count": 91,
   "metadata": {},
   "outputs": [],
   "source": [
    "#Sopa \n",
    "soup = BeautifulSoup(html, 'lxml')\n",
    "#print(soup.prettify())"
   ]
  },
  {
   "cell_type": "code",
   "execution_count": 92,
   "metadata": {},
   "outputs": [],
   "source": [
    "#Identifico elementos de interés \n",
    "noticias7 = soup.find_all('a', {'class': 'Link'})\n",
    "#noticias7"
   ]
  },
  {
   "cell_type": "code",
   "execution_count": 94,
   "metadata": {},
   "outputs": [],
   "source": [
    "#Limpio elementos \n",
    "clean7= [element.text.strip() for element in noticias7]"
   ]
  },
  {
   "cell_type": "code",
   "execution_count": 269,
   "metadata": {},
   "outputs": [],
   "source": [
    "nvoclean7=clean7[12:71]"
   ]
  },
  {
   "cell_type": "code",
   "execution_count": 271,
   "metadata": {},
   "outputs": [],
   "source": [
    "#Aquí necesio limpiar la lista guiándome con los índices para quitar espacios\n",
    "#pd.Series(nvoclean7)\n",
    "#Expansion = nvoclean7\n",
    "#len(Expansion)"
   ]
  },
  {
   "cell_type": "code",
   "execution_count": 279,
   "metadata": {},
   "outputs": [],
   "source": [
    "#Limpio mi lista para quitar vínculos o links que no corresponden a los encabezados o la info que me interesa\n",
    "Expansion_n = [s for s in Expansion if s != '' and len(s) > 15 ]\n",
    "#print(Expansion_n)"
   ]
  },
  {
   "cell_type": "code",
   "execution_count": 97,
   "metadata": {},
   "outputs": [],
   "source": [
    "#CASO 5 Heraldo de México\n",
    "# Genero request para el caso de La Jornada\n",
    "url8 = 'https://heraldodemexico.com.mx/noticias/buscar/?buscar=feminicidio'\n",
    "html = requests.get(url8).content"
   ]
  },
  {
   "cell_type": "code",
   "execution_count": 98,
   "metadata": {},
   "outputs": [],
   "source": [
    "#Sopa \n",
    "soup = BeautifulSoup(html, 'lxml')\n",
    "#print(soup.prettify())"
   ]
  },
  {
   "cell_type": "code",
   "execution_count": 99,
   "metadata": {},
   "outputs": [],
   "source": [
    "#Identifico elementos de interés \n",
    "noticias8 = soup.find_all('h5', {'class': 'titulo'})\n",
    "#noticias8"
   ]
  },
  {
   "cell_type": "code",
   "execution_count": 101,
   "metadata": {},
   "outputs": [],
   "source": [
    "#Limpio elementos \n",
    "clean8= [element.text.strip() for element in noticias8]\n",
    "#print(clean8)"
   ]
  },
  {
   "cell_type": "code",
   "execution_count": 278,
   "metadata": {},
   "outputs": [],
   "source": [
    "#Asigno nombre de caso a mi lista\n",
    "Heraldo_Mex = clean8\n",
    "#print(Heraldo_Mex)\n",
    "#len(Heraldo_Mex)"
   ]
  },
  {
   "cell_type": "code",
   "execution_count": 43,
   "metadata": {},
   "outputs": [],
   "source": [
    "#CASO 6 - Crónica\n",
    "#Pido request\n",
    "url9 = 'http://www.cronica.com.mx/index.php?bus=feminicidio'\n",
    "html = requests.get(url9).content"
   ]
  },
  {
   "cell_type": "code",
   "execution_count": 44,
   "metadata": {},
   "outputs": [],
   "source": [
    "#Sopa \n",
    "soup = BeautifulSoup(html, 'lxml')\n",
    "#print(soup.prettify())"
   ]
  },
  {
   "cell_type": "code",
   "execution_count": 48,
   "metadata": {},
   "outputs": [],
   "source": [
    "noticias9 = soup.find_all('a', {'class': 'link'})\n",
    "#noticias9"
   ]
  },
  {
   "cell_type": "code",
   "execution_count": 49,
   "metadata": {},
   "outputs": [
    {
     "data": {
      "text/plain": [
       "60"
      ]
     },
     "execution_count": 49,
     "metadata": {},
     "output_type": "execute_result"
    }
   ],
   "source": [
    "#Limpio elementos \n",
    "clean9= [element.text.strip() for element in noticias9]\n",
    "#print(clean9)\n",
    "len(clean9)"
   ]
  },
  {
   "cell_type": "code",
   "execution_count": 293,
   "metadata": {},
   "outputs": [],
   "source": [
    "#Limpio mi lista de strings para no tener elementos vacíos\n",
    "Cronica = clean9\n",
    "Cronica_n = [s for s in Cronica if s != '']\n",
    "#print(Cronica_n)"
   ]
  },
  {
   "cell_type": "code",
   "execution_count": 105,
   "metadata": {},
   "outputs": [],
   "source": [
    "#CASO 7 Razón \n",
    "#Pido request\n",
    "url10 = 'https://www.razon.com.mx/search/?q=feminicidio'\n",
    "html = requests.get(url10).content"
   ]
  },
  {
   "cell_type": "code",
   "execution_count": 106,
   "metadata": {},
   "outputs": [],
   "source": [
    "soup = BeautifulSoup(html, 'lxml')\n",
    "#print(soup.prettify())"
   ]
  },
  {
   "cell_type": "code",
   "execution_count": 107,
   "metadata": {},
   "outputs": [],
   "source": [
    "noticias10 = soup.find_all('h1', {'class': 'title'})\n",
    "#noticias10"
   ]
  },
  {
   "cell_type": "code",
   "execution_count": 109,
   "metadata": {},
   "outputs": [],
   "source": [
    "#Limpio elementos \n",
    "clean10= [element.text.strip() for element in noticias10]\n",
    "#print(clean10)\n",
    "#len(clean10)"
   ]
  },
  {
   "cell_type": "code",
   "execution_count": 132,
   "metadata": {},
   "outputs": [],
   "source": [
    "url11 = 'https://www.razon.com.mx/search/feminicidio/2?q=feminicidio&_type=all&multiFields%5B0%5D=title&multiFields%5B1%5D=authorName&multiFields%5B2%5D=category&multiFields%5B3%5D=categorySlug&multiFields%5B4%5D=simpleTags&multiFields%5B5%5D=seoTitle&multiFields%5B6%5D=seoKeywords&multiFields%5B7%5D=seoDescription'\n",
    "html = requests.get(url11).content"
   ]
  },
  {
   "cell_type": "code",
   "execution_count": 133,
   "metadata": {},
   "outputs": [],
   "source": [
    "soup = BeautifulSoup(html, 'lxml')\n",
    "#print(soup.prettify())"
   ]
  },
  {
   "cell_type": "code",
   "execution_count": 134,
   "metadata": {},
   "outputs": [],
   "source": [
    "noticias11 = soup.find_all('h1', {'class': 'title'})\n",
    "#noticias11"
   ]
  },
  {
   "cell_type": "code",
   "execution_count": 135,
   "metadata": {},
   "outputs": [],
   "source": [
    "clean11= [element.text.strip() for element in noticias11]\n",
    "#print(clean11)\n",
    "#len(clean11)"
   ]
  },
  {
   "cell_type": "code",
   "execution_count": 296,
   "metadata": {},
   "outputs": [
    {
     "data": {
      "text/plain": [
       "20"
      ]
     },
     "execution_count": 296,
     "metadata": {},
     "output_type": "execute_result"
    }
   ],
   "source": [
    "Razon = clean10 + clean11\n",
    "#print(Razon)\n",
    "len(Razon)"
   ]
  },
  {
   "cell_type": "code",
   "execution_count": 149,
   "metadata": {},
   "outputs": [],
   "source": [
    "#Caso 7 El Sol de México\n",
    "url12 = 'https://www.elsoldemexico.com.mx/buscar/?q=feminicidio'\n",
    "html = requests.get(url12).content"
   ]
  },
  {
   "cell_type": "code",
   "execution_count": 150,
   "metadata": {},
   "outputs": [],
   "source": [
    "soup = BeautifulSoup(html, 'lxml')\n",
    "#print(soup.prettify())"
   ]
  },
  {
   "cell_type": "code",
   "execution_count": 156,
   "metadata": {},
   "outputs": [],
   "source": [
    "noticias12 = soup.find_all('h4', {'class': 'title'})\n",
    "#noticias12"
   ]
  },
  {
   "cell_type": "code",
   "execution_count": 159,
   "metadata": {},
   "outputs": [],
   "source": [
    "clean12= [element.text.strip() for element in noticias12]\n",
    "#print(clean12)\n",
    "#len(clean12)"
   ]
  },
  {
   "cell_type": "code",
   "execution_count": 302,
   "metadata": {},
   "outputs": [],
   "source": [
    "El_Sol = clean12\n",
    "#print(El_Sol)"
   ]
  },
  {
   "cell_type": "code",
   "execution_count": null,
   "metadata": {},
   "outputs": [],
   "source": [
    "#CREATING DATA FRAMES for analysis"
   ]
  },
  {
   "cell_type": "code",
   "execution_count": 311,
   "metadata": {},
   "outputs": [],
   "source": [
    "data1 = pd.DataFrame(El_Universal)\n",
    "data1.columns = ['El Universal']"
   ]
  },
  {
   "cell_type": "code",
   "execution_count": 310,
   "metadata": {},
   "outputs": [],
   "source": [
    "data2 = pd.DataFrame(La_prensa)\n",
    "data2.columns=['La Prensa']"
   ]
  },
  {
   "cell_type": "code",
   "execution_count": 309,
   "metadata": {},
   "outputs": [],
   "source": [
    "data3= pd.DataFrame(La_Jornada)\n",
    "data3.columns = ['La Jornada']"
   ]
  },
  {
   "cell_type": "code",
   "execution_count": 308,
   "metadata": {},
   "outputs": [],
   "source": [
    "data4= pd.DataFrame(Expansion_n)\n",
    "data4.columns = ['Expansión']"
   ]
  },
  {
   "cell_type": "code",
   "execution_count": 307,
   "metadata": {},
   "outputs": [],
   "source": [
    "data5 = pd.DataFrame(Heraldo_Mex)\n",
    "data5.columns = ['Heraldo']"
   ]
  },
  {
   "cell_type": "code",
   "execution_count": 306,
   "metadata": {},
   "outputs": [],
   "source": [
    "data6 = pd.DataFrame(Cronica_n)\n",
    "data6.columns = ['Crónica']"
   ]
  },
  {
   "cell_type": "code",
   "execution_count": 299,
   "metadata": {},
   "outputs": [],
   "source": [
    "data7 = pd.DataFrame(Razon)\n",
    "data7.columns = ['Razón']"
   ]
  },
  {
   "cell_type": "code",
   "execution_count": 305,
   "metadata": {},
   "outputs": [],
   "source": [
    "data8 = pd.DataFrame(El_Sol)\n",
    "data8.columns = ['El Sol']"
   ]
  },
  {
   "cell_type": "code",
   "execution_count": 312,
   "metadata": {},
   "outputs": [],
   "source": [
    "new = pd.concat([data1, data2, data3, data4, data5, data6, data7, data8], axis=1) "
   ]
  },
  {
   "cell_type": "code",
   "execution_count": 301,
   "metadata": {},
   "outputs": [
    {
     "data": {
      "text/html": [
       "<div>\n",
       "<style scoped>\n",
       "    .dataframe tbody tr th:only-of-type {\n",
       "        vertical-align: middle;\n",
       "    }\n",
       "\n",
       "    .dataframe tbody tr th {\n",
       "        vertical-align: top;\n",
       "    }\n",
       "\n",
       "    .dataframe thead th {\n",
       "        text-align: right;\n",
       "    }\n",
       "</style>\n",
       "<table border=\"1\" class=\"dataframe\">\n",
       "  <thead>\n",
       "    <tr style=\"text-align: right;\">\n",
       "      <th></th>\n",
       "      <th>El Universal</th>\n",
       "      <th>La Prensa</th>\n",
       "      <th>La Jornada</th>\n",
       "      <th>Expansión</th>\n",
       "      <th>Heraldo</th>\n",
       "      <th>Crónica</th>\n",
       "      <th>Razón</th>\n",
       "    </tr>\n",
       "  </thead>\n",
       "  <tbody>\n",
       "    <tr>\n",
       "      <th>0</th>\n",
       "      <td>Nueva jornada de protestas en Cancún termina c...</td>\n",
       "      <td>Hallan cuerpo de mujer en la orilla de un río ...</td>\n",
       "      <td>Proceso contra agresor de saxofonista oaxaqueñ...</td>\n",
       "      <td>Policías dispersan a balazos manifestación por...</td>\n",
       "      <td>Jueza acepta solicitud para retirar cargos a S...</td>\n",
       "      <td>Detienen a dos implicados en el feminicidio qu...</td>\n",
       "      <td>Asume Flor Ruiz Cosío secretaría de Ayuntamien...</td>\n",
       "    </tr>\n",
       "    <tr>\n",
       "      <th>1</th>\n",
       "      <td>Vandalizan en protesta edificios públicos, en ...</td>\n",
       "      <td>Feministas de Quintana Roo acusas a grupos pol...</td>\n",
       "      <td>Día de la Militancia Peronista; debaten impues...</td>\n",
       "      <td>Una manifestación por el asesinato de la joven...</td>\n",
       "      <td>Sí hubo intervención diplomática para lograr a...</td>\n",
       "      <td>Toluca continua sumando casos de feminicidios</td>\n",
       "      <td>Se acabó la impunidad: Cuitláhuac García</td>\n",
       "    </tr>\n",
       "    <tr>\n",
       "      <th>2</th>\n",
       "      <td>Protestan en zona hotelera de Cancún por femin...</td>\n",
       "      <td>Cárcel de 55 años a quien golpeó y estranguló ...</td>\n",
       "      <td>Analizan jueces y magistrados nuevos retos de ...</td>\n",
       "      <td>#ColumnaInvitada | De feminicidios, policías y...</td>\n",
       "      <td>Arman gresca y roban a niñas</td>\n",
       "      <td>Marchan cientos contra feminicidios en Cancún</td>\n",
       "      <td>Caen 2 más por feminicidio de Alexis; suman 5 ...</td>\n",
       "    </tr>\n",
       "    <tr>\n",
       "      <th>3</th>\n",
       "      <td>Protesta contra feminicidios llega por primera...</td>\n",
       "      <td>Exigen justicia por Yuri, joven asesinada por ...</td>\n",
       "      <td>Destaca AMLO actuación del gobernador de Q. Ro...</td>\n",
       "      <td>El uso excesivo de la fuerza por policías en C...</td>\n",
       "      <td>Familias identifican a víctimas</td>\n",
       "      <td>Otra marcha contra los feminicidios en Cancún</td>\n",
       "      <td>Se manifiestan en Cancún por desapariciones y ...</td>\n",
       "    </tr>\n",
       "    <tr>\n",
       "      <th>4</th>\n",
       "      <td>Colectivos y familiares de víctimas piden just...</td>\n",
       "      <td>Cae sujeto que violó y mató a puñaladas a una ...</td>\n",
       "      <td>Detienen a dos presuntos involucrados en el as...</td>\n",
       "      <td>Policías dispersan a balazos manifestación por...</td>\n",
       "      <td>Cuatro mil mujeres reciben salario rosa en el ...</td>\n",
       "      <td>Cientos de mujeres marchan en Cancún para exig...</td>\n",
       "      <td>Grupos feministas vandalizan sede de la FGJCDMX</td>\n",
       "    </tr>\n",
       "    <tr>\n",
       "      <th>5</th>\n",
       "      <td>Protestan mujeres contra feminicidios; reporta...</td>\n",
       "      <td>Detienen a presuntos responsables del feminici...</td>\n",
       "      <td>Reportan dos feminicidios perpetrados anoche e...</td>\n",
       "      <td>Los uniformados dispararon armas largas al air...</td>\n",
       "      <td>¡Indignación mundial! Niña de 13 años es OBLIG...</td>\n",
       "      <td>Policias municipales detienen a menores de eda...</td>\n",
       "      <td>Vandalizan estación de Metrobús en protesta po...</td>\n",
       "    </tr>\n",
       "    <tr>\n",
       "      <th>6</th>\n",
       "      <td>A Wendy le rociaron gasolina y prendieron fueg...</td>\n",
       "      <td>Detienen a presuntos feminicidas de Alexis en ...</td>\n",
       "      <td>Protesta feminista de casi 6 horas en Cancún; ...</td>\n",
       "      <td>Durazo deja la Secretaría de Seguridad con aum...</td>\n",
       "      <td>Bomberos impiden que hombre se ARROJE de puent...</td>\n",
       "      <td>Inicia proyecto Malinche-Malinches con 270 mic...</td>\n",
       "      <td>Escalada contra mujeres no cesa en Quintana Roo</td>\n",
       "    </tr>\n",
       "    <tr>\n",
       "      <th>7</th>\n",
       "      <td>Exhortan a respetar marchas</td>\n",
       "      <td>Repunta violencia de género en Quintana Roo</td>\n",
       "      <td>Decenas de mujeres marchan contra feminicidios...</td>\n",
       "      <td>En el que fue su último informe de incidencia ...</td>\n",
       "      <td>Alberto Fernández revela que enviará proyecto ...</td>\n",
       "      <td>Colectivas feministas rinden homenaje a victim...</td>\n",
       "      <td>Mujeres detenidas en manifestación de Cancún d...</td>\n",
       "    </tr>\n",
       "    <tr>\n",
       "      <th>8</th>\n",
       "      <td>Despiden a Alexis; la recuerdan como defensora...</td>\n",
       "      <td>Condena ONU Mujeres excesos policiacos durante...</td>\n",
       "      <td>Protestan en la CDMX por feminicidio de Alexis</td>\n",
       "      <td>Conoce el documental de Netflix sobre el femin...</td>\n",
       "      <td>Joven sufre aparatoso accidente y sale \"voland...</td>\n",
       "      <td>Detienen a presuntos autores materiales del fe...</td>\n",
       "      <td>#JusticiaParaAlexis: Hay 3 detenidos por su fe...</td>\n",
       "    </tr>\n",
       "    <tr>\n",
       "      <th>9</th>\n",
       "      <td>\"Justicia por Karla y las que nos faltan”, exi...</td>\n",
       "      <td>Basta de represión en contra de las mujeres: K...</td>\n",
       "      <td>Protesta en CDMX contra represión a marcha por...</td>\n",
       "      <td>‘Las tres muertes de Marisela Escobedo’ retrat...</td>\n",
       "      <td>Niños agresores serían resultado de la exposic...</td>\n",
       "      <td>Amnistía no ve avances contra la violencia de ...</td>\n",
       "      <td>Asesinan a otra mujer en Cancún; hay un detenido</td>\n",
       "    </tr>\n",
       "    <tr>\n",
       "      <th>10</th>\n",
       "      <td>Encapuchadas protestan en la Roma contra repre...</td>\n",
       "      <td>Asesinan a Karina dentro de su casa, momentos ...</td>\n",
       "      <td>López Obrador: con Sí por México se agravará e...</td>\n",
       "      <td>Las claves del feminicidio de Jessica González...</td>\n",
       "      <td>Gobierno de Quintana Roo reanuda la mesa de di...</td>\n",
       "      <td>Olga Sánchez Cordero condena asesinato de Jessica</td>\n",
       "      <td>En Quintana Roo, arrestan a dos presuntos impl...</td>\n",
       "    </tr>\n",
       "    <tr>\n",
       "      <th>11</th>\n",
       "      <td>Lo que sabemos del feminicidio de Alexis en Qu...</td>\n",
       "      <td>Hallan muerta a Adriana Murrieta, la influence...</td>\n",
       "      <td>Realizarán mural en Chimalhuacán para víctimas...</td>\n",
       "      <td>El pasado 25 de septiembre, Jessica fue hallad...</td>\n",
       "      <td>Capturan a tres sujetos que colocaban trampas ...</td>\n",
       "      <td>Exigen aborto en todo el país; se registran de...</td>\n",
       "      <td>Nombra Carlos Joaquín a nuevo encargado de SSP...</td>\n",
       "    </tr>\n",
       "    <tr>\n",
       "      <th>12</th>\n",
       "      <td>Feministas colocan ofrendas a víctimas</td>\n",
       "      <td>Familiares exigen justicia por Susana, quincea...</td>\n",
       "      <td>Anuncia gobernador de QRoo nuevo titular de la...</td>\n",
       "      <td>En México, 60% de los feminicidios son cometid...</td>\n",
       "      <td>Detienen a dos presuntos feminicidas de Alexis...</td>\n",
       "      <td>Contexto social, el mayor desafío para el Proc...</td>\n",
       "      <td>Realizan tercer cateo por el feminicidio de Al...</td>\n",
       "    </tr>\n",
       "    <tr>\n",
       "      <th>13</th>\n",
       "      <td>Fernanda, Verónica y Beatriz ya tienen ofrenda...</td>\n",
       "      <td>Sentencia de 62 años de prisión por asfixiar a...</td>\n",
       "      <td>Feministas protestan frente a la sede del esta...</td>\n",
       "      <td>El cuerpo de las mujeres es utilizado como ven...</td>\n",
       "      <td>Infiltran vándalos marcha</td>\n",
       "      <td>\"No venimos a pasear ni a hacer campaña para n...</td>\n",
       "      <td>“Pensé que no la iba a librar”, relata tras pr...</td>\n",
       "    </tr>\n",
       "    <tr>\n",
       "      <th>14</th>\n",
       "      <td>Con una ofrenda y veladoras, feministas recuer...</td>\n",
       "      <td>Detienen a sujeto investigado por presunto fem...</td>\n",
       "      <td>Otra mujer asesinada en Cancún; un detenido</td>\n",
       "      <td>Homicidios, feminicidios y delitos de delincue...</td>\n",
       "      <td>Aumentan heridos y muertos por explosión de pi...</td>\n",
       "      <td>“No somos burla de nadie... si autoridades y g...</td>\n",
       "      <td>Gobernador de Q. Roo advierte que no habrá imp...</td>\n",
       "    </tr>\n",
       "    <tr>\n",
       "      <th>15</th>\n",
       "      <td>En la FGJ se está acabando la revictimización ...</td>\n",
       "      <td>Cadena perpetua a feminicida que apuñaló a su ...</td>\n",
       "      <td>Celebra AMLO destitución en Q Roo de mandos po...</td>\n",
       "      <td>El secretario de Seguridad, Alfonso Durazo, ma...</td>\n",
       "      <td>Niño de 11 años muere tras sufrir caída de col...</td>\n",
       "      <td>AI: AMLO dio otros datos en su informe; femini...</td>\n",
       "      <td>Encaran periodistas a Mara Lezama tras actos d...</td>\n",
       "    </tr>\n",
       "    <tr>\n",
       "      <th>16</th>\n",
       "      <td>Edomex suma 106 feminicidios en lo que va del ...</td>\n",
       "      <td>Estranguló a su pareja y quiso hacer creer que...</td>\n",
       "      <td>El gobernador Joaquín y la edil Lezama se desl...</td>\n",
       "      <td>Diputadas y FGR buscan homologar pena por femi...</td>\n",
       "      <td>Muere Carlos Quiñones Armendáriz, fundador de ...</td>\n",
       "      <td>Nueva normalidad destapa aumento de violencia ...</td>\n",
       "      <td>Exigen periodistas justicia tras agresión en C...</td>\n",
       "    </tr>\n",
       "    <tr>\n",
       "      <th>17</th>\n",
       "      <td>Presentan documental sobre Primera Caravana co...</td>\n",
       "      <td>NaN</td>\n",
       "      <td>ONU Mujeres, CNDH y ONG condenan uso de la fue...</td>\n",
       "      <td>La propuesta de homologación para el tipo pena...</td>\n",
       "      <td>Menores reportados como ausentes son localizad...</td>\n",
       "      <td>Semáforo delictivo: homicidio, extorsión, narc...</td>\n",
       "      <td>Exige AMLO investigación tras disparos para di...</td>\n",
       "    </tr>\n",
       "    <tr>\n",
       "      <th>18</th>\n",
       "      <td>Destruyen ofrenda que colocó colectivo en Zump...</td>\n",
       "      <td>NaN</td>\n",
       "      <td>Reclaman a edil de Cancún por reporteros herid...</td>\n",
       "      <td>Feminicidios alcanzan en junio la cifra más al...</td>\n",
       "      <td>Becas Bienestar 2020: Cuáles son los REQUISITO...</td>\n",
       "      <td>Familias de víctimas de feminicidio y artesano...</td>\n",
       "      <td>Exigen justicia por feminicidio de Bianca Alej...</td>\n",
       "    </tr>\n",
       "    <tr>\n",
       "      <th>19</th>\n",
       "      <td>NaN</td>\n",
       "      <td>NaN</td>\n",
       "      <td>OCNF se suma a condena por respuesta policial ...</td>\n",
       "      <td>En junio fueron asesinadas 309 mujeres, tomand...</td>\n",
       "      <td>Fiscalía Quintana Roo lleva a tribunales a dos...</td>\n",
       "      <td>Con algunas riñas, avanza marcha feminista hac...</td>\n",
       "      <td>Cuitláhuac García: Delitos de alto impacto baj...</td>\n",
       "    </tr>\n",
       "    <tr>\n",
       "      <th>20</th>\n",
       "      <td>NaN</td>\n",
       "      <td>NaN</td>\n",
       "      <td>NaN</td>\n",
       "      <td>Un menor recibe condena por el feminicidio de ...</td>\n",
       "      <td>NaN</td>\n",
       "      <td>Promoverán en Senado Fiscalía Especializada en...</td>\n",
       "      <td>NaN</td>\n",
       "    </tr>\n",
       "    <tr>\n",
       "      <th>21</th>\n",
       "      <td>NaN</td>\n",
       "      <td>NaN</td>\n",
       "      <td>NaN</td>\n",
       "      <td>En diciembre pasado, la estudiante de 15 años ...</td>\n",
       "      <td>NaN</td>\n",
       "      <td>Senado avala prisión oficiosa por delitos elec...</td>\n",
       "      <td>NaN</td>\n",
       "    </tr>\n",
       "    <tr>\n",
       "      <th>22</th>\n",
       "      <td>NaN</td>\n",
       "      <td>NaN</td>\n",
       "      <td>NaN</td>\n",
       "      <td>La violencia y la represión de protestas golpe...</td>\n",
       "      <td>NaN</td>\n",
       "      <td>Se disparan feminicidios y violencia familiar ...</td>\n",
       "      <td>NaN</td>\n",
       "    </tr>\n",
       "    <tr>\n",
       "      <th>23</th>\n",
       "      <td>NaN</td>\n",
       "      <td>NaN</td>\n",
       "      <td>NaN</td>\n",
       "      <td>Tras la represión de una protesta por el femin...</td>\n",
       "      <td>NaN</td>\n",
       "      <td>Crecen 81% violencia y agresiones contra mujer...</td>\n",
       "      <td>NaN</td>\n",
       "    </tr>\n",
       "    <tr>\n",
       "      <th>24</th>\n",
       "      <td>NaN</td>\n",
       "      <td>NaN</td>\n",
       "      <td>NaN</td>\n",
       "      <td>Nuevo León aprueba una reforma para considerar...</td>\n",
       "      <td>NaN</td>\n",
       "      <td>Detienen a seis por feminicidio de Angie Michelle</td>\n",
       "      <td>NaN</td>\n",
       "    </tr>\n",
       "    <tr>\n",
       "      <th>25</th>\n",
       "      <td>NaN</td>\n",
       "      <td>NaN</td>\n",
       "      <td>NaN</td>\n",
       "      <td>Con el cambio a la Constitución del estado, qu...</td>\n",
       "      <td>NaN</td>\n",
       "      <td>Bajan homicidios dolosos; feminicidios repunta...</td>\n",
       "      <td>NaN</td>\n",
       "    </tr>\n",
       "    <tr>\n",
       "      <th>26</th>\n",
       "      <td>NaN</td>\n",
       "      <td>NaN</td>\n",
       "      <td>NaN</td>\n",
       "      <td>México cerró febrero con 2,858 asesinatos y un...</td>\n",
       "      <td>NaN</td>\n",
       "      <td>Póker de damas, un denuncia de los transfemini...</td>\n",
       "      <td>NaN</td>\n",
       "    </tr>\n",
       "    <tr>\n",
       "      <th>27</th>\n",
       "      <td>NaN</td>\n",
       "      <td>NaN</td>\n",
       "      <td>NaN</td>\n",
       "      <td>De enero a febrero de este año, se registró un...</td>\n",
       "      <td>NaN</td>\n",
       "      <td>El SESNSP culpa a estados de esconder cifras d...</td>\n",
       "      <td>NaN</td>\n",
       "    </tr>\n",
       "    <tr>\n",
       "      <th>28</th>\n",
       "      <td>NaN</td>\n",
       "      <td>NaN</td>\n",
       "      <td>NaN</td>\n",
       "      <td>Esto no es una lucha campal de hombres contra ...</td>\n",
       "      <td>NaN</td>\n",
       "      <td>En abril se registraron 2,950 homicidios dolos...</td>\n",
       "      <td>NaN</td>\n",
       "    </tr>\n",
       "    <tr>\n",
       "      <th>29</th>\n",
       "      <td>NaN</td>\n",
       "      <td>NaN</td>\n",
       "      <td>NaN</td>\n",
       "      <td>NaN</td>\n",
       "      <td>NaN</td>\n",
       "      <td>Feminicidios: una interpretación errónea</td>\n",
       "      <td>NaN</td>\n",
       "    </tr>\n",
       "  </tbody>\n",
       "</table>\n",
       "</div>"
      ],
      "text/plain": [
       "                                         El Universal  \\\n",
       "0   Nueva jornada de protestas en Cancún termina c...   \n",
       "1   Vandalizan en protesta edificios públicos, en ...   \n",
       "2   Protestan en zona hotelera de Cancún por femin...   \n",
       "3   Protesta contra feminicidios llega por primera...   \n",
       "4   Colectivos y familiares de víctimas piden just...   \n",
       "5   Protestan mujeres contra feminicidios; reporta...   \n",
       "6   A Wendy le rociaron gasolina y prendieron fueg...   \n",
       "7                         Exhortan a respetar marchas   \n",
       "8   Despiden a Alexis; la recuerdan como defensora...   \n",
       "9   \"Justicia por Karla y las que nos faltan”, exi...   \n",
       "10  Encapuchadas protestan en la Roma contra repre...   \n",
       "11  Lo que sabemos del feminicidio de Alexis en Qu...   \n",
       "12             Feministas colocan ofrendas a víctimas   \n",
       "13  Fernanda, Verónica y Beatriz ya tienen ofrenda...   \n",
       "14  Con una ofrenda y veladoras, feministas recuer...   \n",
       "15  En la FGJ se está acabando la revictimización ...   \n",
       "16  Edomex suma 106 feminicidios en lo que va del ...   \n",
       "17  Presentan documental sobre Primera Caravana co...   \n",
       "18  Destruyen ofrenda que colocó colectivo en Zump...   \n",
       "19                                                NaN   \n",
       "20                                                NaN   \n",
       "21                                                NaN   \n",
       "22                                                NaN   \n",
       "23                                                NaN   \n",
       "24                                                NaN   \n",
       "25                                                NaN   \n",
       "26                                                NaN   \n",
       "27                                                NaN   \n",
       "28                                                NaN   \n",
       "29                                                NaN   \n",
       "\n",
       "                                            La Prensa  \\\n",
       "0   Hallan cuerpo de mujer en la orilla de un río ...   \n",
       "1   Feministas de Quintana Roo acusas a grupos pol...   \n",
       "2   Cárcel de 55 años a quien golpeó y estranguló ...   \n",
       "3   Exigen justicia por Yuri, joven asesinada por ...   \n",
       "4   Cae sujeto que violó y mató a puñaladas a una ...   \n",
       "5   Detienen a presuntos responsables del feminici...   \n",
       "6   Detienen a presuntos feminicidas de Alexis en ...   \n",
       "7         Repunta violencia de género en Quintana Roo   \n",
       "8   Condena ONU Mujeres excesos policiacos durante...   \n",
       "9   Basta de represión en contra de las mujeres: K...   \n",
       "10  Asesinan a Karina dentro de su casa, momentos ...   \n",
       "11  Hallan muerta a Adriana Murrieta, la influence...   \n",
       "12  Familiares exigen justicia por Susana, quincea...   \n",
       "13  Sentencia de 62 años de prisión por asfixiar a...   \n",
       "14  Detienen a sujeto investigado por presunto fem...   \n",
       "15  Cadena perpetua a feminicida que apuñaló a su ...   \n",
       "16  Estranguló a su pareja y quiso hacer creer que...   \n",
       "17                                                NaN   \n",
       "18                                                NaN   \n",
       "19                                                NaN   \n",
       "20                                                NaN   \n",
       "21                                                NaN   \n",
       "22                                                NaN   \n",
       "23                                                NaN   \n",
       "24                                                NaN   \n",
       "25                                                NaN   \n",
       "26                                                NaN   \n",
       "27                                                NaN   \n",
       "28                                                NaN   \n",
       "29                                                NaN   \n",
       "\n",
       "                                           La Jornada  \\\n",
       "0   Proceso contra agresor de saxofonista oaxaqueñ...   \n",
       "1   Día de la Militancia Peronista; debaten impues...   \n",
       "2   Analizan jueces y magistrados nuevos retos de ...   \n",
       "3   Destaca AMLO actuación del gobernador de Q. Ro...   \n",
       "4   Detienen a dos presuntos involucrados en el as...   \n",
       "5   Reportan dos feminicidios perpetrados anoche e...   \n",
       "6   Protesta feminista de casi 6 horas en Cancún; ...   \n",
       "7   Decenas de mujeres marchan contra feminicidios...   \n",
       "8      Protestan en la CDMX por feminicidio de Alexis   \n",
       "9   Protesta en CDMX contra represión a marcha por...   \n",
       "10  López Obrador: con Sí por México se agravará e...   \n",
       "11  Realizarán mural en Chimalhuacán para víctimas...   \n",
       "12  Anuncia gobernador de QRoo nuevo titular de la...   \n",
       "13  Feministas protestan frente a la sede del esta...   \n",
       "14        Otra mujer asesinada en Cancún; un detenido   \n",
       "15  Celebra AMLO destitución en Q Roo de mandos po...   \n",
       "16  El gobernador Joaquín y la edil Lezama se desl...   \n",
       "17  ONU Mujeres, CNDH y ONG condenan uso de la fue...   \n",
       "18  Reclaman a edil de Cancún por reporteros herid...   \n",
       "19  OCNF se suma a condena por respuesta policial ...   \n",
       "20                                                NaN   \n",
       "21                                                NaN   \n",
       "22                                                NaN   \n",
       "23                                                NaN   \n",
       "24                                                NaN   \n",
       "25                                                NaN   \n",
       "26                                                NaN   \n",
       "27                                                NaN   \n",
       "28                                                NaN   \n",
       "29                                                NaN   \n",
       "\n",
       "                                            Expansión  \\\n",
       "0   Policías dispersan a balazos manifestación por...   \n",
       "1   Una manifestación por el asesinato de la joven...   \n",
       "2   #ColumnaInvitada | De feminicidios, policías y...   \n",
       "3   El uso excesivo de la fuerza por policías en C...   \n",
       "4   Policías dispersan a balazos manifestación por...   \n",
       "5   Los uniformados dispararon armas largas al air...   \n",
       "6   Durazo deja la Secretaría de Seguridad con aum...   \n",
       "7   En el que fue su último informe de incidencia ...   \n",
       "8   Conoce el documental de Netflix sobre el femin...   \n",
       "9   ‘Las tres muertes de Marisela Escobedo’ retrat...   \n",
       "10  Las claves del feminicidio de Jessica González...   \n",
       "11  El pasado 25 de septiembre, Jessica fue hallad...   \n",
       "12  En México, 60% de los feminicidios son cometid...   \n",
       "13  El cuerpo de las mujeres es utilizado como ven...   \n",
       "14  Homicidios, feminicidios y delitos de delincue...   \n",
       "15  El secretario de Seguridad, Alfonso Durazo, ma...   \n",
       "16  Diputadas y FGR buscan homologar pena por femi...   \n",
       "17  La propuesta de homologación para el tipo pena...   \n",
       "18  Feminicidios alcanzan en junio la cifra más al...   \n",
       "19  En junio fueron asesinadas 309 mujeres, tomand...   \n",
       "20  Un menor recibe condena por el feminicidio de ...   \n",
       "21  En diciembre pasado, la estudiante de 15 años ...   \n",
       "22  La violencia y la represión de protestas golpe...   \n",
       "23  Tras la represión de una protesta por el femin...   \n",
       "24  Nuevo León aprueba una reforma para considerar...   \n",
       "25  Con el cambio a la Constitución del estado, qu...   \n",
       "26  México cerró febrero con 2,858 asesinatos y un...   \n",
       "27  De enero a febrero de este año, se registró un...   \n",
       "28  Esto no es una lucha campal de hombres contra ...   \n",
       "29                                                NaN   \n",
       "\n",
       "                                              Heraldo  \\\n",
       "0   Jueza acepta solicitud para retirar cargos a S...   \n",
       "1   Sí hubo intervención diplomática para lograr a...   \n",
       "2                        Arman gresca y roban a niñas   \n",
       "3                     Familias identifican a víctimas   \n",
       "4   Cuatro mil mujeres reciben salario rosa en el ...   \n",
       "5   ¡Indignación mundial! Niña de 13 años es OBLIG...   \n",
       "6   Bomberos impiden que hombre se ARROJE de puent...   \n",
       "7   Alberto Fernández revela que enviará proyecto ...   \n",
       "8   Joven sufre aparatoso accidente y sale \"voland...   \n",
       "9   Niños agresores serían resultado de la exposic...   \n",
       "10  Gobierno de Quintana Roo reanuda la mesa de di...   \n",
       "11  Capturan a tres sujetos que colocaban trampas ...   \n",
       "12  Detienen a dos presuntos feminicidas de Alexis...   \n",
       "13                          Infiltran vándalos marcha   \n",
       "14  Aumentan heridos y muertos por explosión de pi...   \n",
       "15  Niño de 11 años muere tras sufrir caída de col...   \n",
       "16  Muere Carlos Quiñones Armendáriz, fundador de ...   \n",
       "17  Menores reportados como ausentes son localizad...   \n",
       "18  Becas Bienestar 2020: Cuáles son los REQUISITO...   \n",
       "19  Fiscalía Quintana Roo lleva a tribunales a dos...   \n",
       "20                                                NaN   \n",
       "21                                                NaN   \n",
       "22                                                NaN   \n",
       "23                                                NaN   \n",
       "24                                                NaN   \n",
       "25                                                NaN   \n",
       "26                                                NaN   \n",
       "27                                                NaN   \n",
       "28                                                NaN   \n",
       "29                                                NaN   \n",
       "\n",
       "                                              Crónica  \\\n",
       "0   Detienen a dos implicados en el feminicidio qu...   \n",
       "1       Toluca continua sumando casos de feminicidios   \n",
       "2       Marchan cientos contra feminicidios en Cancún   \n",
       "3       Otra marcha contra los feminicidios en Cancún   \n",
       "4   Cientos de mujeres marchan en Cancún para exig...   \n",
       "5   Policias municipales detienen a menores de eda...   \n",
       "6   Inicia proyecto Malinche-Malinches con 270 mic...   \n",
       "7   Colectivas feministas rinden homenaje a victim...   \n",
       "8   Detienen a presuntos autores materiales del fe...   \n",
       "9   Amnistía no ve avances contra la violencia de ...   \n",
       "10  Olga Sánchez Cordero condena asesinato de Jessica   \n",
       "11  Exigen aborto en todo el país; se registran de...   \n",
       "12  Contexto social, el mayor desafío para el Proc...   \n",
       "13  \"No venimos a pasear ni a hacer campaña para n...   \n",
       "14  “No somos burla de nadie... si autoridades y g...   \n",
       "15  AI: AMLO dio otros datos en su informe; femini...   \n",
       "16  Nueva normalidad destapa aumento de violencia ...   \n",
       "17  Semáforo delictivo: homicidio, extorsión, narc...   \n",
       "18  Familias de víctimas de feminicidio y artesano...   \n",
       "19  Con algunas riñas, avanza marcha feminista hac...   \n",
       "20  Promoverán en Senado Fiscalía Especializada en...   \n",
       "21  Senado avala prisión oficiosa por delitos elec...   \n",
       "22  Se disparan feminicidios y violencia familiar ...   \n",
       "23  Crecen 81% violencia y agresiones contra mujer...   \n",
       "24  Detienen a seis por feminicidio de Angie Michelle   \n",
       "25  Bajan homicidios dolosos; feminicidios repunta...   \n",
       "26  Póker de damas, un denuncia de los transfemini...   \n",
       "27  El SESNSP culpa a estados de esconder cifras d...   \n",
       "28  En abril se registraron 2,950 homicidios dolos...   \n",
       "29           Feminicidios: una interpretación errónea   \n",
       "\n",
       "                                                Razón  \n",
       "0   Asume Flor Ruiz Cosío secretaría de Ayuntamien...  \n",
       "1            Se acabó la impunidad: Cuitláhuac García  \n",
       "2   Caen 2 más por feminicidio de Alexis; suman 5 ...  \n",
       "3   Se manifiestan en Cancún por desapariciones y ...  \n",
       "4     Grupos feministas vandalizan sede de la FGJCDMX  \n",
       "5   Vandalizan estación de Metrobús en protesta po...  \n",
       "6     Escalada contra mujeres no cesa en Quintana Roo  \n",
       "7   Mujeres detenidas en manifestación de Cancún d...  \n",
       "8   #JusticiaParaAlexis: Hay 3 detenidos por su fe...  \n",
       "9    Asesinan a otra mujer en Cancún; hay un detenido  \n",
       "10  En Quintana Roo, arrestan a dos presuntos impl...  \n",
       "11  Nombra Carlos Joaquín a nuevo encargado de SSP...  \n",
       "12  Realizan tercer cateo por el feminicidio de Al...  \n",
       "13  “Pensé que no la iba a librar”, relata tras pr...  \n",
       "14  Gobernador de Q. Roo advierte que no habrá imp...  \n",
       "15  Encaran periodistas a Mara Lezama tras actos d...  \n",
       "16  Exigen periodistas justicia tras agresión en C...  \n",
       "17  Exige AMLO investigación tras disparos para di...  \n",
       "18  Exigen justicia por feminicidio de Bianca Alej...  \n",
       "19  Cuitláhuac García: Delitos de alto impacto baj...  \n",
       "20                                                NaN  \n",
       "21                                                NaN  \n",
       "22                                                NaN  \n",
       "23                                                NaN  \n",
       "24                                                NaN  \n",
       "25                                                NaN  \n",
       "26                                                NaN  \n",
       "27                                                NaN  \n",
       "28                                                NaN  \n",
       "29                                                NaN  "
      ]
     },
     "execution_count": 301,
     "metadata": {},
     "output_type": "execute_result"
    }
   ],
   "source": [
    "new "
   ]
  },
  {
   "cell_type": "code",
   "execution_count": null,
   "metadata": {},
   "outputs": [],
   "source": []
  }
 ],
 "metadata": {
  "kernelspec": {
   "display_name": "Python 3",
   "language": "python",
   "name": "python3"
  },
  "language_info": {
   "codemirror_mode": {
    "name": "ipython",
    "version": 3
   },
   "file_extension": ".py",
   "mimetype": "text/x-python",
   "name": "python",
   "nbconvert_exporter": "python",
   "pygments_lexer": "ipython3",
   "version": "3.8.5"
  }
 },
 "nbformat": 4,
 "nbformat_minor": 4
}
